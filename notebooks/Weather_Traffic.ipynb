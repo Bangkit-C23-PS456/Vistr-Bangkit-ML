{
  "cells": [
    {
      "cell_type": "code",
      "execution_count": null,
      "metadata": {
        "colab": {
          "base_uri": "https://localhost:8080/"
        },
        "id": "Bfhsc4ZCFj1U",
        "outputId": "a09461bc-1e8a-4c18-a396-5f3341b0fc33"
      },
      "outputs": [
        {
          "name": "stdout",
          "output_type": "stream",
          "text": [
            "Looking in indexes: https://pypi.org/simple, https://us-python.pkg.dev/colab-wheels/public/simple/\n",
            "Collecting googlemaps\n",
            "  Downloading googlemaps-4.10.0.tar.gz (33 kB)\n",
            "  Preparing metadata (setup.py) ... \u001b[?25l\u001b[?25hdone\n",
            "Requirement already satisfied: requests<3.0,>=2.20.0 in /usr/local/lib/python3.10/dist-packages (from googlemaps) (2.27.1)\n",
            "Requirement already satisfied: urllib3<1.27,>=1.21.1 in /usr/local/lib/python3.10/dist-packages (from requests<3.0,>=2.20.0->googlemaps) (1.26.15)\n",
            "Requirement already satisfied: certifi>=2017.4.17 in /usr/local/lib/python3.10/dist-packages (from requests<3.0,>=2.20.0->googlemaps) (2022.12.7)\n",
            "Requirement already satisfied: charset-normalizer~=2.0.0 in /usr/local/lib/python3.10/dist-packages (from requests<3.0,>=2.20.0->googlemaps) (2.0.12)\n",
            "Requirement already satisfied: idna<4,>=2.5 in /usr/local/lib/python3.10/dist-packages (from requests<3.0,>=2.20.0->googlemaps) (3.4)\n",
            "Building wheels for collected packages: googlemaps\n",
            "  Building wheel for googlemaps (setup.py) ... \u001b[?25l\u001b[?25hdone\n",
            "  Created wheel for googlemaps: filename=googlemaps-4.10.0-py3-none-any.whl size=40718 sha256=a0a7053a1a2956d707db216a8b419a0496760bfbda11bc5f58067995ab591612\n",
            "  Stored in directory: /root/.cache/pip/wheels/17/f8/79/999d5d37118fd35d7219ef57933eb9d09886c4c4503a800f84\n",
            "Successfully built googlemaps\n",
            "Installing collected packages: googlemaps\n",
            "Successfully installed googlemaps-4.10.0\n"
          ]
        }
      ],
      "source": [
        "pip install -U googlemaps"
      ]
    },
    {
      "cell_type": "code",
      "execution_count": 28,
      "metadata": {
        "colab": {
          "base_uri": "https://localhost:8080/",
          "height": 572
        },
        "id": "h5BG7nuX7Ls5",
        "outputId": "6ca50acf-b6e3-42c9-9126-c6357943e708"
      },
      "outputs": [
        {
          "name": "stdout",
          "output_type": "stream",
          "text": [
            "Looking in indexes: https://pypi.org/simple, https://us-python.pkg.dev/colab-wheels/public/simple/\n",
            "Collecting googletrans==4.0.0-rc1\n",
            "  Downloading googletrans-4.0.0rc1.tar.gz (20 kB)\n",
            "  Preparing metadata (setup.py) ... \u001b[?25l\u001b[?25hdone\n",
            "Requirement already satisfied: httpx==0.13.3 in /usr/local/lib/python3.10/dist-packages (from googletrans==4.0.0-rc1) (0.13.3)\n",
            "Requirement already satisfied: certifi in /usr/local/lib/python3.10/dist-packages (from httpx==0.13.3->googletrans==4.0.0-rc1) (2022.12.7)\n",
            "Requirement already satisfied: hstspreload in /usr/local/lib/python3.10/dist-packages (from httpx==0.13.3->googletrans==4.0.0-rc1) (2023.1.1)\n",
            "Requirement already satisfied: sniffio in /usr/local/lib/python3.10/dist-packages (from httpx==0.13.3->googletrans==4.0.0-rc1) (1.3.0)\n",
            "Requirement already satisfied: chardet==3.* in /usr/local/lib/python3.10/dist-packages (from httpx==0.13.3->googletrans==4.0.0-rc1) (3.0.4)\n",
            "Requirement already satisfied: idna==2.* in /usr/local/lib/python3.10/dist-packages (from httpx==0.13.3->googletrans==4.0.0-rc1) (2.10)\n",
            "Requirement already satisfied: rfc3986<2,>=1.3 in /usr/local/lib/python3.10/dist-packages (from httpx==0.13.3->googletrans==4.0.0-rc1) (1.5.0)\n",
            "Requirement already satisfied: httpcore==0.9.* in /usr/local/lib/python3.10/dist-packages (from httpx==0.13.3->googletrans==4.0.0-rc1) (0.9.1)\n",
            "Requirement already satisfied: h11<0.10,>=0.8 in /usr/local/lib/python3.10/dist-packages (from httpcore==0.9.*->httpx==0.13.3->googletrans==4.0.0-rc1) (0.9.0)\n",
            "Requirement already satisfied: h2==3.* in /usr/local/lib/python3.10/dist-packages (from httpcore==0.9.*->httpx==0.13.3->googletrans==4.0.0-rc1) (3.2.0)\n",
            "Requirement already satisfied: hyperframe<6,>=5.2.0 in /usr/local/lib/python3.10/dist-packages (from h2==3.*->httpcore==0.9.*->httpx==0.13.3->googletrans==4.0.0-rc1) (5.2.0)\n",
            "Requirement already satisfied: hpack<4,>=3.0 in /usr/local/lib/python3.10/dist-packages (from h2==3.*->httpcore==0.9.*->httpx==0.13.3->googletrans==4.0.0-rc1) (3.0.0)\n",
            "Building wheels for collected packages: googletrans\n",
            "  Building wheel for googletrans (setup.py) ... \u001b[?25l\u001b[?25hdone\n",
            "  Created wheel for googletrans: filename=googletrans-4.0.0rc1-py3-none-any.whl size=17397 sha256=96e44ba6225ae5fd7152860948004c04a3e246e5a293276f85ea48a1676d4af3\n",
            "  Stored in directory: /root/.cache/pip/wheels/c0/59/9f/7372f0cf70160fe61b528532e1a7c8498c4becd6bcffb022de\n",
            "Successfully built googletrans\n",
            "Installing collected packages: googletrans\n",
            "  Attempting uninstall: googletrans\n",
            "    Found existing installation: googletrans 3.0.0\n",
            "    Uninstalling googletrans-3.0.0:\n",
            "      Successfully uninstalled googletrans-3.0.0\n",
            "Successfully installed googletrans-4.0.0rc1\n"
          ]
        },
        {
          "data": {
            "application/vnd.colab-display-data+json": {
              "pip_warning": {
                "packages": [
                  "googletrans"
                ]
              }
            }
          },
          "metadata": {},
          "output_type": "display_data"
        }
      ],
      "source": [
        "pip install googletrans==4.0.0-rc1"
      ]
    },
    {
      "cell_type": "code",
      "execution_count": 1,
      "metadata": {
        "id": "cLNysTcqExl-"
      },
      "outputs": [],
      "source": [
        "import googlemaps\n",
        "import requests\n",
        "import json\n",
        "\n",
        "# Replace 'YOUR_API_KEY' with your actual API key\n",
        "api_key = ''\n",
        "\n",
        "# Create a client instance\n",
        "gmaps = googlemaps.Client(api_key)\n",
        "\n",
        "# Define the latitude and longitude coordinates\n",
        "latitude = -1.2654\n",
        "longitude = 116.8311\n",
        "\n",
        "def get_traffic_condition(latitude, longitude):\n",
        "  # Request traffic information\n",
        "  traffic_result = gmaps.directions((latitude, longitude), (latitude, longitude + 0.1), mode=\"driving\", departure_time=\"now\", traffic_model=\"best_guess\")\n",
        "  return traffic_result\n",
        "  # Extract the traffic information\n",
        "  duration_without_traffic = traffic_result[0]['legs'][0]['duration']['value']\n",
        "  duration_in_traffic = traffic_result[0]['legs'][0]['duration_in_traffic']['value']\n",
        "  traffic_ratio = duration_in_traffic / duration_without_traffic\n",
        "  if traffic_ratio <= 0.7:  # Current if the ratio of travel time to traffic <= 0.7\n",
        "    traffic_status = \"Lancar\"\n",
        "  elif traffic_ratio <= 1.3:  # Crowded if the ratio of travel time to traffic is between 0.7 and 1.3\n",
        "    traffic_status = \"Ramai\"\n",
        "  elif traffic_ratio <= 2.0:  # Padat jika rasio waktu tempuh dengan lalu lintas antara 1.3 dan 2.0\n",
        "    traffic_status = \"Padat\"\n",
        "  else:  # Macet jika rasio waktu tempuh dengan lalu lintas > 2.0\n",
        "    traffic_status = \"Macet\"\n",
        "\n",
        "  return {\n",
        "      \"duration_without_traffic\":duration_without_traffic,\n",
        "      \"duration_with_traffic\":duration_in_traffic,\n",
        "      \"traffic_ratio\":traffic_ratio,\n",
        "      \"traffic_status\":traffic_status\n",
        "  }"
      ]
    },
    {
      "cell_type": "code",
      "execution_count": 11,
      "metadata": {
        "id": "N3jUd-sg2nHa"
      },
      "outputs": [],
      "source": [
        "import googlemaps\n",
        "import requests\n",
        "import json\n",
        "import re\n",
        "from googletrans import Translator\n",
        "\n",
        "\n",
        "# Replace 'YOUR_API_KEY' with your actual API key\n",
        "api_key = ''\n",
        "\n",
        "# Create a client instance\n",
        "gmaps = googlemaps.Client(api_key)\n",
        "\n",
        "# Define the latitude and longitude coordinates\n",
        "latitude_origin = -1.2654\n",
        "longitude_origin = 116.8311\n",
        "latitude_destination = -1.2654\n",
        "longitude_destination = 116.9311\n",
        "\n",
        "def remove_html_tags(text):\n",
        "    clean = re.compile('<.*?>')\n",
        "    return re.sub(clean, '', text)\n",
        "\n",
        "def capitalize_first_letter(sentence):\n",
        "    words = sentence.split()\n",
        "    capitalized_words = [word.capitalize() for word in words]\n",
        "    return ' '.join(capitalized_words)\n",
        "\n",
        "def create_route_description(latitude_origin, longitude_origin, latitude_destination, longitude_destination):\n",
        "  # Request traffic information\n",
        "  traffic_result = gmaps.directions((latitude_origin, longitude_origin), (latitude_destination, longitude_destination), mode=\"driving\", departure_time=\"now\", traffic_model=\"best_guess\")\n",
        "  steps = traffic_result[0]['legs'][0]['steps']\n",
        "\n",
        "  translator = Translator()\n",
        "\n",
        "  description = ''\n",
        "\n",
        "  for i, step in enumerate(steps):\n",
        "    instruction = remove_html_tags(step['html_instructions'])\n",
        "    distance = step['distance']['text']\n",
        "    duration = step['duration']['text']\n",
        "\n",
        "    if i == 0:\n",
        "      description += f\"Mulailah dengan {instruction.lower()} sejauh {distance} selama {duration}.\\n\"\n",
        "    elif i == len(steps) - 1:\n",
        "      description += f\"Beloklah ke {instruction.lower()}.\\nTujuan akhir akan berada di sebelah kiri.\"\n",
        "    else:\n",
        "      description += f\"{capitalize_first_letter(instruction)}. Jarak yang ditempuh sejauh {distance} selama {duration}.\\n\"\n",
        "\n",
        "  description = translator.translate(description, dest='id', src='en').text\n",
        "\n",
        "  return description"
      ]
    },
    {
      "cell_type": "code",
      "execution_count": 12,
      "metadata": {
        "colab": {
          "base_uri": "https://localhost:8080/"
        },
        "id": "7jkn2IQS30XI",
        "outputId": "2bece2f4-bffd-457f-a567-e4c24aaefeb6"
      },
      "outputs": [
        {
          "name": "stdout",
          "output_type": "stream",
          "text": [
            "Mulailah Delan Head Southeast Sejauh 8 M Selama 1 mnt.\n",
            "Belok kiri menuju JL.Telaga Sari II.Jarak Yang Ditempuh SEJAUH 28 M Selama 1 mnt.\n",
            "Belok kanan ke JL.Telaga Sari II.Jarak Yang Ditempuh SEJAUH 0,4 km Selama 2 menit.\n",
            "Belok kiri ke JL.Telaga Sari.Jarak Yang Ditempuh SEJAUH 0,2 km Selama 1 menit.\n",
            "Belok kanan ke JL.Re martadinata.Jarak Yang Ditempuh SEJAUH 0,2 km Selama 1 menit.\n",
            "Belok kiri ke JL.Kapten Piere Tendean.Jarak Yang Ditempuh SEJAUH 0,3 km Selama 1 menit.\n",
            "Belok kanan setelah Ikan Hias (di sebelah kiri) melewati Salon Widya (di sebelah kiri dalam 650m).Jarak Yang Ditempuh SEJAUH 1.2 km Selama 3 menit.\n",
            "Belok kiri setelah LPK Kaltim Balikpapan (di sebelah kiri) melewati KFC Coffee Pasar Baru (di sebelah kiri).Jarak Yang Ditempuh SEJAUH 2.2 km Selama 5 menit.\n",
            "Sedikit hak untuk tetap di JL.Jenderal Sudirman.Jarak Yang Ditempuh SEJAUH 2.5 km Selama 5 menit.\n",
            "Lanjutkan ke JL.Marsma R. Iswahyudi.Jarak Yang Ditempuh SEJAUH 4.0 km Selama 6 menit.\n",
            "Lanjutkan langsung untuk tetap di JL.Marsma R. Iswahyudi.Jarak Yang Ditempuh SEJAUH 1,5 km Selama 3 menit.\n",
            "Lanjutkan ke JL.Mulawarman.Jarak Yang Ditempuh SEJAUH 1.3 km Selama 2 menit.\n",
            "Buat U-Turn.Jarak Yang Ditempuh SEJAUH 0,2 km Selama 1 menit.\n",
            "Beloklah ke mengubah jalan penggunaan leftrictted.\n",
            "TUJUAN AKHIR AKAN BERADA DI Sebelah Kiri.\n"
          ]
        }
      ],
      "source": [
        "print(create_route_description(latitude_origin, longitude_origin, latitude_destination, longitude_destination))"
      ]
    },
    {
      "cell_type": "code",
      "execution_count": 12,
      "metadata": {
        "colab": {
          "base_uri": "https://localhost:8080/"
        },
        "id": "-cBBaY4MSu3G",
        "outputId": "b16cae33-d7ca-4435-b0ca-9e1986dec503"
      },
      "outputs": [
        {
          "data": {
            "text/plain": [
              "['model_prediksi_minimum.pkl']"
            ]
          },
          "execution_count": 12,
          "metadata": {},
          "output_type": "execute_result"
        }
      ],
      "source": [
        "import numpy as np\n",
        "from sklearn.linear_model import LinearRegression\n",
        "import joblib\n",
        "\n",
        "# Prediksi Bontang\n",
        "# Data suhu udara minimum\n",
        "suhu_udara_rata_rata = np.array([\n",
        "    [27.6, 27.6, 27.9, 27.8, 27.8, 27.8, 27.9, 28.0, 28.1, 27.8, 27.9, 28.2],\n",
        "    [29.2, 30.1, 29.8, 29.9, 29.7, 29.0, 29.2, 29.4, 30.3, 29.4, 29.7, 29.2],\n",
        "    [28.2, 28.6, 28.7, 28.6, 28.4, 27.6, 27.3, 27.5, 27.6, 28.0, 28.1, 27.7]\n",
        "])\n",
        "\n",
        "# Mengubah data menjadi bentuk yang sesuai untuk model\n",
        "X_minimum = np.array([[i+1 for i in range(12)] for _ in range(3)]).flatten().reshape(-1, 1)\n",
        "y_minimum = suhu_udara_rata_rata.flatten()\n",
        "\n",
        "# Membuat dan melatih model regresi linier\n",
        "model_rata_rata = LinearRegression()\n",
        "model_rata_rata.fit(X_minimum, y_minimum)\n",
        "\n",
        "# Menyimpan model ke file\n",
        "joblib.dump(model_rata_rata, \"model_prediksi_minimum.pkl\")"
      ]
    },
    {
      "cell_type": "code",
      "execution_count": 13,
      "metadata": {
        "colab": {
          "base_uri": "https://localhost:8080/"
        },
        "id": "GEd5rGHaUCwk",
        "outputId": "f851d12b-2fc3-4fb0-dc8c-3bda95c095f6"
      },
      "outputs": [
        {
          "name": "stdout",
          "output_type": "stream",
          "text": [
            "Masukkan bulan (Contoh: Januari): Juni\n",
            "Prediksi suhu udara minimum: 28.4989121989122\n"
          ]
        }
      ],
      "source": [
        "import numpy as np\n",
        "import joblib\n",
        "\n",
        "# Memuat model dari file\n",
        "model_minimum = joblib.load(\"model_prediksi_minimum.pkl\")\n",
        "\n",
        "# Mengubah bulan menjadi angka untuk representasi numerik\n",
        "bulan = {\n",
        "    'Januari': 1, 'Februari': 2, 'Maret': 3, 'April': 4, 'Mei': 5, 'Juni': 6,\n",
        "    'Juli': 7, 'Agustus': 8, 'September': 9, 'Oktober': 10, 'November': 11, 'Desember': 12\n",
        "}\n",
        "\n",
        "# Meminta input bulan dari pengguna\n",
        "input_bulan = input(\"Masukkan bulan (Contoh: Januari): \")\n",
        "\n",
        "# Mengambil angka representasi bulan dari input pengguna\n",
        "input_bulan_angka = bulan.get(input_bulan)\n",
        "\n",
        "if input_bulan_angka:\n",
        "    # Melakukan prediksi suhu udara minimum berdasarkan bulan yang diinputkan\n",
        "    input_bulan_angka_array = np.array([[input_bulan_angka]])\n",
        "    prediksi_minimum = model_minimum.predict(input_bulan_angka_array)\n",
        "\n",
        "    print(\"Prediksi suhu udara minimum:\", prediksi_minimum[0])\n",
        "else:\n",
        "    print(\"Bulan yang Anda inputkan tidak valid.\")"
      ]
    }
  ],
  "metadata": {
    "colab": {
      "provenance": []
    },
    "kernelspec": {
      "display_name": "Python 3",
      "name": "python3"
    },
    "language_info": {
      "name": "python"
    }
  },
  "nbformat": 4,
  "nbformat_minor": 0
}
