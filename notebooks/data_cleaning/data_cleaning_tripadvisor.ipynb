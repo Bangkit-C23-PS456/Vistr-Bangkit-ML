{
 "cells": [
  {
   "cell_type": "code",
   "execution_count": 1,
   "metadata": {},
   "outputs": [],
   "source": [
    "from dotenv import load_dotenv\n",
    "import os\n",
    "import pandas as pd"
   ]
  },
  {
   "cell_type": "code",
   "execution_count": 2,
   "metadata": {},
   "outputs": [],
   "source": [
    "# Memuat variabel lingkungan dari file .env\n",
    "load_dotenv()\n",
    "\n",
    "# Mengakses variabel lingkungan yang diatur dalam file .env\n",
    "project_path = os.getenv(\"PROJECT_FOLDER\")\n",
    "dataset_folder = 'data/raw_data/trip_advisor/excel'"
   ]
  },
  {
   "cell_type": "code",
   "execution_count": 3,
   "metadata": {},
   "outputs": [],
   "source": [
    "# List of dataset files\n",
    "files = [\n",
    "    f\"{project_path}/{dataset_folder}/balikpapan/balikpapan_todo.xlsx\",\n",
    "    f\"{project_path}/{dataset_folder}/penajam/penajam_todo.xlsx\",\n",
    "    f\"{project_path}/{dataset_folder}/samarinda/samarinda_todo.xlsx\",\n",
    "]\n",
    "\n",
    "# Read and concatenate all datasets into a single DataFrame\n",
    "df = pd.concat([pd.read_excel(file) for file in files])"
   ]
  },
  {
   "cell_type": "code",
   "execution_count": 4,
   "metadata": {},
   "outputs": [
    {
     "data": {
      "text/plain": [
       "(102, 321)"
      ]
     },
     "execution_count": 4,
     "metadata": {},
     "output_type": "execute_result"
    }
   ],
   "source": [
    "df.shape"
   ]
  },
  {
   "cell_type": "code",
   "execution_count": 1,
   "metadata": {},
   "outputs": [
    {
     "ename": "NameError",
     "evalue": "name 'df' is not defined",
     "output_type": "error",
     "traceback": [
      "\u001b[1;31m---------------------------------------------------------------------------\u001b[0m",
      "\u001b[1;31mNameError\u001b[0m                                 Traceback (most recent call last)",
      "Cell \u001b[1;32mIn[1], line 1\u001b[0m\n\u001b[1;32m----> 1\u001b[0m df\u001b[39m.\u001b[39mhead()\n",
      "\u001b[1;31mNameError\u001b[0m: name 'df' is not defined"
     ]
    }
   ],
   "source": [
    "df.head()"
   ]
  },
  {
   "cell_type": "code",
   "execution_count": 24,
   "metadata": {},
   "outputs": [],
   "source": [
    "new_df = df[['address', 'address_obj/city']].rename(\n",
    "        columns={'address_obj/city': 'city'}\n",
    "    )"
   ]
  },
  {
   "cell_type": "code",
   "execution_count": 25,
   "metadata": {},
   "outputs": [
    {
     "data": {
      "text/html": [
       "<div>\n",
       "<style scoped>\n",
       "    .dataframe tbody tr th:only-of-type {\n",
       "        vertical-align: middle;\n",
       "    }\n",
       "\n",
       "    .dataframe tbody tr th {\n",
       "        vertical-align: top;\n",
       "    }\n",
       "\n",
       "    .dataframe thead th {\n",
       "        text-align: right;\n",
       "    }\n",
       "</style>\n",
       "<table border=\"1\" class=\"dataframe\">\n",
       "  <thead>\n",
       "    <tr style=\"text-align: right;\">\n",
       "      <th></th>\n",
       "      <th>address</th>\n",
       "      <th>city</th>\n",
       "    </tr>\n",
       "  </thead>\n",
       "  <tbody>\n",
       "    <tr>\n",
       "      <th>0</th>\n",
       "      <td>Perumahan Graha indah, Balikpapan Indonesia</td>\n",
       "      <td>Balikpapan</td>\n",
       "    </tr>\n",
       "    <tr>\n",
       "      <th>1</th>\n",
       "      <td>Jln. Mulawarman, Balikpapan 76115 Indonesia</td>\n",
       "      <td>Balikpapan</td>\n",
       "    </tr>\n",
       "    <tr>\n",
       "      <th>2</th>\n",
       "      <td>Balikpapan Indonesia</td>\n",
       "      <td>Balikpapan</td>\n",
       "    </tr>\n",
       "    <tr>\n",
       "      <th>3</th>\n",
       "      <td>Jln. Jendral Sudirman, Balikpapan 76112 Indonesia</td>\n",
       "      <td>Balikpapan</td>\n",
       "    </tr>\n",
       "    <tr>\n",
       "      <th>4</th>\n",
       "      <td>Jln. Jendral Sudirman no. 47, Balikpapan 76114...</td>\n",
       "      <td>Balikpapan</td>\n",
       "    </tr>\n",
       "  </tbody>\n",
       "</table>\n",
       "</div>"
      ],
      "text/plain": [
       "                                             address        city\n",
       "0        Perumahan Graha indah, Balikpapan Indonesia  Balikpapan\n",
       "1        Jln. Mulawarman, Balikpapan 76115 Indonesia  Balikpapan\n",
       "2                               Balikpapan Indonesia  Balikpapan\n",
       "3  Jln. Jendral Sudirman, Balikpapan 76112 Indonesia  Balikpapan\n",
       "4  Jln. Jendral Sudirman no. 47, Balikpapan 76114...  Balikpapan"
      ]
     },
     "execution_count": 25,
     "metadata": {},
     "output_type": "execute_result"
    }
   ],
   "source": [
    "new_df.head()"
   ]
  }
 ],
 "metadata": {
  "kernelspec": {
   "display_name": "Python 3",
   "language": "python",
   "name": "python3"
  },
  "language_info": {
   "codemirror_mode": {
    "name": "ipython",
    "version": 3
   },
   "file_extension": ".py",
   "mimetype": "text/x-python",
   "name": "python",
   "nbconvert_exporter": "python",
   "pygments_lexer": "ipython3",
   "version": "3.9.6"
  },
  "orig_nbformat": 4
 },
 "nbformat": 4,
 "nbformat_minor": 2
}
