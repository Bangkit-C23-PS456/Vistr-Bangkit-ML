{
 "cells": [
  {
   "cell_type": "code",
   "execution_count": 8,
   "metadata": {},
   "outputs": [],
   "source": [
    "import pandas as pd\n",
    "\n",
    "# Membaca data dari file CSV\n",
    "data = pd.read_csv(\"D:/PROJECT/machine-learning/recomendation_system1/data/raw_data/tourism/tourism_with_id.csv\")"
   ]
  },
  {
   "cell_type": "code",
   "execution_count": 9,
   "metadata": {},
   "outputs": [
    {
     "name": "stdout",
     "output_type": "stream",
     "text": [
      "(437, 13)\n"
     ]
    }
   ],
   "source": [
    "print(data.shape)"
   ]
  },
  {
   "cell_type": "code",
   "execution_count": 10,
   "metadata": {},
   "outputs": [
    {
     "name": "stdout",
     "output_type": "stream",
     "text": [
      "<class 'pandas.core.frame.DataFrame'>\n",
      "RangeIndex: 437 entries, 0 to 436\n",
      "Data columns (total 13 columns):\n",
      " #   Column        Non-Null Count  Dtype  \n",
      "---  ------        --------------  -----  \n",
      " 0   Place_Id      437 non-null    int64  \n",
      " 1   Place_Name    437 non-null    object \n",
      " 2   Description   437 non-null    object \n",
      " 3   Category      437 non-null    object \n",
      " 4   City          437 non-null    object \n",
      " 5   Price         437 non-null    int64  \n",
      " 6   Rating        437 non-null    float64\n",
      " 7   Time_Minutes  205 non-null    float64\n",
      " 8   Coordinate    437 non-null    object \n",
      " 9   Lat           437 non-null    float64\n",
      " 10  Long          437 non-null    float64\n",
      " 11  Unnamed: 11   0 non-null      float64\n",
      " 12  Unnamed: 12   437 non-null    int64  \n",
      "dtypes: float64(5), int64(3), object(5)\n",
      "memory usage: 44.5+ KB\n",
      "None\n"
     ]
    }
   ],
   "source": [
    "print(data.info())"
   ]
  },
  {
   "cell_type": "code",
   "execution_count": 11,
   "metadata": {},
   "outputs": [
    {
     "name": "stdout",
     "output_type": "stream",
     "text": [
      "         Place_Id          Price      Rating  Time_Minutes         Lat  \\\n",
      "count  437.000000     437.000000  437.000000    205.000000  437.000000   \n",
      "mean   219.000000   24652.173913    4.442792     82.609756   -7.095438   \n",
      "std    126.295289   66446.374709    0.208587     52.872339    0.727241   \n",
      "min      1.000000       0.000000    3.400000     10.000000   -8.197894   \n",
      "25%    110.000000       0.000000    4.300000     45.000000   -7.749590   \n",
      "50%    219.000000    5000.000000    4.500000     60.000000   -7.020524   \n",
      "75%    328.000000   20000.000000    4.600000    120.000000   -6.829411   \n",
      "max    437.000000  900000.000000    5.000000    360.000000    1.078880   \n",
      "\n",
      "             Long  Unnamed: 11  Unnamed: 12  \n",
      "count  437.000000          0.0   437.000000  \n",
      "mean   109.160142          NaN   219.000000  \n",
      "std      1.962848          NaN   126.295289  \n",
      "min    103.931398          NaN     1.000000  \n",
      "25%    107.578369          NaN   110.000000  \n",
      "50%    110.237468          NaN   219.000000  \n",
      "75%    110.431869          NaN   328.000000  \n",
      "max    112.821662          NaN   437.000000  \n"
     ]
    }
   ],
   "source": [
    "print(data.describe())"
   ]
  },
  {
   "cell_type": "code",
   "execution_count": 12,
   "metadata": {},
   "outputs": [
    {
     "name": "stdout",
     "output_type": "stream",
     "text": [
      "Place_Id        437\n",
      "Place_Name      437\n",
      "Description     437\n",
      "Category          6\n",
      "City              5\n",
      "Price            50\n",
      "Rating           14\n",
      "Time_Minutes     15\n",
      "Coordinate      437\n",
      "Lat             437\n",
      "Long            437\n",
      "Unnamed: 11       0\n",
      "Unnamed: 12     437\n",
      "dtype: int64\n"
     ]
    }
   ],
   "source": [
    "print(data.nunique())"
   ]
  },
  {
   "cell_type": "code",
   "execution_count": 13,
   "metadata": {},
   "outputs": [
    {
     "name": "stdout",
     "output_type": "stream",
     "text": [
      "['Budaya' 'Taman Hiburan' 'Cagar Alam' 'Bahari' 'Pusat Perbelanjaan'\n",
      " 'Tempat Ibadah']\n"
     ]
    }
   ],
   "source": [
    "print(data['Category'].unique())"
   ]
  },
  {
   "cell_type": "code",
   "execution_count": 14,
   "metadata": {},
   "outputs": [
    {
     "name": "stdout",
     "output_type": "stream",
     "text": [
      "Taman Hiburan         135\n",
      "Budaya                117\n",
      "Cagar Alam            106\n",
      "Bahari                 47\n",
      "Tempat Ibadah          17\n",
      "Pusat Perbelanjaan     15\n",
      "Name: Category, dtype: int64\n"
     ]
    }
   ],
   "source": [
    "print(data['Category'].value_counts())"
   ]
  },
  {
   "cell_type": "code",
   "execution_count": 17,
   "metadata": {},
   "outputs": [
    {
     "name": "stdout",
     "output_type": "stream",
     "text": [
      "['Jakarta' 'Yogyakarta' 'Bandung' 'Semarang' 'Surabaya']\n"
     ]
    }
   ],
   "source": [
    "print(data['City'].unique())"
   ]
  },
  {
   "cell_type": "code",
   "execution_count": 18,
   "metadata": {},
   "outputs": [
    {
     "name": "stdout",
     "output_type": "stream",
     "text": [
      "Yogyakarta    126\n",
      "Bandung       124\n",
      "Jakarta        84\n",
      "Semarang       57\n",
      "Surabaya       46\n",
      "Name: City, dtype: int64\n"
     ]
    }
   ],
   "source": [
    "print(data['City'].value_counts())"
   ]
  },
  {
   "cell_type": "code",
   "execution_count": 15,
   "metadata": {},
   "outputs": [
    {
     "name": "stdout",
     "output_type": "stream",
     "text": [
      "Place_Id          0\n",
      "Place_Name        0\n",
      "Description       0\n",
      "Category          0\n",
      "City              0\n",
      "Price             0\n",
      "Rating            0\n",
      "Time_Minutes    232\n",
      "Coordinate        0\n",
      "Lat               0\n",
      "Long              0\n",
      "Unnamed: 11     437\n",
      "Unnamed: 12       0\n",
      "dtype: int64\n"
     ]
    }
   ],
   "source": [
    "print(data.isnull().sum())"
   ]
  },
  {
   "cell_type": "code",
   "execution_count": 16,
   "metadata": {},
   "outputs": [
    {
     "name": "stdout",
     "output_type": "stream",
     "text": [
      "4.442791762013733\n"
     ]
    }
   ],
   "source": [
    "print(data['Rating'].mean())"
   ]
  }
 ],
 "metadata": {
  "kernelspec": {
   "display_name": "Python 3",
   "language": "python",
   "name": "python3"
  },
  "language_info": {
   "codemirror_mode": {
    "name": "ipython",
    "version": 3
   },
   "file_extension": ".py",
   "mimetype": "text/x-python",
   "name": "python",
   "nbconvert_exporter": "python",
   "pygments_lexer": "ipython3",
   "version": "3.9.12"
  },
  "orig_nbformat": 4
 },
 "nbformat": 4,
 "nbformat_minor": 2
}
