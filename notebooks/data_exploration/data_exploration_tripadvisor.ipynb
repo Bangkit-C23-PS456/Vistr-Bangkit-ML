{
 "cells": [
  {
   "cell_type": "code",
   "execution_count": 1,
   "metadata": {},
   "outputs": [],
   "source": [
    "import pandas as pd"
   ]
  },
  {
   "cell_type": "code",
   "execution_count": null,
   "metadata": {},
   "outputs": [],
   "source": [
    "# List of dataset files\n",
    "files = [\n",
    "    \"data/raw_data/trip_advisor/balikpapan/dataset_free-tripadvisor_2023-05-20_16-17-23-061.csv\",\n",
    "    \"data/raw_data/trip_advisor/balikpapan/dataset_free-tripadvisor_2023-05-20_16-19-56-104.csv\",\n",
    "    \"data/raw_data/trip_advisor/balikpapan/dataset_free-tripadvisor_2023-05-20_16-23-56-695.csv\",\n",
    "    \"data/raw_data/trip_advisor/balikpapan/dataset_free-tripadvisor_2023-05-20_16-27-32-877.csv\",\n",
    "    \"data/raw_data/trip_advisor/balikpapan/dataset_free-tripadvisor_2023-05-20_16-30-04-829.csv\"\n",
    "]\n",
    "\n",
    "# Read and concatenate all datasets into a single DataFrame\n",
    "dataframes = []\n",
    "for file in files:\n",
    "    df = pd.read_csv(file)\n",
    "    dataframes.append(df)\n",
    "    \n",
    "df = pd.concat(dataframes)"
   ]
  }
 ],
 "metadata": {
  "kernelspec": {
   "display_name": "Python 3",
   "language": "python",
   "name": "python3"
  },
  "language_info": {
   "codemirror_mode": {
    "name": "ipython",
    "version": 3
   },
   "file_extension": ".py",
   "mimetype": "text/x-python",
   "name": "python",
   "nbconvert_exporter": "python",
   "pygments_lexer": "ipython3",
   "version": "3.9.6"
  },
  "orig_nbformat": 4
 },
 "nbformat": 4,
 "nbformat_minor": 2
}
