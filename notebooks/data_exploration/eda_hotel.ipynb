{
 "cells": [
  {
   "cell_type": "code",
   "execution_count": 1,
   "metadata": {},
   "outputs": [],
   "source": [
    "from dotenv import load_dotenv\n",
    "import os\n",
    "import pandas as pd\n",
    "import json"
   ]
  },
  {
   "cell_type": "code",
   "execution_count": 2,
   "metadata": {},
   "outputs": [],
   "source": [
    "# Memuat variabel lingkungan dari file .env\n",
    "load_dotenv()\n",
    "\n",
    "# Mengakses variabel lingkungan yang diatur dalam file .env\n",
    "project_path = os.getenv(\"PROJECT_FOLDER\")\n",
    "dataset_folder = 'data/raw_data/trip_advisor'"
   ]
  },
  {
   "cell_type": "code",
   "execution_count": 3,
   "metadata": {},
   "outputs": [],
   "source": [
    "# List of dataset files\n",
    "files = [\n",
    "    f\"{project_path}/{dataset_folder}/json/balikpapan_hotels.json\",\n",
    "    f\"{project_path}/{dataset_folder}/json/berau_hotels.json\",\n",
    "    f\"{project_path}/{dataset_folder}/json/bontang_hotels.json\",\n",
    "    f\"{project_path}/{dataset_folder}/json/kutai_hotels.json\",\n",
    "    f\"{project_path}/{dataset_folder}/json/paser_hotels.json\",\n",
    "    f\"{project_path}/{dataset_folder}/json/penajam_hotels.json\",\n",
    "    f\"{project_path}/{dataset_folder}/json/samarinda_hotels.json\",\n",
    "]\n",
    "\n",
    "# Read and concatenate all datasets into a single DataFrame\n",
    "dfs = []\n",
    "for file in files:\n",
    "    with open(file, encoding='utf-8') as json_file:\n",
    "        data = json.load(json_file)\n",
    "        df = pd.DataFrame(data)\n",
    "        dfs.append(df)\n",
    "\n",
    "df = pd.concat(dfs)"
   ]
  },
  {
   "cell_type": "code",
   "execution_count": 4,
   "metadata": {},
   "outputs": [
    {
     "data": {
      "text/plain": [
       "(251, 27)"
      ]
     },
     "execution_count": 4,
     "metadata": {},
     "output_type": "execute_result"
    }
   ],
   "source": [
    "df.shape"
   ]
  },
  {
   "cell_type": "code",
   "execution_count": 5,
   "metadata": {},
   "outputs": [
    {
     "name": "stdout",
     "output_type": "stream",
     "text": [
      "<class 'pandas.core.frame.DataFrame'>\n",
      "Index: 251 entries, 0 to 85\n",
      "Data columns (total 27 columns):\n",
      " #   Column                 Non-Null Count  Dtype  \n",
      "---  ------                 --------------  -----  \n",
      " 0   id                     251 non-null    object \n",
      " 1   type                   251 non-null    object \n",
      " 2   name                   251 non-null    object \n",
      " 3   image                  161 non-null    object \n",
      " 4   awards                 251 non-null    object \n",
      " 5   rankingPosition        112 non-null    object \n",
      " 6   priceLevel             135 non-null    object \n",
      " 7   priceRange             136 non-null    object \n",
      " 8   category               251 non-null    object \n",
      " 9   rating                 112 non-null    float64\n",
      " 10  hotelClass             251 non-null    object \n",
      " 11  hotelClassAttribution  86 non-null     object \n",
      " 12  phone                  125 non-null    object \n",
      " 13  address                251 non-null    object \n",
      " 14  email                  94 non-null     object \n",
      " 15  amenities              251 non-null    object \n",
      " 16  numberOfRooms          132 non-null    float64\n",
      " 17  prices                 251 non-null    object \n",
      " 18  latitude               232 non-null    object \n",
      " 19  longitude              232 non-null    object \n",
      " 20  webUrl                 251 non-null    object \n",
      " 21  website                165 non-null    object \n",
      " 22  rankingString          112 non-null    object \n",
      " 23  rankingDenominator     112 non-null    object \n",
      " 24  numberOfReviews        251 non-null    int64  \n",
      " 25  reviews                251 non-null    object \n",
      " 26  reviewTags             251 non-null    object \n",
      "dtypes: float64(2), int64(1), object(24)\n",
      "memory usage: 54.9+ KB\n"
     ]
    }
   ],
   "source": [
    "df.info()"
   ]
  }
 ],
 "metadata": {
  "kernelspec": {
   "display_name": "Python 3",
   "language": "python",
   "name": "python3"
  },
  "language_info": {
   "codemirror_mode": {
    "name": "ipython",
    "version": 3
   },
   "file_extension": ".py",
   "mimetype": "text/x-python",
   "name": "python",
   "nbconvert_exporter": "python",
   "pygments_lexer": "ipython3",
   "version": "3.9.6"
  },
  "orig_nbformat": 4
 },
 "nbformat": 4,
 "nbformat_minor": 2
}
