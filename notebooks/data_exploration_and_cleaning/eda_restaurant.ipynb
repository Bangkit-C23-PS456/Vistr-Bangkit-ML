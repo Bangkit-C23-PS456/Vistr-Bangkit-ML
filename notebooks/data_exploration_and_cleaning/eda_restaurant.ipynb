{
 "cells": [
  {
   "cell_type": "code",
   "execution_count": 1,
   "metadata": {},
   "outputs": [],
   "source": [
    "from dotenv import load_dotenv\n",
    "import os\n",
    "import pandas as pd\n",
    "import json"
   ]
  },
  {
   "cell_type": "code",
   "execution_count": 2,
   "metadata": {},
   "outputs": [],
   "source": [
    "# Memuat variabel lingkungan dari file .env\n",
    "load_dotenv()\n",
    "\n",
    "# Mengakses variabel lingkungan yang diatur dalam file .env\n",
    "project_path = os.getenv(\"PROJECT_FOLDER\")\n",
    "dataset_folder = 'data/raw_data/trip_advisor'"
   ]
  },
  {
   "cell_type": "code",
   "execution_count": 3,
   "metadata": {},
   "outputs": [],
   "source": [
    "# List of dataset files\n",
    "files = [\n",
    "    f\"{project_path}/{dataset_folder}/json/balikpapan_restaurant.json\",\n",
    "    f\"{project_path}/{dataset_folder}/json/berau_restaurant.json\",\n",
    "    f\"{project_path}/{dataset_folder}/json/bontang_restaurant.json\",\n",
    "    f\"{project_path}/{dataset_folder}/json/kutai_restaurant.json\",\n",
    "    f\"{project_path}/{dataset_folder}/json/samarinda_restaurant.json\",\n",
    "]\n",
    "\n",
    "# Read and concatenate all datasets into a single DataFrame\n",
    "dfs = []\n",
    "for file in files:\n",
    "    with open(file, encoding='utf-8') as json_file:\n",
    "        data = json.load(json_file)\n",
    "        df = pd.DataFrame(data)\n",
    "        dfs.append(df)\n",
    "\n",
    "df = pd.concat(dfs)"
   ]
  },
  {
   "cell_type": "code",
   "execution_count": 4,
   "metadata": {},
   "outputs": [
    {
     "data": {
      "text/plain": [
       "(238, 27)"
      ]
     },
     "execution_count": 4,
     "metadata": {},
     "output_type": "execute_result"
    }
   ],
   "source": [
    "df.shape"
   ]
  },
  {
   "cell_type": "code",
   "execution_count": 5,
   "metadata": {},
   "outputs": [
    {
     "name": "stdout",
     "output_type": "stream",
     "text": [
      "<class 'pandas.core.frame.DataFrame'>\n",
      "Index: 238 entries, 0 to 99\n",
      "Data columns (total 27 columns):\n",
      " #   Column               Non-Null Count  Dtype  \n",
      "---  ------               --------------  -----  \n",
      " 0   id                   238 non-null    object \n",
      " 1   type                 238 non-null    object \n",
      " 2   name                 238 non-null    object \n",
      " 3   image                207 non-null    object \n",
      " 4   awards               238 non-null    object \n",
      " 5   rankingPosition      230 non-null    object \n",
      " 6   priceLevel           145 non-null    object \n",
      " 7   category             230 non-null    object \n",
      " 8   rating               230 non-null    float64\n",
      " 9   isClosed             238 non-null    bool   \n",
      " 10  isLongClosed         238 non-null    bool   \n",
      " 11  phone                176 non-null    object \n",
      " 12  address              238 non-null    object \n",
      " 13  email                45 non-null     object \n",
      " 14  cuisine              238 non-null    object \n",
      " 15  mealTypes            238 non-null    object \n",
      " 16  dietaryRestrictions  238 non-null    object \n",
      " 17  hours                238 non-null    object \n",
      " 18  latitude             221 non-null    object \n",
      " 19  longitude            221 non-null    object \n",
      " 20  webUrl               238 non-null    object \n",
      " 21  website              94 non-null     object \n",
      " 22  rankingDenominator   230 non-null    object \n",
      " 23  rankingString        230 non-null    object \n",
      " 24  numberOfReviews      238 non-null    int64  \n",
      " 25  reviews              238 non-null    object \n",
      " 26  reviewTags           238 non-null    object \n",
      "dtypes: bool(2), float64(1), int64(1), object(23)\n",
      "memory usage: 48.8+ KB\n"
     ]
    }
   ],
   "source": [
    "df.info()"
   ]
  }
 ],
 "metadata": {
  "kernelspec": {
   "display_name": "Python 3",
   "language": "python",
   "name": "python3"
  },
  "language_info": {
   "codemirror_mode": {
    "name": "ipython",
    "version": 3
   },
   "file_extension": ".py",
   "mimetype": "text/x-python",
   "name": "python",
   "nbconvert_exporter": "python",
   "pygments_lexer": "ipython3",
   "version": "3.9.6"
  },
  "orig_nbformat": 4
 },
 "nbformat": 4,
 "nbformat_minor": 2
}
