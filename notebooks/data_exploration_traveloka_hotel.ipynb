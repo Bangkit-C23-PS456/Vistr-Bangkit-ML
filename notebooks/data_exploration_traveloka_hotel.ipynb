{
 "cells": [
  {
   "cell_type": "code",
   "execution_count": 2,
   "metadata": {},
   "outputs": [],
   "source": [
    "import pandas as pd\n",
    "\n",
    "# Membaca data dari file CSV\n",
    "data = pd.read_csv(\"D:/PROJECT/machine-learning/recomendation_system1/data/raw_data/traveloka_newyearhotels.csv\",delimiter=\"|\")"
   ]
  },
  {
   "cell_type": "code",
   "execution_count": 3,
   "metadata": {},
   "outputs": [
    {
     "name": "stdout",
     "output_type": "stream",
     "text": [
      "(904, 35)\n"
     ]
    }
   ],
   "source": [
    "print(data.shape)"
   ]
  },
  {
   "cell_type": "code",
   "execution_count": 4,
   "metadata": {},
   "outputs": [
    {
     "name": "stdout",
     "output_type": "stream",
     "text": [
      "<class 'pandas.core.frame.DataFrame'>\n",
      "RangeIndex: 904 entries, 0 to 903\n",
      "Data columns (total 35 columns):\n",
      " #   Column                            Non-Null Count  Dtype  \n",
      "---  ------                            --------------  -----  \n",
      " 0   timestamp                         904 non-null    object \n",
      " 1   city                              904 non-null    object \n",
      " 2   checkin                           904 non-null    object \n",
      " 3   checkout                          904 non-null    object \n",
      " 4   num_staying_nights                904 non-null    int64  \n",
      " 5   id                                904 non-null    int64  \n",
      " 6   name                              904 non-null    object \n",
      " 7   displayName                       904 non-null    object \n",
      " 8   region                            904 non-null    object \n",
      " 9   starRating                        904 non-null    float64\n",
      " 10  userRating                        891 non-null    float64\n",
      " 11  numReviews                        902 non-null    float64\n",
      " 12  userRatingInfo                    891 non-null    object \n",
      " 13  latitude                          904 non-null    float64\n",
      " 14  longitude                         904 non-null    float64\n",
      " 15  lowRate                           904 non-null    int64  \n",
      " 16  highRate                          0 non-null      float64\n",
      " 17  hotelFeatures                     797 non-null    object \n",
      " 18  hotelSeoUrl                       904 non-null    object \n",
      " 19  cheapestRate_allNights_baseFare   904 non-null    int64  \n",
      " 20  cheapestRate_allNights_fees       904 non-null    int64  \n",
      " 21  cheapestRate_allNights_taxes      904 non-null    int64  \n",
      " 22  cheapestRate_allNights_totalFare  904 non-null    int64  \n",
      " 23  cheapestRate_perNight_baseFare    904 non-null    int64  \n",
      " 24  cheapestRate_perNight_fees        904 non-null    float64\n",
      " 25  cheapestRate_perNight_taxes       904 non-null    float64\n",
      " 26  cheapestRate_perNight_totalFare   904 non-null    int64  \n",
      " 27  originalRate_allNights_baseFare   904 non-null    int64  \n",
      " 28  originalRate_allNights_fees       904 non-null    int64  \n",
      " 29  originalRate_allNights_taxes      904 non-null    int64  \n",
      " 30  originalRate_allNights_totalFare  904 non-null    int64  \n",
      " 31  originalRate_perNight_baseFare    904 non-null    int64  \n",
      " 32  originalRate_perNight_fees        904 non-null    float64\n",
      " 33  originalRate_perNight_taxes       904 non-null    float64\n",
      " 34  originalRate_perNight_totalFare   904 non-null    int64  \n",
      "dtypes: float64(10), int64(15), object(10)\n",
      "memory usage: 247.3+ KB\n",
      "None\n"
     ]
    }
   ],
   "source": [
    "print(data.info())"
   ]
  }
 ],
 "metadata": {
  "kernelspec": {
   "display_name": "base",
   "language": "python",
   "name": "python3"
  },
  "language_info": {
   "codemirror_mode": {
    "name": "ipython",
    "version": 3
   },
   "file_extension": ".py",
   "mimetype": "text/x-python",
   "name": "python",
   "nbconvert_exporter": "python",
   "pygments_lexer": "ipython3",
   "version": "3.9.6"
  },
  "orig_nbformat": 4
 },
 "nbformat": 4,
 "nbformat_minor": 2
}
