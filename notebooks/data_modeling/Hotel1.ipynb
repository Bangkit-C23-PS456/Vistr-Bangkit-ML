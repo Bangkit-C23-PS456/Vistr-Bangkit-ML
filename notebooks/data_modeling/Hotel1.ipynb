{
  "nbformat": 4,
  "nbformat_minor": 0,
  "metadata": {
    "colab": {
      "provenance": []
    },
    "kernelspec": {
      "name": "python3",
      "display_name": "Python 3"
    },
    "language_info": {
      "name": "python"
    }
  },
  "cells": [
    {
      "cell_type": "code",
      "execution_count": 3,
      "metadata": {
        "id": "rZK2BiwhmlAw"
      },
      "outputs": [],
      "source": [
        "import pandas as pd\n",
        "from sklearn.neighbors import NearestNeighbors\n",
        "import tensorflow as tf"
      ]
    },
    {
      "cell_type": "code",
      "source": [
        "data = pd.read_json(\"./hotel_add.json\")\n",
        "data.info()"
      ],
      "metadata": {
        "colab": {
          "base_uri": "https://localhost:8080/"
        },
        "id": "TW5jyoQRmv4e",
        "outputId": "7eae0213-b172-445b-acd2-6948c5dd496a"
      },
      "execution_count": 4,
      "outputs": [
        {
          "output_type": "stream",
          "name": "stdout",
          "text": [
            "<class 'pandas.core.frame.DataFrame'>\n",
            "RangeIndex: 232 entries, 0 to 231\n",
            "Data columns (total 14 columns):\n",
            " #   Column           Non-Null Count  Dtype  \n",
            "---  ------           --------------  -----  \n",
            " 0   original_id      232 non-null    int64  \n",
            " 1   hotel_name       232 non-null    object \n",
            " 2   rating           232 non-null    float64\n",
            " 3   hotel_class      232 non-null    float64\n",
            " 4   address          232 non-null    object \n",
            " 5   latitude         232 non-null    float64\n",
            " 6   longitude        232 non-null    float64\n",
            " 7   contact_number   115 non-null    object \n",
            " 8   number_of_rooms  232 non-null    int64  \n",
            " 9   website          158 non-null    object \n",
            " 10  image            155 non-null    object \n",
            " 11  city             232 non-null    object \n",
            " 12  min_price        232 non-null    int64  \n",
            " 13  max_price        232 non-null    int64  \n",
            "dtypes: float64(4), int64(4), object(6)\n",
            "memory usage: 25.5+ KB\n"
          ]
        }
      ]
    },
    {
      "cell_type": "code",
      "source": [
        "# Function to recommend restaurants based on latitude and longitude\n",
        "def recommend_hotels(latitude, longitude, quantity):\n",
        "\n",
        "     # Calculate the distance between the user's location and the places' locations\n",
        "     data[\"distance\"] = tf.sqrt(\n",
        "         tf.square(data[\"latitude\"] - latitude) + tf.square(data[\"longitude\"] - longitude)\n",
        "     )\n",
        "\n",
        "     # Takes latitude, longitude, rating, and distance columns as features\n",
        "     X = data[['latitude', 'longitude', 'hotel_class', 'rating', 'distance']].values\n",
        "\n",
        "     # Build the KNN model with the number of neighbors (k) = quantity\n",
        "     knn = NearestNeighbors(n_neighbors=quantity)\n",
        "     knn.fit(X)\n",
        "\n",
        "     # Search for 5 nearest neighbors of given position\n",
        "     distances, indices = knn.kneighbors([[latitude, longitude, 5, 5, 0]])\n",
        "\n",
        "     # Displays recommended restaurants\n",
        "     recommendations = []\n",
        "     for index in indices[0]:\n",
        "         recommendation = data.iloc[index].to_dict()\n",
        "         recommendations. append(recommendation)\n",
        "\n",
        "     # Checks if distance is a multiple of 20, then sorts by best rating\n",
        "     if int(data.iloc[indices[0][0]]['distance']) % 20 == 0:\n",
        "         recommendations = sorted(recommendations, key=lambda x: x['rating'], reverse=True)\n",
        "\n",
        "     return {\"hotel_recommendation\": recommendations}"
      ],
      "metadata": {
        "id": "o8RHiW57mx6C"
      },
      "execution_count": 9,
      "outputs": []
    },
    {
      "cell_type": "code",
      "source": [
        "latitude = 0.200000\n",
        "longitude = 103.816666\n",
        "quantity = 3\n",
        "recommend_hotels(latitude, longitude, quantity)"
      ],
      "metadata": {
        "colab": {
          "base_uri": "https://localhost:8080/"
        },
        "id": "AYVVAOhMnPIG",
        "outputId": "2980a66f-2d18-4bb0-8629-263200483987"
      },
      "execution_count": 10,
      "outputs": [
        {
          "output_type": "execute_result",
          "data": {
            "text/plain": [
              "{'hotel_recommendation': [{'original_id': 7646645,\n",
              "   'hotel_name': 'Kyriad Sadurengas Paser',\n",
              "   'rating': 3.0,\n",
              "   'hotel_class': 4.0,\n",
              "   'address': 'Jl. Kusuma Bangsa KM 5 Kalimantan Timur Tana Paser, Tanah Grogot 76211 Indonesia',\n",
              "   'latitude': -1.877778,\n",
              "   'longitude': 116.17752,\n",
              "   'contact_number': '+62 542 766886',\n",
              "   'number_of_rooms': 148,\n",
              "   'website': 'http://www.kyriad.com/en/hotels/kyriad-sadurengas-paser',\n",
              "   'image': 'https://media-cdn.tripadvisor.com/media/photo-o/25/00/09/e4/deluxe-king.jpg',\n",
              "   'city': 'Penajam',\n",
              "   'min_price': 0,\n",
              "   'max_price': 0,\n",
              "   'distance': 12.534267949369843},\n",
              "  {'original_id': 9721736,\n",
              "   'hotel_name': 'Hotel Mama Rina',\n",
              "   'rating': 4.0,\n",
              "   'hotel_class': 0.0,\n",
              "   'address': 'Jl. Jenderal Sudirman no. 1, Tanah Grogot Indonesia',\n",
              "   'latitude': -1.91335,\n",
              "   'longitude': 116.19691,\n",
              "   'contact_number': '+62 21179',\n",
              "   'number_of_rooms': 73,\n",
              "   'website': None,\n",
              "   'image': 'https://media-cdn.tripadvisor.com/media/photo-o/0a/4e/bc/01/img-20160213-wa0002-largejpg.jpg',\n",
              "   'city': 'Penajam',\n",
              "   'min_price': 0,\n",
              "   'max_price': 0,\n",
              "   'distance': 12.55932680210353},\n",
              "  {'original_id': 23323740,\n",
              "   'hotel_name': 'Hotel Media Syariah',\n",
              "   'rating': 3.6047619048,\n",
              "   'hotel_class': 0.0,\n",
              "   'address': 'Jl. Jend Sudirman, gg.mariola No.84, Tanah Grogot 76211 Indonesia',\n",
              "   'latitude': -1.912918,\n",
              "   'longitude': 116.19708,\n",
              "   'contact_number': '+62 821-5800-0467',\n",
              "   'number_of_rooms': 73,\n",
              "   'website': 'http://www.reddoorz.com/en-id/hotel/Indonesia/grogot/paser/tanah-grogot/hotel-media',\n",
              "   'image': None,\n",
              "   'city': 'Penajam',\n",
              "   'min_price': 0,\n",
              "   'max_price': 0,\n",
              "   'distance': 12.55942169393639}]}"
            ]
          },
          "metadata": {},
          "execution_count": 10
        }
      ]
    }
  ]
}