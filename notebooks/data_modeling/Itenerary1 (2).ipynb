{
  "cells": [
    {
      "cell_type": "code",
      "execution_count": 1,
      "metadata": {
        "colab": {
          "base_uri": "https://localhost:8080/"
        },
        "id": "18XfKRbXMtRg",
        "outputId": "b20fd078-598c-4d2f-801c-5ea87937cfb1"
      },
      "outputs": [
        {
          "name": "stdout",
          "output_type": "stream",
          "text": [
            "Looking in indexes: https://pypi.org/simple, https://us-python.pkg.dev/colab-wheels/public/simple/\n",
            "Requirement already satisfied: googlemaps in /usr/local/lib/python3.10/dist-packages (4.10.0)\n",
            "Requirement already satisfied: requests<3.0,>=2.20.0 in /usr/local/lib/python3.10/dist-packages (from googlemaps) (2.27.1)\n",
            "Requirement already satisfied: urllib3<1.27,>=1.21.1 in /usr/local/lib/python3.10/dist-packages (from requests<3.0,>=2.20.0->googlemaps) (1.26.15)\n",
            "Requirement already satisfied: certifi>=2017.4.17 in /usr/local/lib/python3.10/dist-packages (from requests<3.0,>=2.20.0->googlemaps) (2022.12.7)\n",
            "Requirement already satisfied: charset-normalizer~=2.0.0 in /usr/local/lib/python3.10/dist-packages (from requests<3.0,>=2.20.0->googlemaps) (2.0.12)\n",
            "Requirement already satisfied: idna<4,>=2.5 in /usr/local/lib/python3.10/dist-packages (from requests<3.0,>=2.20.0->googlemaps) (2.10)\n"
          ]
        }
      ],
      "source": [
        "pip install -U googlemaps"
      ]
    },
    {
      "cell_type": "code",
      "execution_count": 2,
      "metadata": {
        "colab": {
          "base_uri": "https://localhost:8080/"
        },
        "id": "O5rIXUyNBHyl",
        "outputId": "559a59bf-ff8a-4a4c-b071-8a742a3df6ba"
      },
      "outputs": [
        {
          "name": "stdout",
          "output_type": "stream",
          "text": [
            "Looking in indexes: https://pypi.org/simple, https://us-python.pkg.dev/colab-wheels/public/simple/\n",
            "Requirement already satisfied: googletrans==4.0.0-rc1 in /usr/local/lib/python3.10/dist-packages (4.0.0rc1)\n",
            "Requirement already satisfied: httpx==0.13.3 in /usr/local/lib/python3.10/dist-packages (from googletrans==4.0.0-rc1) (0.13.3)\n",
            "Requirement already satisfied: certifi in /usr/local/lib/python3.10/dist-packages (from httpx==0.13.3->googletrans==4.0.0-rc1) (2022.12.7)\n",
            "Requirement already satisfied: hstspreload in /usr/local/lib/python3.10/dist-packages (from httpx==0.13.3->googletrans==4.0.0-rc1) (2023.1.1)\n",
            "Requirement already satisfied: sniffio in /usr/local/lib/python3.10/dist-packages (from httpx==0.13.3->googletrans==4.0.0-rc1) (1.3.0)\n",
            "Requirement already satisfied: chardet==3.* in /usr/local/lib/python3.10/dist-packages (from httpx==0.13.3->googletrans==4.0.0-rc1) (3.0.4)\n",
            "Requirement already satisfied: idna==2.* in /usr/local/lib/python3.10/dist-packages (from httpx==0.13.3->googletrans==4.0.0-rc1) (2.10)\n",
            "Requirement already satisfied: rfc3986<2,>=1.3 in /usr/local/lib/python3.10/dist-packages (from httpx==0.13.3->googletrans==4.0.0-rc1) (1.5.0)\n",
            "Requirement already satisfied: httpcore==0.9.* in /usr/local/lib/python3.10/dist-packages (from httpx==0.13.3->googletrans==4.0.0-rc1) (0.9.1)\n",
            "Requirement already satisfied: h11<0.10,>=0.8 in /usr/local/lib/python3.10/dist-packages (from httpcore==0.9.*->httpx==0.13.3->googletrans==4.0.0-rc1) (0.9.0)\n",
            "Requirement already satisfied: h2==3.* in /usr/local/lib/python3.10/dist-packages (from httpcore==0.9.*->httpx==0.13.3->googletrans==4.0.0-rc1) (3.2.0)\n",
            "Requirement already satisfied: hyperframe<6,>=5.2.0 in /usr/local/lib/python3.10/dist-packages (from h2==3.*->httpcore==0.9.*->httpx==0.13.3->googletrans==4.0.0-rc1) (5.2.0)\n",
            "Requirement already satisfied: hpack<4,>=3.0 in /usr/local/lib/python3.10/dist-packages (from h2==3.*->httpcore==0.9.*->httpx==0.13.3->googletrans==4.0.0-rc1) (3.0.0)\n"
          ]
        }
      ],
      "source": [
        "pip install googletrans==4.0.0-rc1"
      ]
    },
    {
      "cell_type": "code",
      "execution_count": 3,
      "metadata": {
        "id": "6VXKNlkBoxjf"
      },
      "outputs": [],
      "source": [
        "import tensorflow as tf\n",
        "from sklearn.neighbors import NearestNeighbors\n",
        "import pandas as pd\n",
        "import numpy as np"
      ]
    },
    {
      "cell_type": "code",
      "execution_count": 4,
      "metadata": {
        "id": "QxNO6r_BpBMh"
      },
      "outputs": [],
      "source": [
        "hotel = pd.read_json(\"./hotel.json\")\n",
        "restaurant = pd.read_json(\"./restaurant.json\")\n",
        "todo = pd.read_json(\"./todo.json\")"
      ]
    },
    {
      "cell_type": "code",
      "execution_count": 14,
      "metadata": {
        "id": "PmSkvvCJpUD3"
      },
      "outputs": [],
      "source": [
        "def recommend_places(activity, category, latitude, longitude, quantity):\n",
        "    # Get the user's preferences from the request\n",
        "\n",
        "    # Define the user's preferences\n",
        "    activity = str(activity)\n",
        "    category = str(category)\n",
        "    latitude = latitude\n",
        "    longitude = longitude\n",
        "\n",
        "    # Calculate the distance between the user's location and the places' locations\n",
        "    todo[\"distance\"] = tf.sqrt(\n",
        "        tf.square(todo[\"latitude\"] - latitude) + tf.square(todo[\"longitude\"] - longitude)\n",
        "    )\n",
        "\n",
        "    # Filter the places based on the user's preferences\n",
        "    filtered_places = todo[\n",
        "        (todo[\"activity\"] == activity) & (todo[\"category\"] == category)\n",
        "    ]\n",
        "\n",
        "    # Check if there are any matching places\n",
        "    if filtered_places.empty:\n",
        "        return {\"recommendations\": []}\n",
        "\n",
        "    # Perform collaborative filtering using k-nearest neighbors\n",
        "    X = filtered_places[[\"latitude\", \"longitude\", \"rating\", \"distance\"]].values\n",
        "    nbrs = NearestNeighbors(n_neighbors=quantity).fit(X)\n",
        "    distances, indices = nbrs.kneighbors([[latitude, longitude, 5, 0]])\n",
        "\n",
        "    # Get the top recommendations based on nearest neighbors\n",
        "    top_indices = indices[0]\n",
        "    top_recommendations = filtered_places.iloc[top_indices]\n",
        "\n",
        "    # Create a response dictionary with the recommendations\n",
        "    recommendations = []\n",
        "    for _, row in top_recommendations.iterrows():\n",
        "        recommendation = row.to_dict()\n",
        "        recommendations.append(recommendation)\n",
        "\n",
        "    return {\"place_recommendation\": recommendations}"
      ]
    },
    {
      "cell_type": "code",
      "execution_count": 7,
      "metadata": {
        "id": "iT5CYkUMMlJ-"
      },
      "outputs": [],
      "source": [
        "import googlemaps\n",
        "import requests\n",
        "import json\n",
        "\n",
        "# Replace 'YOUR_API_KEY' with your actual API key\n",
        "api_key = ''\n",
        "\n",
        "# Create a client instance\n",
        "gmaps = googlemaps.Client(api_key)\n",
        "\n",
        "def get_traffic_condition(latitude_origin, longitude_origin, latitude_destination, longitude_destination):\n",
        "  # Request traffic information\n",
        "  traffic_result = gmaps.directions((latitude_origin, longitude_origin), (latitude_destination, longitude_destination), mode=\"driving\", departure_time=\"now\", traffic_model=\"best_guess\")\n",
        "\n",
        "  if traffic_result == []:\n",
        "    return {}\n",
        "  # Extract the traffic information\n",
        "  duration_without_traffic = traffic_result[0]['legs'][0]['duration']['value']\n",
        "  duration_in_traffic = traffic_result[0]['legs'][0]['duration_in_traffic']['value']\n",
        "  traffic_ratio = duration_in_traffic / duration_without_traffic\n",
        "  if traffic_ratio <= 0.7:  # Current if the ratio of travel time to traffic <= 0.7\n",
        "    traffic_status = \"Lancar\"\n",
        "  elif traffic_ratio <= 1.3:  # Crowded if the ratio of travel time to traffic is between 0.7 and 1.3\n",
        "    traffic_status = \"Ramai\"\n",
        "  elif traffic_ratio <= 2.0:  # Padat jika rasio waktu tempuh dengan lalu lintas antara 1.3 dan 2.0\n",
        "    traffic_status = \"Padat\"\n",
        "  else:  # Macet jika rasio waktu tempuh dengan lalu lintas > 2.0\n",
        "    traffic_status = \"Macet\"\n",
        "\n",
        "  return {\n",
        "      \"duration_without_traffic\":duration_without_traffic,\n",
        "      \"duration_with_traffic\":duration_in_traffic,\n",
        "      \"traffic_ratio\":traffic_ratio,\n",
        "      \"traffic_status\":traffic_status\n",
        "  }"
      ]
    },
    {
      "cell_type": "code",
      "execution_count": 6,
      "metadata": {
        "id": "kHFmUkleBEXt"
      },
      "outputs": [],
      "source": [
        "import googlemaps\n",
        "import requests\n",
        "import json\n",
        "import re\n",
        "from googletrans import Translator\n",
        "\n",
        "\n",
        "# Replace 'YOUR_API_KEY' with your actual API key\n",
        "api_key = ''\n",
        "\n",
        "# Create a client instance\n",
        "gmaps = googlemaps.Client(api_key)\n",
        "\n",
        "# Define the latitude and longitude coordinates\n",
        "latitude_origin = -1.2654\n",
        "longitude_origin = 116.8311\n",
        "latitude_destination = -1.2654\n",
        "longitude_destination = 116.9311\n",
        "\n",
        "def remove_html_tags(text):\n",
        "    clean = re.compile('<.*?>')\n",
        "    return re.sub(clean, '', text)\n",
        "\n",
        "def capitalize_first_letter(sentence):\n",
        "    words = sentence.split()\n",
        "    capitalized_words = [word.capitalize() for word in words]\n",
        "    return ' '.join(capitalized_words)\n",
        "\n",
        "def create_route_description(latitude_origin, longitude_origin, latitude_destination, longitude_destination):\n",
        "  # Request traffic information\n",
        "  traffic_result = gmaps.directions((latitude_origin, longitude_origin), (latitude_destination, longitude_destination), mode=\"driving\", departure_time=\"now\", traffic_model=\"best_guess\")\n",
        "  if traffic_result == []:\n",
        "    return {}\n",
        "\n",
        "  steps = traffic_result[0]['legs'][0]['steps']\n",
        "\n",
        "  translator = Translator()\n",
        "\n",
        "  description = ''\n",
        "\n",
        "  for i, step in enumerate(steps):\n",
        "    instruction = remove_html_tags(step['html_instructions'])\n",
        "    distance = step['distance']['text']\n",
        "    duration = step['duration']['text']\n",
        "\n",
        "    if i == 0:\n",
        "      description += f\"Mulailah dengan {instruction.lower()} sejauh {distance} selama {duration}.\\n\"\n",
        "    elif i == len(steps) - 1:\n",
        "      description += f\"Beloklah ke {instruction.lower()}.\\nTujuan akhir akan berada di sebelah kiri.\"\n",
        "    else:\n",
        "      description += f\"{capitalize_first_letter(instruction)}. Jarak yang ditempuh sejauh {distance} selama {duration}.\\n\"\n",
        "\n",
        "  description = translator.translate(description, dest='id', src='en').text\n",
        "\n",
        "  return description"
      ]
    },
    {
      "cell_type": "code",
      "execution_count": 8,
      "metadata": {
        "colab": {
          "base_uri": "https://localhost:8080/"
        },
        "id": "xFA6hftF7Vs5",
        "outputId": "4c24aad6-4ebc-4fd6-b168-cd97e8d477be"
      },
      "outputs": [
        {
          "data": {
            "text/plain": [
              "{'duration_without_traffic': 191,\n",
              " 'duration_with_traffic': 200,\n",
              " 'traffic_ratio': 1.0471204188481675,\n",
              " 'traffic_status': 'Ramai'}"
            ]
          },
          "execution_count": 8,
          "metadata": {},
          "output_type": "execute_result"
        }
      ],
      "source": [
        "get_traffic_condition(-1.273225,116.83338, -1.273225,116.833898)"
      ]
    },
    {
      "cell_type": "code",
      "execution_count": 9,
      "metadata": {
        "colab": {
          "base_uri": "https://localhost:8080/"
        },
        "id": "FBJJDia9gtZo",
        "outputId": "585b7655-83a5-4005-cc33-c5839881942c"
      },
      "outputs": [
        {
          "name": "stdout",
          "output_type": "stream",
          "text": [
            "Mulailah Delan Head Southeast Sejauh 8 M Selama 1 mnt.\n",
            "Belok kiri menuju JL.Telaga Sari II.Jarak Yang Ditempuh SEJAUH 28 M Selama 1 mnt.\n",
            "Belok kanan ke JL.Telaga Sari II.Jarak Yang Ditempuh SEJAUH 0,4 km Selama 2 menit.\n",
            "Belok kiri ke JL.Telaga Sari.Jarak Yang Ditempuh SEJAUH 0,2 km Selama 1 menit.\n",
            "Belok kanan ke JL.Re martadinata.Jarak Yang Ditempuh SEJAUH 0,2 km Selama 1 menit.\n",
            "Belok kiri ke JL.Kapten Piere Tendean.Jarak Yang Ditempuh SEJAUH 0,3 km Selama 1 menit.\n",
            "Belok kanan setelah Ikan Hias (di sebelah kiri) melewati Salon Widya (di sebelah kiri dalam 650m).Jarak Yang Ditempuh SEJAUH 1.2 km Selama 3 menit.\n",
            "Belok kiri setelah LPK Kaltim Balikpapan (di sebelah kiri) melewati KFC Coffee Pasar Baru (di sebelah kiri).Jarak Yang Ditempuh SEJAUH 2.2 km Selama 5 menit.\n",
            "Sedikit hak untuk tetap di JL.Jenderal Sudirman.Jarak Yang Ditempuh SEJAUH 2.5 km Selama 5 menit.\n",
            "Lanjutkan ke JL.Marsma R. Iswahyudi.Jarak Yang Ditempuh SEJAUH 4.0 km Selama 7 menit.\n",
            "Lanjutkan langsung untuk tetap di JL.Marsma R. Iswahyudi.Jarak Yang Ditempuh SEJAUH 1,5 km Selama 3 menit.\n",
            "Lanjutkan ke JL.Mulawarman.Jarak Yang Ditempuh SEJAUH 1.3 km Selama 2 menit.\n",
            "Buat U-Turn.Jarak Yang Ditempuh SEJAUH 0,2 km Selama 1 menit.\n",
            "Beloklah ke mengubah jalan penggunaan leftrictted.\n",
            "TUJUAN AKHIR AKAN BERADA DI Sebelah Kiri.\n"
          ]
        }
      ],
      "source": [
        "latitude_origin = -1.2654\n",
        "longitude_origin = 116.8311\n",
        "latitude_destination = -1.2654\n",
        "longitude_destination = 116.9311\n",
        "\n",
        "print(create_route_description(latitude_origin, longitude_origin, latitude_destination, longitude_destination))"
      ]
    },
    {
      "cell_type": "code",
      "execution_count": 150,
      "metadata": {
        "id": "Hh7-rtm1Mhmm"
      },
      "outputs": [],
      "source": [
        "def recommend_places_with_traffic(activity, category, latitude, longitude, quantity):\n",
        "    # Get the user's preferences from the request\n",
        "\n",
        "    # Define the user's preferences\n",
        "    activity = str(activity)\n",
        "    category = str(category)\n",
        "    latitude = latitude\n",
        "    longitude = longitude\n",
        "\n",
        "    # Calculate the distance between the user's location and the places' locations\n",
        "    todo[\"distance\"] = tf.sqrt(\n",
        "        tf.square(todo[\"latitude\"] - latitude) + tf.square(todo[\"longitude\"] - longitude)\n",
        "    )\n",
        "\n",
        "    for index, row in todo.iterrows():\n",
        "        # Lakukan operasi lain yang diperlukan pada setiap baris\n",
        "\n",
        "        traffic_condition = get_traffic_condition(latitude, longitude, row['latitude'], row['longitude'])\n",
        "        if traffic_condition:\n",
        "            for key, value in traffic_condition.items():\n",
        "                todo.at[index, key] = value\n",
        "\n",
        "    # Filter the places based on the user's preferences\n",
        "    filtered_places = todo[\n",
        "        (todo[\"activity\"] == activity) & (todo[\"category\"] == category)\n",
        "    ]\n",
        "\n",
        "    # Check if there are any matching places\n",
        "    if filtered_places.empty:\n",
        "        return {\"recommendations\": []}\n",
        "\n",
        "    # Perform collaborative filtering using k-nearest neighbors\n",
        "    X = filtered_places[[\"latitude\", \"longitude\", \"rating\", \"distance\", \"traffic_ratio\"]].values\n",
        "    nbrs = NearestNeighbors(n_neighbors=quantity).fit(X)\n",
        "    distances, indices = nbrs.kneighbors([[latitude, longitude, 5, 0, 0]])\n",
        "\n",
        "    # Get the top recommendations based on nearest neighbors\n",
        "    top_indices = indices[0]\n",
        "    top_recommendations = filtered_places.iloc[top_indices]\n",
        "\n",
        "    # Create a response dictionary with the recommendations\n",
        "    recommendations = []\n",
        "    for _, row in top_recommendations.iterrows():\n",
        "        recommendation = row.to_dict()\n",
        "        recommendations.append(recommendation)\n",
        "\n",
        "    return {\"place_recommendation\": recommendations}"
      ]
    },
    {
      "cell_type": "code",
      "execution_count": null,
      "metadata": {
        "id": "06t0Khp5OQJC"
      },
      "outputs": [],
      "source": [
        "recommend_places_with_traffic('Outdoor','Beach',-1.273225,116.83338, 2)"
      ]
    },
    {
      "cell_type": "code",
      "execution_count": null,
      "metadata": {
        "id": "VXiwXERYHPZ7"
      },
      "outputs": [],
      "source": [
        "recommend_places('Outdoor','Beach',-1.273225,116.83338, 2)"
      ]
    },
    {
      "cell_type": "code",
      "execution_count": 157,
      "metadata": {
        "id": "4zGsIpu0pvtE"
      },
      "outputs": [],
      "source": [
        "# Function to recommend restaurants based on latitude and longitude\n",
        "def recommend_restaurants(latitude, longitude, quantity):\n",
        "\n",
        "     # Calculate the distance between the user's location and the places' locations\n",
        "     restaurant[\"distance\"] = tf.sqrt(\n",
        "         tf.square(restaurant[\"latitude\"] - latitude) + tf.square(restaurant[\"longitude\"] - longitude)\n",
        "     )\n",
        "\n",
        "     # Takes latitude, longitude, rating, and distance columns as features\n",
        "     X = restaurant[['latitude', 'longitude', 'rating', 'distance']].values\n",
        "\n",
        "     # Build the KNN model with the number of neighbors (k) = quantity\n",
        "     knn = NearestNeighbors(n_neighbors=quantity)\n",
        "     knn.fit(X)\n",
        "\n",
        "     # Search for 5 nearest neighbors of given position\n",
        "     distances, indices = knn.kneighbors([[latitude, longitude, 5, 0]])\n",
        "\n",
        "     # Displays recommended restaurants\n",
        "     restaurant_recommendations = []\n",
        "     for index in indices[0]:\n",
        "         recommendation = restaurant.iloc[index].to_dict()\n",
        "         restaurant_recommendations. append(recommendation)\n",
        "\n",
        "     # Checks if distance is a multiple of 20, then sorts by best rating\n",
        "     if int(restaurant.iloc[indices[0][0]]['distance']) % 20 == 0:\n",
        "         restaurant_recommendations = sorted(restaurant_recommendations, key=lambda x: x['rating'], reverse=True)\n",
        "\n",
        "     return {\"restaurant_recommendation\": restaurant_recommendations}"
      ]
    },
    {
      "cell_type": "code",
      "execution_count": 156,
      "metadata": {
        "id": "7isjGtXXp8Y4"
      },
      "outputs": [],
      "source": [
        "# Function to recommend restaurants based on latitude and longitude\n",
        "def recommend_hotels(latitude, longitude, quantity):\n",
        "\n",
        "     # Calculate the distance between the user's location and the places' locations\n",
        "     hotel[\"distance\"] = tf.sqrt(\n",
        "         tf.square(hotel[\"latitude\"] - latitude) + tf.square(hotel[\"longitude\"] - longitude)\n",
        "     )\n",
        "\n",
        "     # Takes latitude, longitude, rating, and distance columns as features\n",
        "     X = hotel[['latitude', 'longitude', 'hotel_class', 'rating', 'distance']].values\n",
        "\n",
        "     # Build the KNN model with the number of neighbors (k) = quantity\n",
        "     knn = NearestNeighbors(n_neighbors=quantity)\n",
        "     knn.fit(X)\n",
        "\n",
        "     # Search for 5 nearest neighbors of given position\n",
        "     distances, indices = knn.kneighbors([[latitude, longitude, 5, 5, 0]])\n",
        "\n",
        "     # Displays recommended restaurants\n",
        "     recommendations = []\n",
        "     for index in indices[0]:\n",
        "         recommendation = hotel.iloc[index].to_dict()\n",
        "         recommendations. append(recommendation)\n",
        "\n",
        "     # Checks if distance is a multiple of 20, then sorts by best rating\n",
        "     if int(hotel.iloc[indices[0][0]]['distance']) % 20 == 0:\n",
        "         recommendations = sorted(recommendations, key=lambda x: x['rating'], reverse=True)\n",
        "\n",
        "     return {\"hotel_recommendation\": recommendations}"
      ]
    },
    {
      "cell_type": "code",
      "execution_count": null,
      "metadata": {
        "id": "0nh6LQ8kqO1B"
      },
      "outputs": [],
      "source": [
        "def itinerary(activity, category, latitude, longitude):\n",
        "  todo_recommendation = recommend_places(activity, category, latitude, longitude, 1)\n",
        "\n",
        "  if len(todo_recommendation) > 0:\n",
        "      todo_latitude = todo_recommendation['place_recommendation'][0]['latitude']\n",
        "      todo_longitude = todo_recommendation['place_recommendation'][0]['longitude']\n",
        "\n",
        "      hotel_recommendation = recommend_hotels(todo_latitude, todo_longitude, 3)\n",
        "      restaurant_recommendation = recommend_restaurants(todo_latitude, todo_longitude, 3)\n",
        "\n",
        "      return {\n",
        "          'todo_recommendation': todo_recommendation,\n",
        "          'hotel_recommendation': hotel_recommendation,\n",
        "          'restaurant_recommendation': restaurant_recommendation\n",
        "      }\n",
        "\n",
        "  else:\n",
        "      return {\n",
        "          'todo_recommendation':[],\n",
        "          'hotel_recommendation':[],\n",
        "          'restaurant_recommendation':[]\n",
        "      }\n",
        "\n"
      ]
    },
    {
      "cell_type": "code",
      "execution_count": 152,
      "metadata": {
        "id": "q73ZKiq5GumC"
      },
      "outputs": [],
      "source": [
        "def itinerary_with_traffic(activity, category, latitude, longitude):\n",
        "  todo_recommendation = recommend_places_with_traffic(activity, category, latitude, longitude, 1)\n",
        "\n",
        "  if len(todo_recommendation) > 0:\n",
        "      todo_latitude = todo_recommendation['place_recommendation'][0]['latitude']\n",
        "      todo_longitude = todo_recommendation['place_recommendation'][0]['longitude']\n",
        "\n",
        "      hotel_recommendation = recommend_hotels(todo_latitude, todo_longitude, 3)\n",
        "      restaurant_recommendation = recommend_restaurants(todo_latitude, todo_longitude, 3)\n",
        "\n",
        "      return {\n",
        "          'todo_recommendation': todo_recommendation,\n",
        "          'hotel_recommendation': hotel_recommendation,\n",
        "          'restaurant_recommendation': restaurant_recommendation\n",
        "      }\n",
        "\n",
        "  else:\n",
        "      return {\n",
        "          'todo_recommendation':[],\n",
        "          'hotel_recommendation':[],\n",
        "          'restaurant_recommendation':[]\n",
        "      }\n",
        "\n"
      ]
    },
    {
      "cell_type": "code",
      "execution_count": 154,
      "metadata": {
        "id": "wtitdENhsEzk"
      },
      "outputs": [],
      "source": [
        "# Example usage\n",
        "user_activity = \"Outdoor\"\n",
        "user_category = \"Beach\"\n",
        "user_latitude = -1.2654\n",
        "user_longitude = 116.8311"
      ]
    },
    {
      "cell_type": "code",
      "execution_count": null,
      "metadata": {
        "id": "YF11gNX6sKau"
      },
      "outputs": [],
      "source": [
        "itinerary(user_activity, user_category, user_latitude, user_longitude)"
      ]
    },
    {
      "cell_type": "code",
      "execution_count": null,
      "metadata": {
        "id": "oyP3Jx5dG3Bt"
      },
      "outputs": [],
      "source": [
        "itinerary_with_traffic(user_activity, user_category, user_latitude, user_longitude)"
      ]
    },
    {
      "cell_type": "code",
      "execution_count": 15,
      "metadata": {
        "id": "VzYgJ9BtCrh2"
      },
      "outputs": [],
      "source": [
        "def recommend_places_activity(activity, latitude, longitude, quantity):\n",
        "    # Get the user's preferences from the request\n",
        "\n",
        "    # Define the user's preferences\n",
        "    activity = str(activity)\n",
        "    latitude = latitude\n",
        "    longitude = longitude\n",
        "\n",
        "    # Calculate the distance between the user's location and the places' locations\n",
        "    todo[\"distance\"] = tf.sqrt(\n",
        "        tf.square(todo[\"latitude\"] - latitude) + tf.square(todo[\"longitude\"] - longitude)\n",
        "    )\n",
        "\n",
        "    # Filter the places based on the user's preferences\n",
        "    filtered_places = todo[\n",
        "        (todo[\"activity\"] == activity)\n",
        "    ]\n",
        "\n",
        "    # Check if there are any matching places\n",
        "    if filtered_places.empty:\n",
        "        return {\"recommendations\": []}\n",
        "\n",
        "    # Perform collaborative filtering using k-nearest neighbors\n",
        "    X = filtered_places[[\"latitude\", \"longitude\", \"rating\", \"distance\"]].values\n",
        "    nbrs = NearestNeighbors(n_neighbors=quantity).fit(X)\n",
        "    distances, indices = nbrs.kneighbors([[latitude, longitude, 5, 0]])\n",
        "\n",
        "    # Get the top recommendations based on nearest neighbors\n",
        "    top_indices = indices[0]\n",
        "    top_recommendations = filtered_places.iloc[top_indices]\n",
        "\n",
        "    # Create a response dictionary with the recommendations\n",
        "    recommendations = []\n",
        "    for _, row in top_recommendations.iterrows():\n",
        "        recommendation = row.to_dict()\n",
        "        recommendations.append(recommendation)\n",
        "\n",
        "    return {\"place_recommendation\": recommendations}"
      ]
    },
    {
      "cell_type": "code",
      "execution_count": null,
      "metadata": {
        "id": "rR3XoKJFPzYL"
      },
      "outputs": [],
      "source": [
        "recommend_places_activity('Outdoor', user_latitude, user_longitude, 1)"
      ]
    },
    {
      "cell_type": "code",
      "execution_count": 12,
      "metadata": {
        "id": "RcXwD8LRAf8D"
      },
      "outputs": [],
      "source": [
        "from datetime import datetime, timedelta\n",
        "import pandas as pd\n",
        "\n",
        "def itinerary_by_date(activity, latitude, longitude, start_date, end_date, quantity_per_day):\n",
        "\n",
        "    date_range = pd.date_range(start=start_date, end=end_date, freq='D')\n",
        "    data = []\n",
        "    data_route = []\n",
        "\n",
        "    for index, date in enumerate(date_range):\n",
        "        current_date = date.strftime('%Y-%m-%d')\n",
        "        result = recommend_places_activity(activity, latitude, longitude, quantity_per_day)['place_recommendation']\n",
        "        data.append({current_date: {\n",
        "            'date': current_date,\n",
        "            'todo': result\n",
        "        }})\n",
        "        data_route.append(result)\n",
        "\n",
        "\n",
        "    return data"
      ]
    },
    {
      "cell_type": "code",
      "execution_count": 16,
      "metadata": {
        "colab": {
          "base_uri": "https://localhost:8080/"
        },
        "id": "YUBuTjEjlTGi",
        "outputId": "15e6eec8-3a0a-4d6f-f88f-b42d70550c68"
      },
      "outputs": [
        {
          "data": {
            "text/plain": [
              "[{'2023-06-15': {'date': '2023-06-15',\n",
              "   'todo': [{'location_id': 10821404,\n",
              "     'place_name': 'Demonstration Monument',\n",
              "     'city': 'Balikpapan',\n",
              "     'rating': 4.5,\n",
              "     'latitude': -1.24984,\n",
              "     'longitude': 116.82822,\n",
              "     'opening_hours': {'week_ranges': [[{'open_time': 0, 'close_time': 2400}],\n",
              "       [{'open_time': 0, 'close_time': 2400}],\n",
              "       [{'open_time': 0, 'close_time': 2400}],\n",
              "       [{'open_time': 0, 'close_time': 2400}],\n",
              "       [{'open_time': 0, 'close_time': 2400}],\n",
              "       [{'open_time': 0, 'close_time': 2400}],\n",
              "       [{'open_time': 0, 'close_time': 2400}]],\n",
              "      'timezone': 'Asia/Makassar'},\n",
              "     'contact_number': None,\n",
              "     'photo': None,\n",
              "     'address': 'Jl. Minyak, Balikpapan 76123 Indonesia',\n",
              "     'min_price': 0,\n",
              "     'max_price': 0,\n",
              "     'activity': 'Outdoor',\n",
              "     'category': 'Culture',\n",
              "     'description': 'Monumen di Balikapapan',\n",
              "     'distance': 0.7183885313672563},\n",
              "    {'location_id': 14080808,\n",
              "     'place_name': 'Aquaboom Waterpark',\n",
              "     'city': 'Balikpapan',\n",
              "     'rating': 4.5,\n",
              "     'latitude': -1.277226,\n",
              "     'longitude': 116.83667,\n",
              "     'opening_hours': {'week_ranges': [[{'open_time': 800,\n",
              "         'close_time': 1800}],\n",
              "       [{'open_time': 800, 'close_time': 1800}],\n",
              "       [{'open_time': 800, 'close_time': 1800}],\n",
              "       [{'open_time': 800, 'close_time': 1800}],\n",
              "       [{'open_time': 800, 'close_time': 1800}],\n",
              "       [{'open_time': 800, 'close_time': 1800}],\n",
              "       [{'open_time': 800, 'close_time': 1800}]],\n",
              "      'timezone': 'Asia/Makassar'},\n",
              "     'contact_number': '+62 813-4919-0370',\n",
              "     'photo': {'images': {'small': {'width': '250',\n",
              "        'url': 'https://media-cdn.tripadvisor.com/media/photo-f/19/38/ff/49/bearish-dan-juga-keren.jpg',\n",
              "        'height': '141'},\n",
              "       'thumbnail': {'width': '50',\n",
              "        'url': 'https://media-cdn.tripadvisor.com/media/photo-t/19/38/ff/49/bearish-dan-juga-keren.jpg',\n",
              "        'height': '50'},\n",
              "       'original': {'width': '1280',\n",
              "        'url': 'https://media-cdn.tripadvisor.com/media/photo-m/1280/19/38/ff/49/bearish-dan-juga-keren.jpg',\n",
              "        'height': '720'},\n",
              "       'large': {'width': '1024',\n",
              "        'url': 'https://media-cdn.tripadvisor.com/media/photo-w/19/38/ff/49/bearish-dan-juga-keren.jpg',\n",
              "        'height': '576'},\n",
              "       'medium': {'width': '550',\n",
              "        'url': 'https://media-cdn.tripadvisor.com/media/photo-s/19/38/ff/49/bearish-dan-juga-keren.jpg',\n",
              "        'height': '309'}},\n",
              "      'is_blessed': False,\n",
              "      'uploaded_date': '2019-09-13T01:27:32-0400',\n",
              "      'caption': 'bearish dan juga keren',\n",
              "      'id': '423165769',\n",
              "      'helpful_votes': '0',\n",
              "      'published_date': '2019-09-13T01:27:32-0400',\n",
              "      'user': {'user_id': None, 'member_id': '0', 'type': 'user'}},\n",
              "     'address': 'Jl.Jend.Sudirman no 47 Balikpapan Superblok Complex, Nicopolis South Tower Astara F 7, Balikpapan 76114 Indonesia',\n",
              "     'min_price': 95000,\n",
              "     'max_price': 150000,\n",
              "     'activity': 'Outdoor',\n",
              "     'category': 'Amusement Parks',\n",
              "     'description': 'Aquaboom Waterpark Balikpapan, satu-satunya waterpark yang dibangun diatas gedung bertingkat di Indonesia.',\n",
              "     'distance': 0.7267662231942249}]}},\n",
              " {'2023-06-16': {'date': '2023-06-16',\n",
              "   'todo': [{'location_id': 10821404,\n",
              "     'place_name': 'Demonstration Monument',\n",
              "     'city': 'Balikpapan',\n",
              "     'rating': 4.5,\n",
              "     'latitude': -1.24984,\n",
              "     'longitude': 116.82822,\n",
              "     'opening_hours': {'week_ranges': [[{'open_time': 0, 'close_time': 2400}],\n",
              "       [{'open_time': 0, 'close_time': 2400}],\n",
              "       [{'open_time': 0, 'close_time': 2400}],\n",
              "       [{'open_time': 0, 'close_time': 2400}],\n",
              "       [{'open_time': 0, 'close_time': 2400}],\n",
              "       [{'open_time': 0, 'close_time': 2400}],\n",
              "       [{'open_time': 0, 'close_time': 2400}]],\n",
              "      'timezone': 'Asia/Makassar'},\n",
              "     'contact_number': None,\n",
              "     'photo': None,\n",
              "     'address': 'Jl. Minyak, Balikpapan 76123 Indonesia',\n",
              "     'min_price': 0,\n",
              "     'max_price': 0,\n",
              "     'activity': 'Outdoor',\n",
              "     'category': 'Culture',\n",
              "     'description': 'Monumen di Balikapapan',\n",
              "     'distance': 0.7183885313672563},\n",
              "    {'location_id': 14080808,\n",
              "     'place_name': 'Aquaboom Waterpark',\n",
              "     'city': 'Balikpapan',\n",
              "     'rating': 4.5,\n",
              "     'latitude': -1.277226,\n",
              "     'longitude': 116.83667,\n",
              "     'opening_hours': {'week_ranges': [[{'open_time': 800,\n",
              "         'close_time': 1800}],\n",
              "       [{'open_time': 800, 'close_time': 1800}],\n",
              "       [{'open_time': 800, 'close_time': 1800}],\n",
              "       [{'open_time': 800, 'close_time': 1800}],\n",
              "       [{'open_time': 800, 'close_time': 1800}],\n",
              "       [{'open_time': 800, 'close_time': 1800}],\n",
              "       [{'open_time': 800, 'close_time': 1800}]],\n",
              "      'timezone': 'Asia/Makassar'},\n",
              "     'contact_number': '+62 813-4919-0370',\n",
              "     'photo': {'images': {'small': {'width': '250',\n",
              "        'url': 'https://media-cdn.tripadvisor.com/media/photo-f/19/38/ff/49/bearish-dan-juga-keren.jpg',\n",
              "        'height': '141'},\n",
              "       'thumbnail': {'width': '50',\n",
              "        'url': 'https://media-cdn.tripadvisor.com/media/photo-t/19/38/ff/49/bearish-dan-juga-keren.jpg',\n",
              "        'height': '50'},\n",
              "       'original': {'width': '1280',\n",
              "        'url': 'https://media-cdn.tripadvisor.com/media/photo-m/1280/19/38/ff/49/bearish-dan-juga-keren.jpg',\n",
              "        'height': '720'},\n",
              "       'large': {'width': '1024',\n",
              "        'url': 'https://media-cdn.tripadvisor.com/media/photo-w/19/38/ff/49/bearish-dan-juga-keren.jpg',\n",
              "        'height': '576'},\n",
              "       'medium': {'width': '550',\n",
              "        'url': 'https://media-cdn.tripadvisor.com/media/photo-s/19/38/ff/49/bearish-dan-juga-keren.jpg',\n",
              "        'height': '309'}},\n",
              "      'is_blessed': False,\n",
              "      'uploaded_date': '2019-09-13T01:27:32-0400',\n",
              "      'caption': 'bearish dan juga keren',\n",
              "      'id': '423165769',\n",
              "      'helpful_votes': '0',\n",
              "      'published_date': '2019-09-13T01:27:32-0400',\n",
              "      'user': {'user_id': None, 'member_id': '0', 'type': 'user'}},\n",
              "     'address': 'Jl.Jend.Sudirman no 47 Balikpapan Superblok Complex, Nicopolis South Tower Astara F 7, Balikpapan 76114 Indonesia',\n",
              "     'min_price': 95000,\n",
              "     'max_price': 150000,\n",
              "     'activity': 'Outdoor',\n",
              "     'category': 'Amusement Parks',\n",
              "     'description': 'Aquaboom Waterpark Balikpapan, satu-satunya waterpark yang dibangun diatas gedung bertingkat di Indonesia.',\n",
              "     'distance': 0.7267662231942249}]}}]"
            ]
          },
          "execution_count": 16,
          "metadata": {},
          "output_type": "execute_result"
        }
      ],
      "source": [
        "user_activity = \"Outdoor\"\n",
        "user_latitude = -1.2654\n",
        "user_longitude = 116.11\n",
        "start_date = '2023-06-15'\n",
        "end_date = '2023-06-16'\n",
        "quantity_per_day = 2\n",
        "\n",
        "itinerary_by_date(user_activity, user_latitude, user_longitude, start_date, end_date, quantity_per_day)"
      ]
    }
  ],
  "metadata": {
    "colab": {
      "provenance": []
    },
    "kernelspec": {
      "display_name": "Python 3",
      "name": "python3"
    },
    "language_info": {
      "name": "python"
    }
  },
  "nbformat": 4,
  "nbformat_minor": 0
}
