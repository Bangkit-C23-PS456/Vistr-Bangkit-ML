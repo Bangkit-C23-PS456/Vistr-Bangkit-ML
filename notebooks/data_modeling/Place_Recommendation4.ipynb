{
  "nbformat": 4,
  "nbformat_minor": 0,
  "metadata": {
    "colab": {
      "provenance": []
    },
    "kernelspec": {
      "name": "python3",
      "display_name": "Python 3"
    },
    "language_info": {
      "name": "python"
    }
  },
  "cells": [
    {
      "cell_type": "code",
      "execution_count": 1,
      "metadata": {
        "colab": {
          "base_uri": "https://localhost:8080/"
        },
        "id": "vxRfqlD2PLEB",
        "outputId": "861ed8b1-c641-48eb-a069-f3378b4c739e"
      },
      "outputs": [
        {
          "output_type": "stream",
          "name": "stdout",
          "text": [
            "Looking in indexes: https://pypi.org/simple, https://us-python.pkg.dev/colab-wheels/public/simple/\n",
            "Requirement already satisfied: tensorflow in /usr/local/lib/python3.10/dist-packages (2.12.0)\n",
            "Requirement already satisfied: absl-py>=1.0.0 in /usr/local/lib/python3.10/dist-packages (from tensorflow) (1.4.0)\n",
            "Requirement already satisfied: astunparse>=1.6.0 in /usr/local/lib/python3.10/dist-packages (from tensorflow) (1.6.3)\n",
            "Requirement already satisfied: flatbuffers>=2.0 in /usr/local/lib/python3.10/dist-packages (from tensorflow) (23.3.3)\n",
            "Requirement already satisfied: gast<=0.4.0,>=0.2.1 in /usr/local/lib/python3.10/dist-packages (from tensorflow) (0.4.0)\n",
            "Requirement already satisfied: google-pasta>=0.1.1 in /usr/local/lib/python3.10/dist-packages (from tensorflow) (0.2.0)\n",
            "Requirement already satisfied: grpcio<2.0,>=1.24.3 in /usr/local/lib/python3.10/dist-packages (from tensorflow) (1.54.0)\n",
            "Requirement already satisfied: h5py>=2.9.0 in /usr/local/lib/python3.10/dist-packages (from tensorflow) (3.8.0)\n",
            "Requirement already satisfied: jax>=0.3.15 in /usr/local/lib/python3.10/dist-packages (from tensorflow) (0.4.10)\n",
            "Requirement already satisfied: keras<2.13,>=2.12.0 in /usr/local/lib/python3.10/dist-packages (from tensorflow) (2.12.0)\n",
            "Requirement already satisfied: libclang>=13.0.0 in /usr/local/lib/python3.10/dist-packages (from tensorflow) (16.0.0)\n",
            "Requirement already satisfied: numpy<1.24,>=1.22 in /usr/local/lib/python3.10/dist-packages (from tensorflow) (1.22.4)\n",
            "Requirement already satisfied: opt-einsum>=2.3.2 in /usr/local/lib/python3.10/dist-packages (from tensorflow) (3.3.0)\n",
            "Requirement already satisfied: packaging in /usr/local/lib/python3.10/dist-packages (from tensorflow) (23.1)\n",
            "Requirement already satisfied: protobuf!=4.21.0,!=4.21.1,!=4.21.2,!=4.21.3,!=4.21.4,!=4.21.5,<5.0.0dev,>=3.20.3 in /usr/local/lib/python3.10/dist-packages (from tensorflow) (3.20.3)\n",
            "Requirement already satisfied: setuptools in /usr/local/lib/python3.10/dist-packages (from tensorflow) (67.7.2)\n",
            "Requirement already satisfied: six>=1.12.0 in /usr/local/lib/python3.10/dist-packages (from tensorflow) (1.16.0)\n",
            "Requirement already satisfied: tensorboard<2.13,>=2.12 in /usr/local/lib/python3.10/dist-packages (from tensorflow) (2.12.2)\n",
            "Requirement already satisfied: tensorflow-estimator<2.13,>=2.12.0 in /usr/local/lib/python3.10/dist-packages (from tensorflow) (2.12.0)\n",
            "Requirement already satisfied: termcolor>=1.1.0 in /usr/local/lib/python3.10/dist-packages (from tensorflow) (2.3.0)\n",
            "Requirement already satisfied: typing-extensions>=3.6.6 in /usr/local/lib/python3.10/dist-packages (from tensorflow) (4.5.0)\n",
            "Requirement already satisfied: wrapt<1.15,>=1.11.0 in /usr/local/lib/python3.10/dist-packages (from tensorflow) (1.14.1)\n",
            "Requirement already satisfied: tensorflow-io-gcs-filesystem>=0.23.1 in /usr/local/lib/python3.10/dist-packages (from tensorflow) (0.32.0)\n",
            "Requirement already satisfied: wheel<1.0,>=0.23.0 in /usr/local/lib/python3.10/dist-packages (from astunparse>=1.6.0->tensorflow) (0.40.0)\n",
            "Requirement already satisfied: ml-dtypes>=0.1.0 in /usr/local/lib/python3.10/dist-packages (from jax>=0.3.15->tensorflow) (0.1.0)\n",
            "Requirement already satisfied: scipy>=1.7 in /usr/local/lib/python3.10/dist-packages (from jax>=0.3.15->tensorflow) (1.10.1)\n",
            "Requirement already satisfied: google-auth<3,>=1.6.3 in /usr/local/lib/python3.10/dist-packages (from tensorboard<2.13,>=2.12->tensorflow) (2.17.3)\n",
            "Requirement already satisfied: google-auth-oauthlib<1.1,>=0.5 in /usr/local/lib/python3.10/dist-packages (from tensorboard<2.13,>=2.12->tensorflow) (1.0.0)\n",
            "Requirement already satisfied: markdown>=2.6.8 in /usr/local/lib/python3.10/dist-packages (from tensorboard<2.13,>=2.12->tensorflow) (3.4.3)\n",
            "Requirement already satisfied: requests<3,>=2.21.0 in /usr/local/lib/python3.10/dist-packages (from tensorboard<2.13,>=2.12->tensorflow) (2.27.1)\n",
            "Requirement already satisfied: tensorboard-data-server<0.8.0,>=0.7.0 in /usr/local/lib/python3.10/dist-packages (from tensorboard<2.13,>=2.12->tensorflow) (0.7.0)\n",
            "Requirement already satisfied: tensorboard-plugin-wit>=1.6.0 in /usr/local/lib/python3.10/dist-packages (from tensorboard<2.13,>=2.12->tensorflow) (1.8.1)\n",
            "Requirement already satisfied: werkzeug>=1.0.1 in /usr/local/lib/python3.10/dist-packages (from tensorboard<2.13,>=2.12->tensorflow) (2.3.0)\n",
            "Requirement already satisfied: cachetools<6.0,>=2.0.0 in /usr/local/lib/python3.10/dist-packages (from google-auth<3,>=1.6.3->tensorboard<2.13,>=2.12->tensorflow) (5.3.0)\n",
            "Requirement already satisfied: pyasn1-modules>=0.2.1 in /usr/local/lib/python3.10/dist-packages (from google-auth<3,>=1.6.3->tensorboard<2.13,>=2.12->tensorflow) (0.3.0)\n",
            "Requirement already satisfied: rsa<5,>=3.1.4 in /usr/local/lib/python3.10/dist-packages (from google-auth<3,>=1.6.3->tensorboard<2.13,>=2.12->tensorflow) (4.9)\n",
            "Requirement already satisfied: requests-oauthlib>=0.7.0 in /usr/local/lib/python3.10/dist-packages (from google-auth-oauthlib<1.1,>=0.5->tensorboard<2.13,>=2.12->tensorflow) (1.3.1)\n",
            "Requirement already satisfied: urllib3<1.27,>=1.21.1 in /usr/local/lib/python3.10/dist-packages (from requests<3,>=2.21.0->tensorboard<2.13,>=2.12->tensorflow) (1.26.15)\n",
            "Requirement already satisfied: certifi>=2017.4.17 in /usr/local/lib/python3.10/dist-packages (from requests<3,>=2.21.0->tensorboard<2.13,>=2.12->tensorflow) (2022.12.7)\n",
            "Requirement already satisfied: charset-normalizer~=2.0.0 in /usr/local/lib/python3.10/dist-packages (from requests<3,>=2.21.0->tensorboard<2.13,>=2.12->tensorflow) (2.0.12)\n",
            "Requirement already satisfied: idna<4,>=2.5 in /usr/local/lib/python3.10/dist-packages (from requests<3,>=2.21.0->tensorboard<2.13,>=2.12->tensorflow) (3.4)\n",
            "Requirement already satisfied: MarkupSafe>=2.1.1 in /usr/local/lib/python3.10/dist-packages (from werkzeug>=1.0.1->tensorboard<2.13,>=2.12->tensorflow) (2.1.2)\n",
            "Requirement already satisfied: pyasn1<0.6.0,>=0.4.6 in /usr/local/lib/python3.10/dist-packages (from pyasn1-modules>=0.2.1->google-auth<3,>=1.6.3->tensorboard<2.13,>=2.12->tensorflow) (0.5.0)\n",
            "Requirement already satisfied: oauthlib>=3.0.0 in /usr/local/lib/python3.10/dist-packages (from requests-oauthlib>=0.7.0->google-auth-oauthlib<1.1,>=0.5->tensorboard<2.13,>=2.12->tensorflow) (3.2.2)\n"
          ]
        }
      ],
      "source": [
        "!pip install tensorflow"
      ]
    },
    {
      "cell_type": "code",
      "source": [
        "import tensorflow as tf\n",
        "import os\n",
        "import pandas as pd\n",
        "import numpy as np\n",
        "import json\n",
        "import math"
      ],
      "metadata": {
        "id": "p91R4XiIPRrF"
      },
      "execution_count": 2,
      "outputs": []
    },
    {
      "cell_type": "code",
      "source": [
        "places_df = pd.read_json(\"./todo_add.json\")\n",
        "places_df.info()"
      ],
      "metadata": {
        "colab": {
          "base_uri": "https://localhost:8080/"
        },
        "id": "Z8Me-RH-PXvP",
        "outputId": "1856fcd4-1264-41ce-9620-8997cdc93698"
      },
      "execution_count": 12,
      "outputs": [
        {
          "output_type": "stream",
          "name": "stdout",
          "text": [
            "<class 'pandas.core.frame.DataFrame'>\n",
            "RangeIndex: 117 entries, 0 to 116\n",
            "Data columns (total 15 columns):\n",
            " #   Column          Non-Null Count  Dtype  \n",
            "---  ------          --------------  -----  \n",
            " 0   location_id     117 non-null    int64  \n",
            " 1   place_name      117 non-null    object \n",
            " 2   city            117 non-null    object \n",
            " 3   rating          117 non-null    float64\n",
            " 4   latitude        117 non-null    float64\n",
            " 5   longitude       117 non-null    float64\n",
            " 6   opening_hours   109 non-null    object \n",
            " 7   contact_number  49 non-null     object \n",
            " 8   photo           103 non-null    object \n",
            " 9   address         117 non-null    object \n",
            " 10  min_price       117 non-null    int64  \n",
            " 11  max_price       117 non-null    int64  \n",
            " 12  activity        117 non-null    object \n",
            " 13  category        117 non-null    object \n",
            " 14  description     117 non-null    object \n",
            "dtypes: float64(3), int64(3), object(9)\n",
            "memory usage: 13.8+ KB\n"
          ]
        }
      ]
    },
    {
      "cell_type": "code",
      "source": [
        "def get_recommendations_tf(user_activity, user_category, user_latitude, user_longitude):\n",
        "    # Define the user's preferences\n",
        "    user_activity = tf.constant(user_activity, dtype=tf.string)\n",
        "    user_category = tf.constant(user_category, dtype=tf.string)\n",
        "    user_latitude = tf.constant(user_latitude, dtype=tf.float32)\n",
        "    user_longitude = tf.constant(user_longitude, dtype=tf.float32)\n",
        "\n",
        "    # Define the places with their activity, category, latitude, and longitude\n",
        "    places = places_df\n",
        "\n",
        "    # Calculate the distance between the user's location and the places' locations\n",
        "    places[\"distance\"] = tf.sqrt(\n",
        "        tf.square(places[\"latitude\"] - user_latitude) + tf.square(places[\"longitude\"] - user_longitude)\n",
        "    )\n",
        "\n",
        "    # Filter the places based on the user's preferences\n",
        "    # filtered_places = [\n",
        "    #     place for index, place in places_df.iterrows()\n",
        "    #     if place[\"activity\"] == user_activity and place[\"category\"] == user_category\n",
        "    # ]\n",
        "    filtered_places = places[\n",
        "        (places[\"activity\"] == user_activity) & (places[\"category\"] == user_category)\n",
        "    ]\n",
        "\n",
        "    # Sort the filtered places by distance\n",
        "    # sorted_places = sorted(filtered_places, key=lambda x: x[\"distance\"])\n",
        "    sorted_places = filtered_places.sort_values(by=\"distance\")\n",
        "\n",
        "    # Find the indices of the top k recommendations\n",
        "    k = 3\n",
        "    # top_indices = tf.argsort(distance)[:k]\n",
        "    top_indices = tf.argsort(sorted_places[\"distance\"])[:k]\n",
        "\n",
        "    # Gather the top k recommendations from the sorted places tensor\n",
        "    # top_recommendations = tf.gather(sorted_places, top_indices)\n",
        "    top_recommendations = sorted_places.iloc[top_indices]\n",
        "\n",
        "    # Print the recommendations\n",
        "    # for recommendation in top_recommendations:\n",
        "    #     print(recommendation)\n",
        "    for index, recommendation in top_recommendations.iterrows():\n",
        "        print(recommendation)"
      ],
      "metadata": {
        "id": "M6YmYiDdPcNg"
      },
      "execution_count": 19,
      "outputs": []
    },
    {
      "cell_type": "code",
      "source": [
        "# Example usage\n",
        "user_activity = \"Outdoor\"\n",
        "user_category = \"Beach\"\n",
        "user_latitude = -1.2654\n",
        "user_longitude = 116.8311"
      ],
      "metadata": {
        "id": "dptiiyT9Pgs9"
      },
      "execution_count": 16,
      "outputs": []
    },
    {
      "cell_type": "code",
      "source": [
        "get_recommendations_tf(user_activity, user_category, user_latitude, user_longitude)"
      ],
      "metadata": {
        "colab": {
          "base_uri": "https://localhost:8080/"
        },
        "id": "3z3gj1BkPklp",
        "outputId": "1dc5bb70-7e33-4b6d-8c90-d1be21b83dc5"
      },
      "execution_count": 21,
      "outputs": [
        {
          "output_type": "stream",
          "name": "stdout",
          "text": [
            "location_id                                                 8858076\n",
            "place_name                                            Melawai Beach\n",
            "city                                                     Balikpapan\n",
            "rating                                                          3.5\n",
            "latitude                                                   -1.27744\n",
            "longitude                                                  116.8275\n",
            "opening_hours     {'week_ranges': [[{'open_time': 800, 'close_ti...\n",
            "contact_number                                                 None\n",
            "photo             {'images': {'small': {'width': '150', 'url': '...\n",
            "address            Jl. Jendral Sudirman, Balikpapan 76112 Indonesia\n",
            "min_price                                                      5000\n",
            "max_price                                                     15000\n",
            "activity                                                    Outdoor\n",
            "category                                                      Beach\n",
            "description       Keindahan Pantai Melawai adalah pada saat mata...\n",
            "distance                                                   0.012567\n",
            "Name: 11, dtype: object\n",
            "location_id                                                10060175\n",
            "place_name                                            Monpera Beach\n",
            "city                                                     Balikpapan\n",
            "rating                                                          3.5\n",
            "latitude                                                  -1.277929\n",
            "longitude                                                 116.82593\n",
            "opening_hours     {'week_ranges': [[{'open_time': 0, 'close_time...\n",
            "contact_number                                                 None\n",
            "photo             {'images': {'small': {'width': '150', 'url': '...\n",
            "address           Jl. Jenderal Sudirman No.1 RW.RT.11, Klandasan...\n",
            "min_price                                                         0\n",
            "max_price                                                         0\n",
            "activity                                                    Outdoor\n",
            "category                                                      Beach\n",
            "description                                                        \n",
            "distance                                                   0.013555\n",
            "Name: 27, dtype: object\n",
            "location_id                                                 8125186\n",
            "place_name                                             Kemala Beach\n",
            "city                                                     Balikpapan\n",
            "rating                                                          3.5\n",
            "latitude                                                  -1.280392\n",
            "longitude                                                 116.81875\n",
            "opening_hours     {'week_ranges': [[{'open_time': 480, 'close_ti...\n",
            "contact_number                                                 None\n",
            "photo             {'images': {'small': {'width': '150', 'url': '...\n",
            "address                                        Balikpapan Indonesia\n",
            "min_price                                                     25000\n",
            "max_price                                                     30000\n",
            "activity                                                    Outdoor\n",
            "category                                                      Beach\n",
            "description       Pantai ini terletak di sisi kiri jalan dengan ...\n",
            "distance                                                   0.019425\n",
            "Name: 12, dtype: object\n"
          ]
        }
      ]
    }
  ]
}