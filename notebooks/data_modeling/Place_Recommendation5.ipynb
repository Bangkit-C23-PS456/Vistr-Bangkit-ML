{
  "nbformat": 4,
  "nbformat_minor": 0,
  "metadata": {
    "colab": {
      "provenance": []
    },
    "kernelspec": {
      "name": "python3",
      "display_name": "Python 3"
    },
    "language_info": {
      "name": "python"
    }
  },
  "cells": [
    {
      "cell_type": "code",
      "source": [
        "import pandas as pd\n",
        "import numpy as np\n",
        "import tensorflow as tf\n",
        "from sklearn.neighbors import NearestNeighbors"
      ],
      "metadata": {
        "id": "Na-2LdGUh4Xj"
      },
      "execution_count": 9,
      "outputs": []
    },
    {
      "cell_type": "code",
      "source": [
        "places_df = pd.read_json(\"./todo_add.json\")\n",
        "places_df.info()"
      ],
      "metadata": {
        "colab": {
          "base_uri": "https://localhost:8080/"
        },
        "id": "OE-R-btCh_cs",
        "outputId": "c7abe349-6450-41d5-9355-3c98876077bd"
      },
      "execution_count": 3,
      "outputs": [
        {
          "output_type": "stream",
          "name": "stdout",
          "text": [
            "<class 'pandas.core.frame.DataFrame'>\n",
            "RangeIndex: 117 entries, 0 to 116\n",
            "Data columns (total 15 columns):\n",
            " #   Column          Non-Null Count  Dtype  \n",
            "---  ------          --------------  -----  \n",
            " 0   location_id     117 non-null    int64  \n",
            " 1   place_name      117 non-null    object \n",
            " 2   city            117 non-null    object \n",
            " 3   rating          117 non-null    float64\n",
            " 4   latitude        117 non-null    float64\n",
            " 5   longitude       117 non-null    float64\n",
            " 6   opening_hours   109 non-null    object \n",
            " 7   contact_number  49 non-null     object \n",
            " 8   photo           103 non-null    object \n",
            " 9   address         117 non-null    object \n",
            " 10  min_price       117 non-null    int64  \n",
            " 11  max_price       117 non-null    int64  \n",
            " 12  activity        117 non-null    object \n",
            " 13  category        117 non-null    object \n",
            " 14  description     117 non-null    object \n",
            "dtypes: float64(3), int64(3), object(9)\n",
            "memory usage: 13.8+ KB\n"
          ]
        }
      ]
    },
    {
      "cell_type": "code",
      "source": [
        "def get_recommendations_cf(user_activity, user_category, user_latitude, user_longitude):\n",
        "    # Define the user's preferences\n",
        "    user_activity = tf.constant(user_activity, dtype=tf.string)\n",
        "    user_category = tf.constant(user_category, dtype=tf.string)\n",
        "    user_latitude = tf.constant(user_latitude, dtype=tf.float32)\n",
        "    user_longitude = tf.constant(user_longitude, dtype=tf.float32)\n",
        "\n",
        "    # Define the places with their activity, category, latitude, and longitude\n",
        "    places = places_df\n",
        "\n",
        "    # Calculate the distance between the user's location and the places' locations\n",
        "    places[\"distance\"] = np.sqrt(\n",
        "        np.square(places[\"latitude\"] - user_latitude) + np.square(places[\"longitude\"] - user_longitude)\n",
        "    )\n",
        "\n",
        "    # Filter the places based on the user's preferences\n",
        "    filtered_places = places[\n",
        "        (places[\"activity\"] == user_activity) & (places[\"category\"] == user_category)\n",
        "    ]\n",
        "\n",
        "    # Perform collaborative filtering using k-nearest neighbors\n",
        "    X = filtered_places[[\"latitude\", \"longitude\"]].values\n",
        "    nbrs = NearestNeighbors(n_neighbors=3).fit(X)\n",
        "    distances, indices = nbrs.kneighbors([[user_latitude, user_longitude]])\n",
        "\n",
        "    # Get the top recommendations based on nearest neighbors\n",
        "    top_indices = indices[0]\n",
        "    top_recommendations = filtered_places.iloc[top_indices]\n",
        "\n",
        "    # Print the recommendations\n",
        "    for index, recommendation in top_recommendations.iterrows():\n",
        "        print(recommendation)"
      ],
      "metadata": {
        "id": "pdANzXU8iAdg"
      },
      "execution_count": 10,
      "outputs": []
    },
    {
      "cell_type": "code",
      "source": [
        "# Example usage\n",
        "user_activity = \"Outdoor\"\n",
        "user_category = \"Beach\"\n",
        "user_latitude = -1.2654\n",
        "user_longitude = 116.8311"
      ],
      "metadata": {
        "id": "8m18MwJJiMn7"
      },
      "execution_count": 7,
      "outputs": []
    },
    {
      "cell_type": "code",
      "source": [
        "get_recommendations_cf(user_activity, user_category, user_latitude, user_longitude)"
      ],
      "metadata": {
        "colab": {
          "base_uri": "https://localhost:8080/"
        },
        "id": "KqQDNEsEiVPT",
        "outputId": "0774aa1f-8313-4356-c7ab-ae595d8c26e4"
      },
      "execution_count": 12,
      "outputs": [
        {
          "output_type": "stream",
          "name": "stdout",
          "text": [
            "location_id                                                 8858076\n",
            "place_name                                            Melawai Beach\n",
            "city                                                     Balikpapan\n",
            "rating                                                          3.5\n",
            "latitude                                                   -1.27744\n",
            "longitude                                                  116.8275\n",
            "opening_hours     {'week_ranges': [[{'open_time': 800, 'close_ti...\n",
            "contact_number                                                 None\n",
            "photo             {'images': {'small': {'width': '150', 'url': '...\n",
            "address            Jl. Jendral Sudirman, Balikpapan 76112 Indonesia\n",
            "min_price                                                      5000\n",
            "max_price                                                     15000\n",
            "activity                                                    Outdoor\n",
            "category                                                      Beach\n",
            "description       Keindahan Pantai Melawai adalah pada saat mata...\n",
            "distance                                                   0.012567\n",
            "Name: 11, dtype: object\n",
            "location_id                                                10060175\n",
            "place_name                                            Monpera Beach\n",
            "city                                                     Balikpapan\n",
            "rating                                                          3.5\n",
            "latitude                                                  -1.277929\n",
            "longitude                                                 116.82593\n",
            "opening_hours     {'week_ranges': [[{'open_time': 0, 'close_time...\n",
            "contact_number                                                 None\n",
            "photo             {'images': {'small': {'width': '150', 'url': '...\n",
            "address           Jl. Jenderal Sudirman No.1 RW.RT.11, Klandasan...\n",
            "min_price                                                         0\n",
            "max_price                                                         0\n",
            "activity                                                    Outdoor\n",
            "category                                                      Beach\n",
            "description                                                        \n",
            "distance                                                   0.013555\n",
            "Name: 27, dtype: object\n",
            "location_id                                                 8125186\n",
            "place_name                                             Kemala Beach\n",
            "city                                                     Balikpapan\n",
            "rating                                                          3.5\n",
            "latitude                                                  -1.280392\n",
            "longitude                                                 116.81875\n",
            "opening_hours     {'week_ranges': [[{'open_time': 480, 'close_ti...\n",
            "contact_number                                                 None\n",
            "photo             {'images': {'small': {'width': '150', 'url': '...\n",
            "address                                        Balikpapan Indonesia\n",
            "min_price                                                     25000\n",
            "max_price                                                     30000\n",
            "activity                                                    Outdoor\n",
            "category                                                      Beach\n",
            "description       Pantai ini terletak di sisi kiri jalan dengan ...\n",
            "distance                                                   0.019425\n",
            "Name: 12, dtype: object\n"
          ]
        }
      ]
    },
    {
      "cell_type": "code",
      "source": [
        "def get_recommendations_nn(user_activity, user_category, user_latitude, user_longitude):\n",
        "    # Define the user's preferences\n",
        "    user_activity = tf.constant(user_activity, dtype=tf.string)\n",
        "    user_category = tf.constant(user_category, dtype=tf.string)\n",
        "    user_latitude = tf.constant(user_latitude, dtype=tf.float32)\n",
        "    user_longitude = tf.constant(user_longitude, dtype=tf.float32)\n",
        "\n",
        "    # Define the places with their activity, category, latitude, longitude, and rating\n",
        "    places = places_df\n",
        "\n",
        "    # Calculate the distance between the user's location and the places' locations\n",
        "    places[\"distance\"] = np.sqrt(\n",
        "        np.square(places[\"latitude\"] - user_latitude) + np.square(places[\"longitude\"] - user_longitude)\n",
        "    )\n",
        "\n",
        "    # Filter the places based on the user's preferences\n",
        "    filtered_places = places[\n",
        "        (places[\"activity\"] == user_activity) & (places[\"category\"] == user_category)\n",
        "    ]\n",
        "\n",
        "    # Perform collaborative filtering using k-nearest neighbors\n",
        "    X = filtered_places[[\"latitude\", \"longitude\", \"rating\"]].values\n",
        "    nbrs = NearestNeighbors(n_neighbors=3).fit(X)\n",
        "    distances, indices = nbrs.kneighbors([[user_latitude, user_longitude, 0]])  # 0 as a placeholder for rating\n",
        "\n",
        "    # Get the top recommendations based on nearest neighbors\n",
        "    top_indices = indices[0]\n",
        "    top_recommendations = filtered_places.iloc[top_indices]\n",
        "\n",
        "    # Print the recommendations\n",
        "    for index, recommendation in top_recommendations.iterrows():\n",
        "        print(recommendation)"
      ],
      "metadata": {
        "id": "OLJcl3zBlF-H"
      },
      "execution_count": 40,
      "outputs": []
    },
    {
      "cell_type": "code",
      "source": [
        "get_recommendations_nn(user_activity, user_category, user_latitude, user_longitude)"
      ],
      "metadata": {
        "colab": {
          "base_uri": "https://localhost:8080/"
        },
        "id": "t4ffXLpolNRX",
        "outputId": "831fae9c-8b5e-4bc9-f91d-f81c84f4bfb9"
      },
      "execution_count": 41,
      "outputs": [
        {
          "output_type": "stream",
          "name": "stdout",
          "text": [
            "location_id                                                 7914864\n",
            "place_name                                    Ulin Kariangau Bridge\n",
            "city                                                     Balikpapan\n",
            "rating                                                          3.0\n",
            "latitude                                                  -1.181737\n",
            "longitude                                                 116.83814\n",
            "opening_hours     {'week_ranges': [[{'open_time': 0, 'close_time...\n",
            "contact_number                                                 None\n",
            "photo             {'images': {'small': {'width': '250', 'url': '...\n",
            "address           Jl. Sultan Hasanudin, Karianggau, Balikpapan I...\n",
            "min_price                                                         0\n",
            "max_price                                                         0\n",
            "activity                                                    Outdoor\n",
            "category                                                      Beach\n",
            "description       Jembatan Ulin Kariangau terletak sekitar 11 km...\n",
            "distance                                                   0.083959\n",
            "Name: 13, dtype: object\n",
            "location_id                                                 8858076\n",
            "place_name                                            Melawai Beach\n",
            "city                                                     Balikpapan\n",
            "rating                                                          3.5\n",
            "latitude                                                   -1.27744\n",
            "longitude                                                  116.8275\n",
            "opening_hours     {'week_ranges': [[{'open_time': 800, 'close_ti...\n",
            "contact_number                                                 None\n",
            "photo             {'images': {'small': {'width': '150', 'url': '...\n",
            "address            Jl. Jendral Sudirman, Balikpapan 76112 Indonesia\n",
            "min_price                                                      5000\n",
            "max_price                                                     15000\n",
            "activity                                                    Outdoor\n",
            "category                                                      Beach\n",
            "description       Keindahan Pantai Melawai adalah pada saat mata...\n",
            "distance                                                   0.012567\n",
            "Name: 11, dtype: object\n",
            "location_id                                                10060175\n",
            "place_name                                            Monpera Beach\n",
            "city                                                     Balikpapan\n",
            "rating                                                          3.5\n",
            "latitude                                                  -1.277929\n",
            "longitude                                                 116.82593\n",
            "opening_hours     {'week_ranges': [[{'open_time': 0, 'close_time...\n",
            "contact_number                                                 None\n",
            "photo             {'images': {'small': {'width': '150', 'url': '...\n",
            "address           Jl. Jenderal Sudirman No.1 RW.RT.11, Klandasan...\n",
            "min_price                                                         0\n",
            "max_price                                                         0\n",
            "activity                                                    Outdoor\n",
            "category                                                      Beach\n",
            "description                                                        \n",
            "distance                                                   0.013555\n",
            "Name: 27, dtype: object\n"
          ]
        }
      ]
    },
    {
      "cell_type": "code",
      "source": [
        "import tensorflow as tf\n",
        "from sklearn.neighbors import NearestNeighbors\n",
        "import numpy as np\n",
        "import pandas as pd\n",
        "\n",
        "def get_recommendations_cf2(user_activity, user_category, user_latitude, user_longitude):\n",
        "    # Define the user's preferences\n",
        "    user_activity = tf.constant(user_activity, dtype=tf.string)\n",
        "    user_category = tf.constant(user_category, dtype=tf.string)\n",
        "    user_latitude = tf.constant(user_latitude, dtype=tf.float32)\n",
        "    user_longitude = tf.constant(user_longitude, dtype=tf.float32)\n",
        "\n",
        "    # Define the places with their activity, category, latitude, and longitude\n",
        "    places = places_df\n",
        "\n",
        "    # Calculate the distance between the user's location and the places' locations\n",
        "    places[\"distance\"] = np.sqrt(\n",
        "        np.square(places[\"latitude\"] - user_latitude) + np.square(places[\"longitude\"] - user_longitude)\n",
        "    )\n",
        "\n",
        "    # Filter the places based on the user's preferences\n",
        "    filtered_places = places[\n",
        "        (places[\"activity\"] == user_activity) & (places[\"category\"] == user_category)\n",
        "    ]\n",
        "\n",
        "    # Perform collaborative filtering using k-nearest neighbors\n",
        "    X = filtered_places[[\"latitude\", \"longitude\"]].values\n",
        "    nbrs = NearestNeighbors(n_neighbors=3).fit(X)\n",
        "    distances, indices = nbrs.kneighbors([[user_latitude, user_longitude]])\n",
        "\n",
        "    # Get the top recommendations based on nearest neighbors\n",
        "    top_indices = indices[0]\n",
        "    top_recommendations = filtered_places.iloc[top_indices]\n",
        "\n",
        "    # Create and save the model\n",
        "    model = tf.keras.models.Sequential([\n",
        "        tf.keras.layers.Dense(32, activation='relu', input_shape=(2,)),\n",
        "        tf.keras.layers.Dense(16, activation='relu'),\n",
        "        tf.keras.layers.Dense(1)\n",
        "    ])\n",
        "    model.compile(optimizer='adam', loss='mse')\n",
        "    model.fit(X, filtered_places[\"distance\"].values, epochs=10)\n",
        "\n",
        "    model.save(\"model.h5\")"
      ],
      "metadata": {
        "id": "LWkbjWg8oMb6"
      },
      "execution_count": 43,
      "outputs": []
    },
    {
      "cell_type": "code",
      "source": [
        "get_recommendations_cf2(user_activity, user_category, user_latitude, user_longitude)"
      ],
      "metadata": {
        "colab": {
          "base_uri": "https://localhost:8080/"
        },
        "id": "nAHEg-raog5l",
        "outputId": "1a80d02b-753e-4bcb-874e-671d303ca3a8"
      },
      "execution_count": 44,
      "outputs": [
        {
          "output_type": "stream",
          "name": "stdout",
          "text": [
            "Epoch 1/10\n",
            "1/1 [==============================] - 1s 1s/step - loss: 1233.0614\n",
            "Epoch 2/10\n",
            "1/1 [==============================] - 0s 15ms/step - loss: 1129.3940\n",
            "Epoch 3/10\n",
            "1/1 [==============================] - 0s 14ms/step - loss: 1030.5411\n",
            "Epoch 4/10\n",
            "1/1 [==============================] - 0s 13ms/step - loss: 936.5117\n",
            "Epoch 5/10\n",
            "1/1 [==============================] - 0s 14ms/step - loss: 847.0685\n",
            "Epoch 6/10\n",
            "1/1 [==============================] - 0s 9ms/step - loss: 762.5399\n",
            "Epoch 7/10\n",
            "1/1 [==============================] - 0s 10ms/step - loss: 682.9871\n",
            "Epoch 8/10\n",
            "1/1 [==============================] - 0s 13ms/step - loss: 608.4050\n",
            "Epoch 9/10\n",
            "1/1 [==============================] - 0s 11ms/step - loss: 538.7706\n",
            "Epoch 10/10\n",
            "1/1 [==============================] - 0s 11ms/step - loss: 474.0441\n"
          ]
        }
      ]
    },
    {
      "cell_type": "code",
      "source": [
        "# Load the saved model\n",
        "model = tf.keras.models.load_model('recommendations_model.h5')\n",
        "\n",
        "# Prepare the user input\n",
        "user_input = np.array([[user_latitude, user_longitude]], dtype=np.float32)\n",
        "\n",
        "# Get the top recommendations\n",
        "top_recommendations = model.predict(user_input)\n",
        "\n",
        "# Print the recommendations\n",
        "for recommendation in top_recommendations:\n",
        "    print(recommendation)"
      ],
      "metadata": {
        "colab": {
          "base_uri": "https://localhost:8080/"
        },
        "id": "Xu0lXFKupWiy",
        "outputId": "d93d8d23-6f0e-46f9-e000-9248c7176e2f"
      },
      "execution_count": 53,
      "outputs": [
        {
          "output_type": "stream",
          "name": "stdout",
          "text": [
            "1/1 [==============================] - 0s 119ms/step\n",
            "[21.01861]\n"
          ]
        }
      ]
    }
  ]
}