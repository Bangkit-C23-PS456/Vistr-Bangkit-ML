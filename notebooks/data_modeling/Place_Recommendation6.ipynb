{
  "nbformat": 4,
  "nbformat_minor": 0,
  "metadata": {
    "colab": {
      "provenance": []
    },
    "kernelspec": {
      "name": "python3",
      "display_name": "Python 3"
    },
    "language_info": {
      "name": "python"
    }
  },
  "cells": [
    {
      "cell_type": "code",
      "execution_count": 1,
      "metadata": {
        "id": "fuFUmDI3snjB"
      },
      "outputs": [],
      "source": [
        "import pandas as pd"
      ]
    },
    {
      "cell_type": "code",
      "source": [
        "places_df = pd.read_json(\"./todo_add.json\")"
      ],
      "metadata": {
        "id": "5_KxPtYBtOL8"
      },
      "execution_count": 3,
      "outputs": []
    },
    {
      "cell_type": "code",
      "source": [
        "print(places_df.head())"
      ],
      "metadata": {
        "id": "tNXzHDVss9Mb"
      },
      "execution_count": null,
      "outputs": []
    },
    {
      "cell_type": "code",
      "source": [
        "print(places_df.isnull().sum())"
      ],
      "metadata": {
        "colab": {
          "base_uri": "https://localhost:8080/"
        },
        "id": "MRN0kYRrtQmc",
        "outputId": "f673b788-adbe-4b4e-e951-fadc6086e181"
      },
      "execution_count": 6,
      "outputs": [
        {
          "output_type": "stream",
          "name": "stdout",
          "text": [
            "location_id        0\n",
            "place_name         0\n",
            "city               0\n",
            "rating             0\n",
            "latitude           0\n",
            "longitude          0\n",
            "opening_hours      8\n",
            "contact_number    68\n",
            "photo             14\n",
            "address            0\n",
            "min_price          0\n",
            "max_price          0\n",
            "activity           0\n",
            "category           0\n",
            "description        0\n",
            "dtype: int64\n"
          ]
        }
      ]
    },
    {
      "cell_type": "code",
      "source": [
        "places_df['rating'] = places_df['rating'].astype(float)\n",
        "places_df['latitude'] = places_df['latitude'].astype(float)\n",
        "places_df['longitude'] = places_df['longitude'].astype(float)"
      ],
      "metadata": {
        "id": "6k9aVCOdtTfB"
      },
      "execution_count": 7,
      "outputs": []
    },
    {
      "cell_type": "code",
      "source": [
        "places_df['rating'] = (places_df['rating'] - places_df['rating'].min()) / (places_df['rating'].max() - places_df['rating'].min())\n",
        "places_df['latitude'] = (places_df['latitude'] - places_df['latitude'].min()) / (places_df['latitude'].max() - places_df['latitude'].min())\n",
        "places_df['longitude'] = (places_df['longitude'] - places_df['longitude'].min()) / (places_df['longitude'].max() - places_df['longitude'].min())"
      ],
      "metadata": {
        "id": "PiVEOmFDtV_m"
      },
      "execution_count": 8,
      "outputs": []
    },
    {
      "cell_type": "code",
      "source": [
        "from sklearn.preprocessing import LabelEncoder, MinMaxScaler\n",
        "\n",
        "# Pilih atribut yang relevan\n",
        "relevant_attributes = ['activity', 'category', 'rating', 'latitude', 'longitude']\n",
        "relevant_df = places_df[relevant_attributes]\n",
        "\n",
        "# Encoding kategori\n",
        "label_encoder = LabelEncoder()\n",
        "relevant_df['activity'] = label_encoder.fit_transform(relevant_df['activity'])\n",
        "relevant_df['category'] = label_encoder.fit_transform(relevant_df['category'])\n",
        "\n",
        "# Normalisasi atribut numerik\n",
        "scaler = MinMaxScaler()\n",
        "relevant_df[['rating', 'latitude', 'longitude']] = scaler.fit_transform(relevant_df[['rating', 'latitude', 'longitude']])\n",
        "\n",
        "# Menampilkan informasi setelah preprocessing atribut\n",
        "print(relevant_df.head())"
      ],
      "metadata": {
        "colab": {
          "base_uri": "https://localhost:8080/"
        },
        "id": "M1YRN0uTtkMq",
        "outputId": "8e95cb41-49cb-4585-9bef-a96146c1ad0c"
      },
      "execution_count": 9,
      "outputs": [
        {
          "output_type": "stream",
          "name": "stdout",
          "text": [
            "   activity  category  rating  latitude  longitude\n",
            "0         2         2    0.25  0.173506   0.521923\n",
            "1         1        13    0.50  0.162914   0.492798\n",
            "2         2         6    0.50  0.216779   0.492527\n",
            "3         2         2    0.50  0.159628   0.488951\n",
            "4         1        13    0.50  0.158223   0.482900\n"
          ]
        },
        {
          "output_type": "stream",
          "name": "stderr",
          "text": [
            "<ipython-input-9-1ba633adb09f>:9: SettingWithCopyWarning: \n",
            "A value is trying to be set on a copy of a slice from a DataFrame.\n",
            "Try using .loc[row_indexer,col_indexer] = value instead\n",
            "\n",
            "See the caveats in the documentation: https://pandas.pydata.org/pandas-docs/stable/user_guide/indexing.html#returning-a-view-versus-a-copy\n",
            "  relevant_df['activity'] = label_encoder.fit_transform(relevant_df['activity'])\n",
            "<ipython-input-9-1ba633adb09f>:10: SettingWithCopyWarning: \n",
            "A value is trying to be set on a copy of a slice from a DataFrame.\n",
            "Try using .loc[row_indexer,col_indexer] = value instead\n",
            "\n",
            "See the caveats in the documentation: https://pandas.pydata.org/pandas-docs/stable/user_guide/indexing.html#returning-a-view-versus-a-copy\n",
            "  relevant_df['category'] = label_encoder.fit_transform(relevant_df['category'])\n",
            "<ipython-input-9-1ba633adb09f>:14: SettingWithCopyWarning: \n",
            "A value is trying to be set on a copy of a slice from a DataFrame.\n",
            "Try using .loc[row_indexer,col_indexer] = value instead\n",
            "\n",
            "See the caveats in the documentation: https://pandas.pydata.org/pandas-docs/stable/user_guide/indexing.html#returning-a-view-versus-a-copy\n",
            "  relevant_df[['rating', 'latitude', 'longitude']] = scaler.fit_transform(relevant_df[['rating', 'latitude', 'longitude']])\n"
          ]
        }
      ]
    },
    {
      "cell_type": "code",
      "source": [
        "from sklearn.neighbors import KNeighborsRegressor\n",
        "from sklearn.model_selection import train_test_split\n",
        "from sklearn.metrics import mean_squared_error\n",
        "\n",
        "# Memisahkan atribut dan target\n",
        "X = relevant_df.drop('rating', axis=1)\n",
        "y = relevant_df['rating']\n",
        "\n",
        "# Membagi data menjadi data latih dan data uji\n",
        "X_train, X_test, y_train, y_test = train_test_split(X, y, test_size=0.2, random_state=42)\n",
        "\n",
        "# Membuat dan melatih model KNN\n",
        "knn = KNeighborsRegressor(n_neighbors=5)\n",
        "knn.fit(X_train, y_train)\n",
        "\n",
        "# Memprediksi rating menggunakan model yang dilatih\n",
        "y_pred = knn.predict(X_test)\n",
        "\n",
        "# Evaluasi model menggunakan mean squared error (MSE)\n",
        "mse = mean_squared_error(y_test, y_pred)\n",
        "print('Mean Squared Error:', mse)"
      ],
      "metadata": {
        "colab": {
          "base_uri": "https://localhost:8080/"
        },
        "id": "1oMiKgK6tqIa",
        "outputId": "4e719f28-c536-40ae-c234-641cc90d2274"
      },
      "execution_count": 10,
      "outputs": [
        {
          "output_type": "stream",
          "name": "stdout",
          "text": [
            "Mean Squared Error: 0.07416666666666667\n"
          ]
        }
      ]
    },
    {
      "cell_type": "code",
      "source": [
        "from sklearn.neighbors import KNeighborsRegressor, BallTree\n",
        "from sklearn.model_selection import train_test_split\n",
        "from sklearn.metrics import mean_squared_error\n",
        "\n",
        "# Memisahkan atribut dan target\n",
        "X = relevant_df.drop('rating', axis=1)\n",
        "y = relevant_df['rating']\n",
        "\n",
        "# Membagi data menjadi data latih dan data uji\n",
        "X_train, X_test, y_train, y_test = train_test_split(X, y, test_size=0.2, random_state=42)\n",
        "\n",
        "# Membuat dan melatih model KNN dengan Ball Tree\n",
        "knn = KNeighborsRegressor(n_neighbors=5, algorithm='ball_tree')\n",
        "knn.fit(X_train, y_train)\n",
        "\n",
        "# Memprediksi rating menggunakan model yang dilatih\n",
        "y_pred = knn.predict(X_test)\n",
        "\n",
        "# Evaluasi model menggunakan Mean Squared Error (MSE)\n",
        "mse_knn = mean_squared_error(y_test, y_pred)\n",
        "print('MSE KNN:', mse_knn)"
      ],
      "metadata": {
        "colab": {
          "base_uri": "https://localhost:8080/"
        },
        "id": "6vM4E4MEuULo",
        "outputId": "e659013c-376b-4ee8-9d6f-0a8f9c8a9737"
      },
      "execution_count": 11,
      "outputs": [
        {
          "output_type": "stream",
          "name": "stdout",
          "text": [
            "MSE KNN: 0.07416666666666667\n"
          ]
        }
      ]
    },
    {
      "cell_type": "code",
      "source": [
        "import tensorflow as tf\n",
        "from sklearn.model_selection import train_test_split\n",
        "from sklearn.metrics import mean_squared_error\n",
        "\n",
        "# Memisahkan atribut dan target\n",
        "X = relevant_df.drop('rating', axis=1)\n",
        "y = relevant_df['rating']\n",
        "\n",
        "# Membagi data menjadi data latih dan data uji\n",
        "X_train, X_test, y_train, y_test = train_test_split(X, y, test_size=0.2, random_state=42)\n",
        "\n",
        "# Normalisasi data latih dan data uji\n",
        "scaler = MinMaxScaler()\n",
        "X_train = scaler.fit_transform(X_train)\n",
        "X_test = scaler.transform(X_test)\n",
        "\n",
        "# Membangun model Neural Network\n",
        "model = tf.keras.Sequential([\n",
        "    tf.keras.layers.Dense(64, activation='relu', input_shape=(X_train.shape[1],)),\n",
        "    tf.keras.layers.Dense(64, activation='relu'),\n",
        "    tf.keras.layers.Dense(1)\n",
        "])\n",
        "\n",
        "# Mengompilasi model\n",
        "model.compile(optimizer='adam', loss='mse')\n",
        "\n",
        "# Melatih model\n",
        "model.fit(X_train, y_train, epochs=10, batch_size=32, verbose=1)\n",
        "\n",
        "# Memprediksi rating menggunakan model yang dilatih\n",
        "y_pred = model.predict(X_test)\n",
        "\n",
        "# Evaluasi model menggunakan Mean Squared Error (MSE)\n",
        "mse_nn = mean_squared_error(y_test, y_pred)\n",
        "print('MSE Neural Network:', mse_nn)\n",
        "\n",
        "model.save('neural_network_model.h5')"
      ],
      "metadata": {
        "colab": {
          "base_uri": "https://localhost:8080/"
        },
        "id": "9NSAPhtNug32",
        "outputId": "ef198c0f-77f5-467e-a090-1617ba16efe9"
      },
      "execution_count": 14,
      "outputs": [
        {
          "output_type": "stream",
          "name": "stdout",
          "text": [
            "Epoch 1/10\n",
            "3/3 [==============================] - 1s 5ms/step - loss: 0.2948\n",
            "Epoch 2/10\n",
            "3/3 [==============================] - 0s 5ms/step - loss: 0.2023\n",
            "Epoch 3/10\n",
            "3/3 [==============================] - 0s 5ms/step - loss: 0.1375\n",
            "Epoch 4/10\n",
            "3/3 [==============================] - 0s 5ms/step - loss: 0.1019\n",
            "Epoch 5/10\n",
            "3/3 [==============================] - 0s 5ms/step - loss: 0.0938\n",
            "Epoch 6/10\n",
            "3/3 [==============================] - 0s 6ms/step - loss: 0.0960\n",
            "Epoch 7/10\n",
            "3/3 [==============================] - 0s 6ms/step - loss: 0.0989\n",
            "Epoch 8/10\n",
            "3/3 [==============================] - 0s 6ms/step - loss: 0.0965\n",
            "Epoch 9/10\n",
            "3/3 [==============================] - 0s 7ms/step - loss: 0.0907\n",
            "Epoch 10/10\n",
            "3/3 [==============================] - 0s 6ms/step - loss: 0.0850\n",
            "1/1 [==============================] - 0s 67ms/step\n",
            "MSE Neural Network: 0.05976963089969268\n"
          ]
        }
      ]
    },
    {
      "cell_type": "code",
      "source": [
        "# Load the saved model\n",
        "loaded_model = tf.keras.models.load_model('neural_network_model.h5')"
      ],
      "metadata": {
        "id": "G1zGKUKyul44"
      },
      "execution_count": 15,
      "outputs": []
    },
    {
      "cell_type": "code",
      "source": [
        "import numpy as np\n",
        "\n",
        "# User input\n",
        "user_activity = 2\n",
        "user_category = 5\n",
        "user_latitude = -1.2654\n",
        "user_longitude = 116.8311\n",
        "\n",
        "# Membuat array numpy dari user input\n",
        "user_input = np.array([[user_activity, user_category, user_latitude, user_longitude]])\n",
        "\n",
        "# Memprediksi rating menggunakan model yang dimuat\n",
        "user_rating = loaded_model.predict(user_input)\n",
        "\n",
        "# Menampilkan hasil prediksi rating\n",
        "print(\"Predicted Rating:\", user_rating[0][0])"
      ],
      "metadata": {
        "colab": {
          "base_uri": "https://localhost:8080/"
        },
        "id": "JukmrlDXvuAS",
        "outputId": "953036b6-d638-40fa-c8d3-b5fe5ce3ce1c"
      },
      "execution_count": 41,
      "outputs": [
        {
          "output_type": "stream",
          "name": "stdout",
          "text": [
            "1/1 [==============================] - 0s 28ms/step\n",
            "Predicted Rating: 30.038074\n"
          ]
        }
      ]
    },
    {
      "cell_type": "code",
      "source": [
        "from sklearn.preprocessing import OneHotEncoder\n",
        "\n",
        "# Membuat encoder OneHotEncoder\n",
        "onehot_encoder = OneHotEncoder(sparse=False)\n",
        "\n",
        "\n",
        "# Mengubah user input menjadi array numpy\n",
        "user_input = np.array([[user_activity, user_category, user_latitude, user_longitude]])\n",
        "\n",
        "# Melakukan encoding pada user input\n",
        "user_input_encoded = onehot_encoder.fit_transform(user_input)\n",
        "\n",
        "# Melakukan normalisasi pada user input\n",
        "user_input_scaled = scaler.transform(user_input_encoded)\n",
        "\n",
        "# Memprediksi rating menggunakan model yang dimuat\n",
        "user_rating = loaded_model.predict(user_input_scaled)\n",
        "\n",
        "# Menampilkan hasil prediksi rating\n",
        "print(\"Predicted Rating:\", user_rating[0][0])"
      ],
      "metadata": {
        "colab": {
          "base_uri": "https://localhost:8080/"
        },
        "id": "yKLffWKawRCk",
        "outputId": "c9f8fd89-61f3-461b-f717-aec960a585a7"
      },
      "execution_count": 28,
      "outputs": [
        {
          "output_type": "stream",
          "name": "stdout",
          "text": [
            "1/1 [==============================] - 0s 58ms/step\n",
            "Predicted Rating: 0.44024295\n"
          ]
        },
        {
          "output_type": "stream",
          "name": "stderr",
          "text": [
            "/usr/local/lib/python3.10/dist-packages/sklearn/preprocessing/_encoders.py:868: FutureWarning: `sparse` was renamed to `sparse_output` in version 1.2 and will be removed in 1.4. `sparse_output` is ignored unless you leave `sparse` to its default value.\n",
            "  warnings.warn(\n",
            "/usr/local/lib/python3.10/dist-packages/sklearn/base.py:439: UserWarning: X does not have valid feature names, but MinMaxScaler was fitted with feature names\n",
            "  warnings.warn(\n"
          ]
        }
      ]
    },
    {
      "cell_type": "code",
      "source": [
        "# Memprediksi rating menggunakan model yang dimuat\n",
        "user_rating = loaded_model.predict(user_input_scaled)\n",
        "\n",
        "# Mengambil hasil prediksi rating\n",
        "predicted_rating = user_rating[0][0]\n",
        "\n",
        "# Mengambil data yang sesuai dengan input pengguna\n",
        "filtered_data = places_df[(places_df['activity'] == user_activity) & (places_df['category'] == user_category) & (places_df['latitude'] == user_latitude) & (places_df['longitude'] == user_longitude)]\n",
        "\n",
        "# Mengambil informasi yang relevan dari data yang terfilter\n",
        "result = filtered_data[['place_name', 'city', 'rating', 'address', 'min_price', 'max_price', 'description']]\n",
        "\n",
        "# Menambahkan kolom predicted_rating ke dalam hasil\n",
        "result['predicted_rating'] = predicted_rating\n",
        "\n",
        "# Mengembalikan hasil sebagai dataframe\n",
        "print(result)"
      ],
      "metadata": {
        "colab": {
          "base_uri": "https://localhost:8080/"
        },
        "id": "KqvOiX8x4U4T",
        "outputId": "619f86c5-9e67-4812-f275-b311c0610b7f"
      },
      "execution_count": 42,
      "outputs": [
        {
          "output_type": "stream",
          "name": "stdout",
          "text": [
            "1/1 [==============================] - 0s 24ms/step\n",
            "Empty DataFrame\n",
            "Columns: [place_name, city, rating, address, min_price, max_price, description, predicted_rating]\n",
            "Index: []\n"
          ]
        }
      ]
    }
  ]
}