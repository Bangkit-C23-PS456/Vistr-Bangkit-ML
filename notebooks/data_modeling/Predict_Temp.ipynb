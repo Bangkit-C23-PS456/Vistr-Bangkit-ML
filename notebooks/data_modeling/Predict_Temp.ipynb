{
  "nbformat": 4,
  "nbformat_minor": 0,
  "metadata": {
    "colab": {
      "provenance": []
    },
    "kernelspec": {
      "name": "python3",
      "display_name": "Python 3"
    },
    "language_info": {
      "name": "python"
    }
  },
  "cells": [
    {
      "cell_type": "code",
      "execution_count": 35,
      "metadata": {
        "id": "4bDEJnNOUr4M"
      },
      "outputs": [],
      "source": [
        "from tensorflow.keras.models import load_model\n",
        "from sklearn.preprocessing import MinMaxScaler\n",
        "from datetime import datetime\n",
        "import numpy as np\n",
        "import pandas as pd"
      ]
    },
    {
      "cell_type": "code",
      "source": [
        "# Load the saved model\n",
        "model_bal = load_model(\"temp_balikpapan.h5\")\n",
        "model_ber = load_model(\"temp_berau.h5\")\n",
        "model_bon = load_model(\"temp_bontang.h5\")\n",
        "model_kut = load_model(\"temp_kutai.h5\")\n",
        "model_pen = load_model(\"temp_penajam.h5\")\n",
        "model_sam = load_model(\"temp_samarinda.h5\")\n",
        "\n",
        "df_bal = pd.read_csv('balikpapan_weather.csv')\n",
        "df_ber = pd.read_csv('berau_weather.csv')\n",
        "df_bon = pd.read_csv('bontang_weather.csv')\n",
        "df_kut = pd.read_csv('kutai_weather.csv')\n",
        "df_pen = pd.read_csv('penajam_weather.csv')\n",
        "df_sam = pd.read_csv('samarinda_weather.csv')"
      ],
      "metadata": {
        "id": "CkRYgjRcU0Wr"
      },
      "execution_count": 38,
      "outputs": []
    },
    {
      "cell_type": "code",
      "source": [
        "def predict_temperature(date, year):\n",
        "\n",
        "    if city == 'Balikpapan':\n",
        "      model = model_bal\n",
        "      df = df_bal\n",
        "    elif city == 'Berau':\n",
        "      model = model_ber\n",
        "      df = df_ber\n",
        "    elif city == 'Bontang':\n",
        "      model = model_bon\n",
        "      df = df_bon\n",
        "    elif city == 'Kutai Kertanegara':\n",
        "      model = model_kut\n",
        "      df = df_kut\n",
        "    elif city == 'Penajam':\n",
        "      model = model_pen\n",
        "      df = df_pen\n",
        "    elif city == 'Samarinda':\n",
        "      model = model_sam\n",
        "      df = df_sam\n",
        "    else:\n",
        "      return {\n",
        "          'message':'City not found'\n",
        "      }\n",
        "\n",
        "    year, month, day = map(int, date.split('-'))\n",
        "\n",
        "    # Tanggal yang akan diprediksi suhunya\n",
        "    input_date = datetime(year, month, day)\n",
        "\n",
        "    # Tentukan tanggal referensi\n",
        "    reference_date = datetime(2015, 1, 1)\n",
        "\n",
        "    # Hitung perbedaan hari antara tanggal input dan tanggal referensi\n",
        "    delta_days = (input_date - reference_date).days\n",
        "\n",
        "    data = df[['Date', 'Temp']]\n",
        "    data = data.set_index('Date')\n",
        "    # minmax scaler\n",
        "    scaler = MinMaxScaler(feature_range = (0, 1))\n",
        "    data = scaler.fit_transform(data)\n",
        "\n",
        "    # Ubah perbedaan hari menjadi representasi numerik\n",
        "    input_date_representation = scaler.transform([[delta_days]])[0]\n",
        "\n",
        "    time_step = 100  # Set the appropriate value based on your problem and data characteristics\n",
        "\n",
        "    # Buat input data untuk prediksi\n",
        "    input_data = []\n",
        "    for i in range(len(data) - time_step + 1, len(data)):\n",
        "        input_data.append(data[i, 0])\n",
        "    input_data.append(input_date_representation[0])\n",
        "\n",
        "    # Konversi input data menjadi array NumPy\n",
        "    input_data = np.array(input_data)\n",
        "\n",
        "    # Reshape input data menjadi bentuk yang dapat diterima oleh model\n",
        "    input_data = np.reshape(input_data, (1, time_step, 1))\n",
        "\n",
        "    # Lakukan prediksi suhu\n",
        "    predicted_temperature = model.predict(input_data)\n",
        "\n",
        "    # Reshape predicted_temperature to have the expected dimensions\n",
        "    predicted_temperature = np.reshape(predicted_temperature, (1, 1))\n",
        "\n",
        "    # Apply inverse_transform to convert the predicted_temperature to the original scale\n",
        "    predicted_temperature = scaler.inverse_transform(predicted_temperature)[0][0]\n",
        "\n",
        "    return {\n",
        "        'temp': predicted_temperature,\n",
        "        'city': city,\n",
        "        'date': date\n",
        "    }"
      ],
      "metadata": {
        "id": "CQOAQS_zU4yO"
      },
      "execution_count": 48,
      "outputs": []
    },
    {
      "cell_type": "code",
      "source": [
        "\n",
        "# Contoh pemanggilan fungsi\n",
        "date = '2023-06-25'\n",
        "city = 'Balikpapan'\n",
        "\n",
        "predicted_temp = predict_temperature(date, city)\n",
        "print(predicted_temp)"
      ],
      "metadata": {
        "colab": {
          "base_uri": "https://localhost:8080/"
        },
        "id": "xzia3Wf7qZMa",
        "outputId": "60f10c48-618c-4919-8af8-0a2ab5d2f3c8"
      },
      "execution_count": 49,
      "outputs": [
        {
          "output_type": "stream",
          "name": "stdout",
          "text": [
            "1/1 [==============================] - 0s 45ms/step\n",
            "{'temp': 27.610033, 'city': 'Balikpapan', 'date': '2023-06-25'}\n"
          ]
        },
        {
          "output_type": "stream",
          "name": "stderr",
          "text": [
            "/usr/local/lib/python3.10/dist-packages/sklearn/base.py:439: UserWarning: X does not have valid feature names, but MinMaxScaler was fitted with feature names\n",
            "  warnings.warn(\n"
          ]
        }
      ]
    }
  ]
}