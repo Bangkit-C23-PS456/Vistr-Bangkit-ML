{
  "nbformat": 4,
  "nbformat_minor": 0,
  "metadata": {
    "colab": {
      "provenance": []
    },
    "kernelspec": {
      "name": "python3",
      "display_name": "Python 3"
    },
    "language_info": {
      "name": "python"
    }
  },
  "cells": [
    {
      "cell_type": "code",
      "source": [
        "import pandas as pd\n",
        "from sklearn.neighbors import NearestNeighbors\n",
        "import tensorflow as tf"
      ],
      "metadata": {
        "id": "L1v9od1aXj4W"
      },
      "execution_count": 22,
      "outputs": []
    },
    {
      "cell_type": "code",
      "execution_count": 4,
      "metadata": {
        "colab": {
          "base_uri": "https://localhost:8080/"
        },
        "id": "HaDZOYADXbje",
        "outputId": "1f806201-6bc8-45e0-b94a-9fb79f22da1f"
      },
      "outputs": [
        {
          "output_type": "stream",
          "name": "stdout",
          "text": [
            "<class 'pandas.core.frame.DataFrame'>\n",
            "RangeIndex: 221 entries, 0 to 220\n",
            "Data columns (total 14 columns):\n",
            " #   Column           Non-Null Count  Dtype  \n",
            "---  ------           --------------  -----  \n",
            " 0   original_id      221 non-null    int64  \n",
            " 1   restaurant_name  221 non-null    object \n",
            " 2   cuisine          221 non-null    object \n",
            " 3   image            196 non-null    object \n",
            " 4   rating           221 non-null    float64\n",
            " 5   address          221 non-null    object \n",
            " 6   latitude         221 non-null    float64\n",
            " 7   longitude        221 non-null    float64\n",
            " 8   contact_number   165 non-null    object \n",
            " 9   website          94 non-null     object \n",
            " 10  opening_hours    221 non-null    object \n",
            " 11  city             221 non-null    object \n",
            " 12  min_price        221 non-null    int64  \n",
            " 13  max_price        221 non-null    int64  \n",
            "dtypes: float64(3), int64(3), object(8)\n",
            "memory usage: 24.3+ KB\n"
          ]
        }
      ],
      "source": [
        "data = pd.read_json(\"./restaurant_add.json\")\n",
        "data.info()"
      ]
    },
    {
      "cell_type": "code",
      "source": [
        "# Function to recommend restaurants based on latitude and longitude\n",
        "def recommend_restaurants(latitude, longitude, quantity):\n",
        "\n",
        "     # Calculate the distance between the user's location and the places' locations\n",
        "     data[\"distance\"] = tf.sqrt(\n",
        "         tf.square(data[\"latitude\"] - latitude) + tf.square(data[\"longitude\"] - longitude)\n",
        "     )\n",
        "\n",
        "     # Takes latitude, longitude, rating, and distance columns as features\n",
        "     X = data[['latitude', 'longitude', 'rating', 'distance']].values\n",
        "\n",
        "     # Build the KNN model with the number of neighbors (k) = quantity\n",
        "     knn = NearestNeighbors(n_neighbors=quantity)\n",
        "     knn.fit(X)\n",
        "\n",
        "     # Search for 5 nearest neighbors of given position\n",
        "     distances, indices = knn.kneighbors([[latitude, longitude, 5, 0]])\n",
        "\n",
        "     # Displays recommended restaurants\n",
        "     restaurant_recommendations = []\n",
        "     for index in indices[0]:\n",
        "         recommendation = data.iloc[index].to_dict()\n",
        "         restaurant_recommendations. append(recommendation)\n",
        "\n",
        "     # Checks if distance is a multiple of 20, then sorts by best rating\n",
        "     if int(data.iloc[indices[0][0]]['distance']) % 20 == 0:\n",
        "         restaurant_recommendations = sorted(restaurant_recommendations, key=lambda x: x['rating'], reverse=True)\n",
        "\n",
        "     return {\"restaurant_recommendation\": restaurant_recommendations}"
      ],
      "metadata": {
        "id": "jGhk3ZqFYi87"
      },
      "execution_count": 41,
      "outputs": []
    },
    {
      "cell_type": "code",
      "source": [
        "latitude = 0.200000\n",
        "longitude = 103.816666\n",
        "quantity = 3\n",
        "recommend_restaurants(latitude, longitude, quantity)"
      ],
      "metadata": {
        "colab": {
          "base_uri": "https://localhost:8080/"
        },
        "id": "zXYGT0Y1Yxxn",
        "outputId": "4a49924c-bc32-4cf7-9411-6fcaa3918a86"
      },
      "execution_count": 42,
      "outputs": [
        {
          "output_type": "execute_result",
          "data": {
            "text/plain": [
              "{'restaurant_recommendation': [{'original_id': 10692324,\n",
              "   'restaurant_name': 'Nyiurku Beach Resto',\n",
              "   'cuisine': 'Indonesian',\n",
              "   'image': 'https://media-cdn.tripadvisor.com/media/photo-o/1b/2d/59/7b/nyiurku-beach-resto.jpg',\n",
              "   'rating': 4.5,\n",
              "   'address': 'Jl. Jenderal Sudirman Pantai Banua Patra, Balikpapan Indonesia',\n",
              "   'latitude': -1.280833,\n",
              "   'longitude': 116.81438,\n",
              "   'contact_number': '+62 811-597-518',\n",
              "   'website': 'http://www.facebook.com/NyiurkuBeachResto',\n",
              "   'opening_hours': [[{'open': 600, 'close': 1380}],\n",
              "    [{'open': 600, 'close': 1320}],\n",
              "    [{'open': 600, 'close': 1320}],\n",
              "    [{'open': 600, 'close': 1320}],\n",
              "    [{'open': 600, 'close': 1320}],\n",
              "    [{'open': 600, 'close': 1320}],\n",
              "    [{'open': 600, 'close': 1380}]],\n",
              "   'city': 'Balikpapan',\n",
              "   'min_price': 0,\n",
              "   'max_price': 0,\n",
              "   'distance': 13.081797873369128},\n",
              "  {'original_id': 10535175,\n",
              "   'restaurant_name': 'Depot Lo Ho Kok',\n",
              "   'cuisine': ['Chinese'],\n",
              "   'image': 'https://media-cdn.tripadvisor.com/media/photo-o/12/9b/71/e3/depot-lo-ho-kok.jpg',\n",
              "   'rating': 4.5,\n",
              "   'address': 'Jl. Pandan Sari, Balikpapan Indonesia',\n",
              "   'latitude': -1.23735,\n",
              "   'longitude': 116.82566,\n",
              "   'contact_number': None,\n",
              "   'website': None,\n",
              "   'opening_hours': [],\n",
              "   'city': 'Balikpapan',\n",
              "   'min_price': 0,\n",
              "   'max_price': 0,\n",
              "   'distance': 13.088158767165687},\n",
              "  {'original_id': 12063927,\n",
              "   'restaurant_name': 'Garden Restaurant',\n",
              "   'cuisine': ['Indian',\n",
              "    'Southwestern',\n",
              "    'Arabic',\n",
              "    'Seafood',\n",
              "    'Asian',\n",
              "    'Indonesian',\n",
              "    'Vegetarian Friendly',\n",
              "    'Vegan Options',\n",
              "    'Gluten Free Options'],\n",
              "   'image': 'https://media-cdn.tripadvisor.com/media/photo-o/0e/3f/ea/40/best-chinese-food-in.jpg',\n",
              "   'rating': 4.5,\n",
              "   'address': 'Jl. Letjen Suprapto no. 1 Bluesky Hotel, Balikpapan 76131 Indonesia',\n",
              "   'latitude': -1.235689,\n",
              "   'longitude': 116.82591,\n",
              "   'contact_number': '+62 542 735845',\n",
              "   'website': 'http://www.blueskygroups.com/en/hotels/view/3/blue-sky-hotel-balikpapan',\n",
              "   'opening_hours': [[{'open': 0, 'close': 1439}],\n",
              "    [{'open': 0, 'close': 1439}],\n",
              "    [{'open': 0, 'close': 1439}],\n",
              "    [{'open': 0, 'close': 1439}],\n",
              "    [{'open': 0, 'close': 1439}],\n",
              "    [{'open': 0, 'close': 1439}],\n",
              "    [{'open': 0, 'close': 1439}]],\n",
              "   'city': 'Balikpapan',\n",
              "   'min_price': 0,\n",
              "   'max_price': 0,\n",
              "   'distance': 13.08822495055219}]}"
            ]
          },
          "metadata": {},
          "execution_count": 42
        }
      ]
    }
  ]
}