{
  "nbformat": 4,
  "nbformat_minor": 0,
  "metadata": {
    "colab": {
      "provenance": []
    },
    "kernelspec": {
      "name": "python3",
      "display_name": "Python 3"
    },
    "language_info": {
      "name": "python"
    }
  },
  "cells": [
    {
      "cell_type": "code",
      "execution_count": 1,
      "metadata": {
        "id": "NBESfd0AN7yY"
      },
      "outputs": [],
      "source": [
        "import numpy as np\n",
        "import pandas as pd\n",
        "from sklearn.model_selection import train_test_split\n",
        "import matplotlib.pyplot as plt\n",
        "from sklearn.preprocessing import MinMaxScaler\n",
        "import tensorflow as tf\n",
        "from tensorflow.keras.models import Sequential\n",
        "from tensorflow.keras.layers import Dense, LSTM, Bidirectional, Dropout\n",
        "from tensorflow.keras.callbacks import EarlyStopping"
      ]
    },
    {
      "cell_type": "code",
      "source": [
        "df = pd.read_csv('berau_weather.csv')\n",
        "df.head()"
      ],
      "metadata": {
        "id": "kvJpH6EMOGJT",
        "colab": {
          "base_uri": "https://localhost:8080/",
          "height": 206
        },
        "outputId": "388140e3-2355-435e-aea0-a400c0550aa9"
      },
      "execution_count": 2,
      "outputs": [
        {
          "output_type": "execute_result",
          "data": {
            "text/plain": [
              "   Unnamed: 0        Date  Day  Temp  Wind Weather\n",
              "0           0  2015-01-01    1  26.6  53.2   Sunny\n",
              "1           1  2015-01-02    2  26.6  53.2   Sunny\n",
              "2           2  2015-01-03    3  26.6  53.2    Rain\n",
              "3           3  2015-01-04    4  26.6  53.2  Cloudy\n",
              "4           4  2015-01-05    5  26.6  53.2    Rain"
            ],
            "text/html": [
              "\n",
              "  <div id=\"df-f1259c4c-24fb-4668-88df-fea63f0e210c\">\n",
              "    <div class=\"colab-df-container\">\n",
              "      <div>\n",
              "<style scoped>\n",
              "    .dataframe tbody tr th:only-of-type {\n",
              "        vertical-align: middle;\n",
              "    }\n",
              "\n",
              "    .dataframe tbody tr th {\n",
              "        vertical-align: top;\n",
              "    }\n",
              "\n",
              "    .dataframe thead th {\n",
              "        text-align: right;\n",
              "    }\n",
              "</style>\n",
              "<table border=\"1\" class=\"dataframe\">\n",
              "  <thead>\n",
              "    <tr style=\"text-align: right;\">\n",
              "      <th></th>\n",
              "      <th>Unnamed: 0</th>\n",
              "      <th>Date</th>\n",
              "      <th>Day</th>\n",
              "      <th>Temp</th>\n",
              "      <th>Wind</th>\n",
              "      <th>Weather</th>\n",
              "    </tr>\n",
              "  </thead>\n",
              "  <tbody>\n",
              "    <tr>\n",
              "      <th>0</th>\n",
              "      <td>0</td>\n",
              "      <td>2015-01-01</td>\n",
              "      <td>1</td>\n",
              "      <td>26.6</td>\n",
              "      <td>53.2</td>\n",
              "      <td>Sunny</td>\n",
              "    </tr>\n",
              "    <tr>\n",
              "      <th>1</th>\n",
              "      <td>1</td>\n",
              "      <td>2015-01-02</td>\n",
              "      <td>2</td>\n",
              "      <td>26.6</td>\n",
              "      <td>53.2</td>\n",
              "      <td>Sunny</td>\n",
              "    </tr>\n",
              "    <tr>\n",
              "      <th>2</th>\n",
              "      <td>2</td>\n",
              "      <td>2015-01-03</td>\n",
              "      <td>3</td>\n",
              "      <td>26.6</td>\n",
              "      <td>53.2</td>\n",
              "      <td>Rain</td>\n",
              "    </tr>\n",
              "    <tr>\n",
              "      <th>3</th>\n",
              "      <td>3</td>\n",
              "      <td>2015-01-04</td>\n",
              "      <td>4</td>\n",
              "      <td>26.6</td>\n",
              "      <td>53.2</td>\n",
              "      <td>Cloudy</td>\n",
              "    </tr>\n",
              "    <tr>\n",
              "      <th>4</th>\n",
              "      <td>4</td>\n",
              "      <td>2015-01-05</td>\n",
              "      <td>5</td>\n",
              "      <td>26.6</td>\n",
              "      <td>53.2</td>\n",
              "      <td>Rain</td>\n",
              "    </tr>\n",
              "  </tbody>\n",
              "</table>\n",
              "</div>\n",
              "      <button class=\"colab-df-convert\" onclick=\"convertToInteractive('df-f1259c4c-24fb-4668-88df-fea63f0e210c')\"\n",
              "              title=\"Convert this dataframe to an interactive table.\"\n",
              "              style=\"display:none;\">\n",
              "        \n",
              "  <svg xmlns=\"http://www.w3.org/2000/svg\" height=\"24px\"viewBox=\"0 0 24 24\"\n",
              "       width=\"24px\">\n",
              "    <path d=\"M0 0h24v24H0V0z\" fill=\"none\"/>\n",
              "    <path d=\"M18.56 5.44l.94 2.06.94-2.06 2.06-.94-2.06-.94-.94-2.06-.94 2.06-2.06.94zm-11 1L8.5 8.5l.94-2.06 2.06-.94-2.06-.94L8.5 2.5l-.94 2.06-2.06.94zm10 10l.94 2.06.94-2.06 2.06-.94-2.06-.94-.94-2.06-.94 2.06-2.06.94z\"/><path d=\"M17.41 7.96l-1.37-1.37c-.4-.4-.92-.59-1.43-.59-.52 0-1.04.2-1.43.59L10.3 9.45l-7.72 7.72c-.78.78-.78 2.05 0 2.83L4 21.41c.39.39.9.59 1.41.59.51 0 1.02-.2 1.41-.59l7.78-7.78 2.81-2.81c.8-.78.8-2.07 0-2.86zM5.41 20L4 18.59l7.72-7.72 1.47 1.35L5.41 20z\"/>\n",
              "  </svg>\n",
              "      </button>\n",
              "      \n",
              "  <style>\n",
              "    .colab-df-container {\n",
              "      display:flex;\n",
              "      flex-wrap:wrap;\n",
              "      gap: 12px;\n",
              "    }\n",
              "\n",
              "    .colab-df-convert {\n",
              "      background-color: #E8F0FE;\n",
              "      border: none;\n",
              "      border-radius: 50%;\n",
              "      cursor: pointer;\n",
              "      display: none;\n",
              "      fill: #1967D2;\n",
              "      height: 32px;\n",
              "      padding: 0 0 0 0;\n",
              "      width: 32px;\n",
              "    }\n",
              "\n",
              "    .colab-df-convert:hover {\n",
              "      background-color: #E2EBFA;\n",
              "      box-shadow: 0px 1px 2px rgba(60, 64, 67, 0.3), 0px 1px 3px 1px rgba(60, 64, 67, 0.15);\n",
              "      fill: #174EA6;\n",
              "    }\n",
              "\n",
              "    [theme=dark] .colab-df-convert {\n",
              "      background-color: #3B4455;\n",
              "      fill: #D2E3FC;\n",
              "    }\n",
              "\n",
              "    [theme=dark] .colab-df-convert:hover {\n",
              "      background-color: #434B5C;\n",
              "      box-shadow: 0px 1px 3px 1px rgba(0, 0, 0, 0.15);\n",
              "      filter: drop-shadow(0px 1px 2px rgba(0, 0, 0, 0.3));\n",
              "      fill: #FFFFFF;\n",
              "    }\n",
              "  </style>\n",
              "\n",
              "      <script>\n",
              "        const buttonEl =\n",
              "          document.querySelector('#df-f1259c4c-24fb-4668-88df-fea63f0e210c button.colab-df-convert');\n",
              "        buttonEl.style.display =\n",
              "          google.colab.kernel.accessAllowed ? 'block' : 'none';\n",
              "\n",
              "        async function convertToInteractive(key) {\n",
              "          const element = document.querySelector('#df-f1259c4c-24fb-4668-88df-fea63f0e210c');\n",
              "          const dataTable =\n",
              "            await google.colab.kernel.invokeFunction('convertToInteractive',\n",
              "                                                     [key], {});\n",
              "          if (!dataTable) return;\n",
              "\n",
              "          const docLinkHtml = 'Like what you see? Visit the ' +\n",
              "            '<a target=\"_blank\" href=https://colab.research.google.com/notebooks/data_table.ipynb>data table notebook</a>'\n",
              "            + ' to learn more about interactive tables.';\n",
              "          element.innerHTML = '';\n",
              "          dataTable['output_type'] = 'display_data';\n",
              "          await google.colab.output.renderOutput(dataTable, element);\n",
              "          const docLink = document.createElement('div');\n",
              "          docLink.innerHTML = docLinkHtml;\n",
              "          element.appendChild(docLink);\n",
              "        }\n",
              "      </script>\n",
              "    </div>\n",
              "  </div>\n",
              "  "
            ]
          },
          "metadata": {},
          "execution_count": 2
        }
      ]
    },
    {
      "cell_type": "code",
      "source": [
        "df.info()"
      ],
      "metadata": {
        "id": "8ABnxGdvOPo7",
        "colab": {
          "base_uri": "https://localhost:8080/"
        },
        "outputId": "42f7555c-39e4-4fcb-ea13-cc9e4fe9dcad"
      },
      "execution_count": 3,
      "outputs": [
        {
          "output_type": "stream",
          "name": "stdout",
          "text": [
            "<class 'pandas.core.frame.DataFrame'>\n",
            "RangeIndex: 722 entries, 0 to 721\n",
            "Data columns (total 6 columns):\n",
            " #   Column      Non-Null Count  Dtype  \n",
            "---  ------      --------------  -----  \n",
            " 0   Unnamed: 0  722 non-null    int64  \n",
            " 1   Date        722 non-null    object \n",
            " 2   Day         722 non-null    int64  \n",
            " 3   Temp        722 non-null    float64\n",
            " 4   Wind        722 non-null    float64\n",
            " 5   Weather     722 non-null    object \n",
            "dtypes: float64(2), int64(2), object(2)\n",
            "memory usage: 34.0+ KB\n"
          ]
        }
      ]
    },
    {
      "cell_type": "code",
      "source": [
        "df.describe()"
      ],
      "metadata": {
        "id": "shrbOFqBOTGD",
        "colab": {
          "base_uri": "https://localhost:8080/",
          "height": 300
        },
        "outputId": "8a6aee8d-0dcb-443a-ab5d-fa76e2628ad0"
      },
      "execution_count": 4,
      "outputs": [
        {
          "output_type": "execute_result",
          "data": {
            "text/plain": [
              "       Unnamed: 0         Day        Temp        Wind\n",
              "count  722.000000  722.000000  722.000000  722.000000\n",
              "mean   360.500000   15.570637   26.848892   53.697784\n",
              "std    208.567735    8.734399    0.544426    1.088852\n",
              "min      0.000000    1.000000   26.000000   52.000000\n",
              "25%    180.250000    8.000000   26.400000   52.800000\n",
              "50%    360.500000   16.000000   26.900000   53.800000\n",
              "75%    540.750000   23.000000   27.300000   54.600000\n",
              "max    721.000000   31.000000   27.800000   55.600000"
            ],
            "text/html": [
              "\n",
              "  <div id=\"df-e6e9e6a3-5f07-4664-8341-366d2e8aa4b4\">\n",
              "    <div class=\"colab-df-container\">\n",
              "      <div>\n",
              "<style scoped>\n",
              "    .dataframe tbody tr th:only-of-type {\n",
              "        vertical-align: middle;\n",
              "    }\n",
              "\n",
              "    .dataframe tbody tr th {\n",
              "        vertical-align: top;\n",
              "    }\n",
              "\n",
              "    .dataframe thead th {\n",
              "        text-align: right;\n",
              "    }\n",
              "</style>\n",
              "<table border=\"1\" class=\"dataframe\">\n",
              "  <thead>\n",
              "    <tr style=\"text-align: right;\">\n",
              "      <th></th>\n",
              "      <th>Unnamed: 0</th>\n",
              "      <th>Day</th>\n",
              "      <th>Temp</th>\n",
              "      <th>Wind</th>\n",
              "    </tr>\n",
              "  </thead>\n",
              "  <tbody>\n",
              "    <tr>\n",
              "      <th>count</th>\n",
              "      <td>722.000000</td>\n",
              "      <td>722.000000</td>\n",
              "      <td>722.000000</td>\n",
              "      <td>722.000000</td>\n",
              "    </tr>\n",
              "    <tr>\n",
              "      <th>mean</th>\n",
              "      <td>360.500000</td>\n",
              "      <td>15.570637</td>\n",
              "      <td>26.848892</td>\n",
              "      <td>53.697784</td>\n",
              "    </tr>\n",
              "    <tr>\n",
              "      <th>std</th>\n",
              "      <td>208.567735</td>\n",
              "      <td>8.734399</td>\n",
              "      <td>0.544426</td>\n",
              "      <td>1.088852</td>\n",
              "    </tr>\n",
              "    <tr>\n",
              "      <th>min</th>\n",
              "      <td>0.000000</td>\n",
              "      <td>1.000000</td>\n",
              "      <td>26.000000</td>\n",
              "      <td>52.000000</td>\n",
              "    </tr>\n",
              "    <tr>\n",
              "      <th>25%</th>\n",
              "      <td>180.250000</td>\n",
              "      <td>8.000000</td>\n",
              "      <td>26.400000</td>\n",
              "      <td>52.800000</td>\n",
              "    </tr>\n",
              "    <tr>\n",
              "      <th>50%</th>\n",
              "      <td>360.500000</td>\n",
              "      <td>16.000000</td>\n",
              "      <td>26.900000</td>\n",
              "      <td>53.800000</td>\n",
              "    </tr>\n",
              "    <tr>\n",
              "      <th>75%</th>\n",
              "      <td>540.750000</td>\n",
              "      <td>23.000000</td>\n",
              "      <td>27.300000</td>\n",
              "      <td>54.600000</td>\n",
              "    </tr>\n",
              "    <tr>\n",
              "      <th>max</th>\n",
              "      <td>721.000000</td>\n",
              "      <td>31.000000</td>\n",
              "      <td>27.800000</td>\n",
              "      <td>55.600000</td>\n",
              "    </tr>\n",
              "  </tbody>\n",
              "</table>\n",
              "</div>\n",
              "      <button class=\"colab-df-convert\" onclick=\"convertToInteractive('df-e6e9e6a3-5f07-4664-8341-366d2e8aa4b4')\"\n",
              "              title=\"Convert this dataframe to an interactive table.\"\n",
              "              style=\"display:none;\">\n",
              "        \n",
              "  <svg xmlns=\"http://www.w3.org/2000/svg\" height=\"24px\"viewBox=\"0 0 24 24\"\n",
              "       width=\"24px\">\n",
              "    <path d=\"M0 0h24v24H0V0z\" fill=\"none\"/>\n",
              "    <path d=\"M18.56 5.44l.94 2.06.94-2.06 2.06-.94-2.06-.94-.94-2.06-.94 2.06-2.06.94zm-11 1L8.5 8.5l.94-2.06 2.06-.94-2.06-.94L8.5 2.5l-.94 2.06-2.06.94zm10 10l.94 2.06.94-2.06 2.06-.94-2.06-.94-.94-2.06-.94 2.06-2.06.94z\"/><path d=\"M17.41 7.96l-1.37-1.37c-.4-.4-.92-.59-1.43-.59-.52 0-1.04.2-1.43.59L10.3 9.45l-7.72 7.72c-.78.78-.78 2.05 0 2.83L4 21.41c.39.39.9.59 1.41.59.51 0 1.02-.2 1.41-.59l7.78-7.78 2.81-2.81c.8-.78.8-2.07 0-2.86zM5.41 20L4 18.59l7.72-7.72 1.47 1.35L5.41 20z\"/>\n",
              "  </svg>\n",
              "      </button>\n",
              "      \n",
              "  <style>\n",
              "    .colab-df-container {\n",
              "      display:flex;\n",
              "      flex-wrap:wrap;\n",
              "      gap: 12px;\n",
              "    }\n",
              "\n",
              "    .colab-df-convert {\n",
              "      background-color: #E8F0FE;\n",
              "      border: none;\n",
              "      border-radius: 50%;\n",
              "      cursor: pointer;\n",
              "      display: none;\n",
              "      fill: #1967D2;\n",
              "      height: 32px;\n",
              "      padding: 0 0 0 0;\n",
              "      width: 32px;\n",
              "    }\n",
              "\n",
              "    .colab-df-convert:hover {\n",
              "      background-color: #E2EBFA;\n",
              "      box-shadow: 0px 1px 2px rgba(60, 64, 67, 0.3), 0px 1px 3px 1px rgba(60, 64, 67, 0.15);\n",
              "      fill: #174EA6;\n",
              "    }\n",
              "\n",
              "    [theme=dark] .colab-df-convert {\n",
              "      background-color: #3B4455;\n",
              "      fill: #D2E3FC;\n",
              "    }\n",
              "\n",
              "    [theme=dark] .colab-df-convert:hover {\n",
              "      background-color: #434B5C;\n",
              "      box-shadow: 0px 1px 3px 1px rgba(0, 0, 0, 0.15);\n",
              "      filter: drop-shadow(0px 1px 2px rgba(0, 0, 0, 0.3));\n",
              "      fill: #FFFFFF;\n",
              "    }\n",
              "  </style>\n",
              "\n",
              "      <script>\n",
              "        const buttonEl =\n",
              "          document.querySelector('#df-e6e9e6a3-5f07-4664-8341-366d2e8aa4b4 button.colab-df-convert');\n",
              "        buttonEl.style.display =\n",
              "          google.colab.kernel.accessAllowed ? 'block' : 'none';\n",
              "\n",
              "        async function convertToInteractive(key) {\n",
              "          const element = document.querySelector('#df-e6e9e6a3-5f07-4664-8341-366d2e8aa4b4');\n",
              "          const dataTable =\n",
              "            await google.colab.kernel.invokeFunction('convertToInteractive',\n",
              "                                                     [key], {});\n",
              "          if (!dataTable) return;\n",
              "\n",
              "          const docLinkHtml = 'Like what you see? Visit the ' +\n",
              "            '<a target=\"_blank\" href=https://colab.research.google.com/notebooks/data_table.ipynb>data table notebook</a>'\n",
              "            + ' to learn more about interactive tables.';\n",
              "          element.innerHTML = '';\n",
              "          dataTable['output_type'] = 'display_data';\n",
              "          await google.colab.output.renderOutput(dataTable, element);\n",
              "          const docLink = document.createElement('div');\n",
              "          docLink.innerHTML = docLinkHtml;\n",
              "          element.appendChild(docLink);\n",
              "        }\n",
              "      </script>\n",
              "    </div>\n",
              "  </div>\n",
              "  "
            ]
          },
          "metadata": {},
          "execution_count": 4
        }
      ]
    },
    {
      "cell_type": "code",
      "source": [
        "data = df[['Date', 'Temp']]\n",
        "data = data.set_index('Date')"
      ],
      "metadata": {
        "id": "3yzICGCbOWFL"
      },
      "execution_count": 5,
      "outputs": []
    },
    {
      "cell_type": "code",
      "source": [
        "# minmax scaler\n",
        "scaler = MinMaxScaler(feature_range = (0, 1))\n",
        "data_1 = scaler.fit_transform(data)"
      ],
      "metadata": {
        "id": "_1f69cfHOfL7"
      },
      "execution_count": 6,
      "outputs": []
    },
    {
      "cell_type": "code",
      "source": [
        "train_size = int(len(data_1)*0.8)\n",
        "test_size = len(data_1) - train_size\n",
        "X_data, y_data = data_1[0: train_size, :], data_1[train_size: len(data_1), :1]\n",
        "train_size, test_size"
      ],
      "metadata": {
        "colab": {
          "base_uri": "https://localhost:8080/"
        },
        "id": "h22imSg2Or3l",
        "outputId": "3387e690-5e53-4f80-fb54-1aa9c6792d41"
      },
      "execution_count": 7,
      "outputs": [
        {
          "output_type": "execute_result",
          "data": {
            "text/plain": [
              "(577, 145)"
            ]
          },
          "metadata": {},
          "execution_count": 7
        }
      ]
    },
    {
      "cell_type": "code",
      "source": [
        "def dataset(dataset, time_step=1):\n",
        "    X, Y = [], []\n",
        "    for i in range(len(dataset)-time_step-1):\n",
        "        a = dataset[i:(i+time_step), 0]\n",
        "        X.append(a)\n",
        "        Y.append(dataset[i + time_step, 0])\n",
        "    return np.array(X), np.array(Y)"
      ],
      "metadata": {
        "id": "vpzIP9FEOt9f"
      },
      "execution_count": 8,
      "outputs": []
    },
    {
      "cell_type": "code",
      "source": [
        "# split data\n",
        "X_train, y_train = dataset(X_data, 100)\n",
        "X_test, y_test = dataset(y_data, 100)\n",
        "\n",
        "X_train = X_train.reshape(X_train.shape[0], X_train.shape[1], 1)\n",
        "X_test = X_test.reshape(X_test.shape[0], X_test.shape[1], 1)"
      ],
      "metadata": {
        "id": "65JmbjvXOvvK"
      },
      "execution_count": 9,
      "outputs": []
    },
    {
      "cell_type": "code",
      "source": [
        "threshold = (data['Temp'].max() - data['Temp'].min()) * 10/100\n",
        "print(threshold)"
      ],
      "metadata": {
        "colab": {
          "base_uri": "https://localhost:8080/"
        },
        "id": "XiTrVc1rOxkm",
        "outputId": "29f3a656-6765-4d38-e09f-c42f562cb731"
      },
      "execution_count": 10,
      "outputs": [
        {
          "output_type": "stream",
          "name": "stdout",
          "text": [
            "0.18000000000000008\n"
          ]
        }
      ]
    },
    {
      "cell_type": "code",
      "source": [
        "# create model\n",
        "model = Sequential([\n",
        "    LSTM(128, return_sequences = True, input_shape=(100, 1)),\n",
        "    Dropout(0.1),\n",
        "    LSTM(128, return_sequences = True),\n",
        "    Dropout(0.1),\n",
        "    Bidirectional(LSTM(16)),\n",
        "    Dropout(0.1),\n",
        "    Dense(4, activation = 'relu'),\n",
        "    Dense(1)\n",
        "])\n",
        "model.summary"
      ],
      "metadata": {
        "colab": {
          "base_uri": "https://localhost:8080/"
        },
        "id": "d6oOECQoO3H2",
        "outputId": "03952611-958f-4a06-bcf7-065b694a517d"
      },
      "execution_count": 11,
      "outputs": [
        {
          "output_type": "execute_result",
          "data": {
            "text/plain": [
              "<bound method Model.summary of <keras.engine.sequential.Sequential object at 0x7efe26154310>>"
            ]
          },
          "metadata": {},
          "execution_count": 11
        }
      ]
    },
    {
      "cell_type": "code",
      "source": [
        "# callback\n",
        "auto_stop_learn = EarlyStopping(\n",
        "    monitor = 'loss',\n",
        "    min_delta = 0,\n",
        "    patience = 2,\n",
        "    verbose = 1,\n",
        "    mode = 'auto'\n",
        ")"
      ],
      "metadata": {
        "id": "KbXof1TYO5s-"
      },
      "execution_count": 12,
      "outputs": []
    },
    {
      "cell_type": "code",
      "source": [
        "# train model\n",
        "optimizer = 'adam'\n",
        "model.compile(loss=tf.keras.losses.Huber(),\n",
        "              optimizer=optimizer,\n",
        "              metrics=[\"mae\"]\n",
        ")\n",
        "\n",
        "history = model.fit(\n",
        "    X_train, y_train,\n",
        "    validation_data = (X_test, y_test),\n",
        "    epochs = 100,\n",
        "    batch_size = 128,\n",
        "    callbacks = auto_stop_learn,\n",
        "    verbose = 1\n",
        ")"
      ],
      "metadata": {
        "colab": {
          "base_uri": "https://localhost:8080/"
        },
        "id": "_DvvwKYqO71H",
        "outputId": "3a4fd177-8f7b-4dde-e11f-4211fb090e5d"
      },
      "execution_count": 13,
      "outputs": [
        {
          "output_type": "stream",
          "name": "stdout",
          "text": [
            "Epoch 1/100\n",
            "4/4 [==============================] - 14s 2s/step - loss: 0.0761 - mae: 0.3090 - val_loss: 0.0098 - val_mae: 0.1268\n",
            "Epoch 2/100\n",
            "4/4 [==============================] - 4s 819ms/step - loss: 0.0260 - mae: 0.1764 - val_loss: 0.0273 - val_mae: 0.2326\n",
            "Epoch 3/100\n",
            "4/4 [==============================] - 3s 752ms/step - loss: 0.0239 - mae: 0.1659 - val_loss: 6.9980e-04 - val_mae: 0.0284\n",
            "Epoch 4/100\n",
            "4/4 [==============================] - 3s 756ms/step - loss: 0.0211 - mae: 0.1549 - val_loss: 5.0349e-04 - val_mae: 0.0276\n",
            "Epoch 5/100\n",
            "4/4 [==============================] - 4s 1s/step - loss: 0.0182 - mae: 0.1387 - val_loss: 0.0065 - val_mae: 0.1134\n",
            "Epoch 6/100\n",
            "4/4 [==============================] - 3s 836ms/step - loss: 0.0184 - mae: 0.1427 - val_loss: 0.0015 - val_mae: 0.0545\n",
            "Epoch 7/100\n",
            "4/4 [==============================] - 3s 755ms/step - loss: 0.0164 - mae: 0.1300 - val_loss: 2.3894e-04 - val_mae: 0.0181\n",
            "Epoch 8/100\n",
            "4/4 [==============================] - 3s 782ms/step - loss: 0.0152 - mae: 0.1257 - val_loss: 0.0032 - val_mae: 0.0757\n",
            "Epoch 9/100\n",
            "4/4 [==============================] - 4s 1s/step - loss: 0.0135 - mae: 0.1163 - val_loss: 6.4250e-04 - val_mae: 0.0318\n",
            "Epoch 10/100\n",
            "4/4 [==============================] - 3s 747ms/step - loss: 0.0134 - mae: 0.1125 - val_loss: 0.0012 - val_mae: 0.0446\n",
            "Epoch 11/100\n",
            "4/4 [==============================] - 3s 732ms/step - loss: 0.0125 - mae: 0.1090 - val_loss: 0.0016 - val_mae: 0.0485\n",
            "Epoch 12/100\n",
            "4/4 [==============================] - 3s 755ms/step - loss: 0.0127 - mae: 0.1096 - val_loss: 0.0017 - val_mae: 0.0509\n",
            "Epoch 13/100\n",
            "4/4 [==============================] - 4s 1s/step - loss: 0.0126 - mae: 0.1090 - val_loss: 0.0012 - val_mae: 0.0420\n",
            "Epoch 13: early stopping\n"
          ]
        }
      ]
    },
    {
      "cell_type": "code",
      "source": [
        "plt.plot(history.history['loss'])\n",
        "plt.plot(history.history['val_loss'])\n",
        "plt.title('Model Loss')\n",
        "plt.ylabel('Loss')\n",
        "plt.xlabel('Epochs')\n",
        "plt.legend(['train', 'test'], loc = 'upper right')\n",
        "plt.show()\n",
        "\n",
        "plt.plot(history.history['mae'])\n",
        "plt.plot(history.history['val_mae'])\n",
        "plt.title('Model Mae')\n",
        "plt.ylabel('Mae')\n",
        "plt.xlabel('Epoch')\n",
        "plt.legend(['train', 'test'], loc='lower right')\n",
        "plt.show()"
      ],
      "metadata": {
        "colab": {
          "base_uri": "https://localhost:8080/",
          "height": 927
        },
        "id": "I7fToYgCPRXV",
        "outputId": "9a2e561a-02c9-4560-8354-e6026dbf8e37"
      },
      "execution_count": 14,
      "outputs": [
        {
          "output_type": "display_data",
          "data": {
            "text/plain": [
              "<Figure size 640x480 with 1 Axes>"
            ],
            "image/png": "[encoded data removed]"
          },
          "metadata": {}
        },
        {
          "output_type": "display_data",
          "data": {
            "text/plain": [
              "<Figure size 640x480 with 1 Axes>"
            ],
            "image/png": "[encoded data removed]"
          },
          "metadata": {}
        }
      ]
    },
    {
      "cell_type": "code",
      "source": [
        "model.save(\"./temp_berau.h5\")"
      ],
      "metadata": {
        "id": "L-oGJS6ZlbSL"
      },
      "execution_count": 15,
      "outputs": []
    },
    {
      "cell_type": "code",
      "source": [
        "# Make predictions\n",
        "predictions = model.predict(X_test)\n",
        "\n",
        "# Create an array of dates corresponding to the test set\n",
        "x_values = np.arange(len(y_test))\n",
        "\n",
        "# Plot the predicted temperatures against the x-axis values\n",
        "plt.figure(figsize=(12, 6))\n",
        "plt.plot(x_values, y_test, label='Actual Temperatures')\n",
        "plt.plot(x_values, predictions, label='Predicted Temperatures')\n",
        "plt.title('Actual vs Predicted Temperatures')\n",
        "plt.xlabel('Time')\n",
        "plt.ylabel('Temperature')\n",
        "plt.legend()\n",
        "plt.show()"
      ],
      "metadata": {
        "colab": {
          "base_uri": "https://localhost:8080/",
          "height": 374
        },
        "id": "xdme9vIOkHQs",
        "outputId": "eeaa9861-d8d3-4f6b-877a-0725343f0c13"
      },
      "execution_count": 16,
      "outputs": [
        {
          "output_type": "stream",
          "name": "stdout",
          "text": [
            "2/2 [==============================] - 2s 66ms/step\n"
          ]
        },
        {
          "output_type": "display_data",
          "data": {
            "text/plain": [
              "<Figure size 1200x600 with 1 Axes>"
            ],
            "image/png": "[encoded data removed]"
          },
          "metadata": {}
        }
      ]
    },
    {
      "cell_type": "code",
      "source": [
        "import datetime\n",
        "import numpy as np\n",
        "from tensorflow.keras.models import load_model\n",
        "\n",
        "# Load the saved model\n",
        "model = load_model(\"temp_berau.h5\")\n",
        "\n",
        "def predict_temperature(year, month, day):\n",
        "    # Tanggal yang akan diprediksi suhunya\n",
        "    input_date = datetime.date(year, month, day)\n",
        "\n",
        "    # Tentukan tanggal referensi\n",
        "    reference_date = datetime.date(2015, 1, 1)\n",
        "\n",
        "    # Hitung perbedaan hari antara tanggal input dan tanggal referensi\n",
        "    delta_days = (input_date - reference_date).days\n",
        "\n",
        "    # Ubah perbedaan hari menjadi representasi numerik\n",
        "    input_date_representation = scaler.transform([[delta_days]])[0]\n",
        "\n",
        "    time_step = 100  # Set the appropriate value based on your problem and data characteristics\n",
        "\n",
        "    # Buat input data untuk prediksi\n",
        "    input_data = []\n",
        "    for i in range(len(data_1) - time_step + 1, len(data_1)):\n",
        "        input_data.append(data_1[i, 0])\n",
        "    input_data.append(input_date_representation[0])\n",
        "\n",
        "    # Konversi input data menjadi array NumPy\n",
        "    input_data = np.array(input_data)\n",
        "\n",
        "    # Reshape input data menjadi bentuk yang dapat diterima oleh model\n",
        "    input_data = np.reshape(input_data, (1, time_step, 1))\n",
        "\n",
        "    # Lakukan prediksi suhu\n",
        "    predicted_temperature = model.predict(input_data)\n",
        "\n",
        "    # Reshape predicted_temperature to have the expected dimensions\n",
        "    predicted_temperature = np.reshape(predicted_temperature, (1, 1))\n",
        "\n",
        "    # Apply inverse_transform to convert the predicted_temperature to the original scale\n",
        "    predicted_temperature = scaler.inverse_transform(predicted_temperature)[0][0]\n",
        "\n",
        "    return predicted_temperature\n",
        "\n",
        "# Contoh pemanggilan fungsi\n",
        "year = 2023\n",
        "month = 12\n",
        "day = 1\n",
        "predicted_temp = predict_temperature(year, month, day)\n",
        "print(predicted_temp)\n"
      ],
      "metadata": {
        "colab": {
          "base_uri": "https://localhost:8080/"
        },
        "id": "A1AqsxSoxFsq",
        "outputId": "0c69ecfa-4224-45b1-dbd3-964e84337f39"
      },
      "execution_count": 17,
      "outputs": [
        {
          "output_type": "stream",
          "name": "stderr",
          "text": [
            "/usr/local/lib/python3.10/dist-packages/sklearn/base.py:439: UserWarning: X does not have valid feature names, but MinMaxScaler was fitted with feature names\n",
            "  warnings.warn(\n"
          ]
        },
        {
          "output_type": "stream",
          "name": "stdout",
          "text": [
            "1/1 [==============================] - 2s 2s/step\n",
            "27.851673\n"
          ]
        }
      ]
    }
  ]
}