{
  "nbformat": 4,
  "nbformat_minor": 0,
  "metadata": {
    "colab": {
      "provenance": []
    },
    "kernelspec": {
      "name": "python3",
      "display_name": "Python 3"
    },
    "language_info": {
      "name": "python"
    }
  },
  "cells": [
    {
      "cell_type": "code",
      "execution_count": 1,
      "metadata": {
        "id": "NBESfd0AN7yY"
      },
      "outputs": [],
      "source": [
        "import numpy as np\n",
        "import pandas as pd\n",
        "from sklearn.model_selection import train_test_split\n",
        "import matplotlib.pyplot as plt\n",
        "from sklearn.preprocessing import MinMaxScaler\n",
        "import tensorflow as tf\n",
        "from tensorflow.keras.models import Sequential\n",
        "from tensorflow.keras.layers import Dense, LSTM, Bidirectional, Dropout\n",
        "from tensorflow.keras.callbacks import EarlyStopping"
      ]
    },
    {
      "cell_type": "code",
      "source": [
        "df = pd.read_csv('samarinda_weather.csv')\n",
        "df.head()"
      ],
      "metadata": {
        "colab": {
          "base_uri": "https://localhost:8080/",
          "height": 206
        },
        "id": "kvJpH6EMOGJT",
        "outputId": "1e9cc6af-128f-4e02-a130-0e92f0659d54"
      },
      "execution_count": 152,
      "outputs": [
        {
          "output_type": "execute_result",
          "data": {
            "text/plain": [
              "   Unnamed: 0        Date  Day  Temp  Wind Weather\n",
              "0           0  2015-01-01    1  27.6  55.2   Sunny\n",
              "1           1  2015-01-02    2  27.6  55.2   Sunny\n",
              "2           2  2015-01-03    3  27.6  55.2   Sunny\n",
              "3           3  2015-01-04    4  27.6  55.2   Sunny\n",
              "4           4  2015-01-05    5  27.6  55.2   Sunny"
            ],
            "text/html": [
              "\n",
              "  <div id=\"df-dfec1379-b52d-4f74-b384-5e83ad6679a0\">\n",
              "    <div class=\"colab-df-container\">\n",
              "      <div>\n",
              "<style scoped>\n",
              "    .dataframe tbody tr th:only-of-type {\n",
              "        vertical-align: middle;\n",
              "    }\n",
              "\n",
              "    .dataframe tbody tr th {\n",
              "        vertical-align: top;\n",
              "    }\n",
              "\n",
              "    .dataframe thead th {\n",
              "        text-align: right;\n",
              "    }\n",
              "</style>\n",
              "<table border=\"1\" class=\"dataframe\">\n",
              "  <thead>\n",
              "    <tr style=\"text-align: right;\">\n",
              "      <th></th>\n",
              "      <th>Unnamed: 0</th>\n",
              "      <th>Date</th>\n",
              "      <th>Day</th>\n",
              "      <th>Temp</th>\n",
              "      <th>Wind</th>\n",
              "      <th>Weather</th>\n",
              "    </tr>\n",
              "  </thead>\n",
              "  <tbody>\n",
              "    <tr>\n",
              "      <th>0</th>\n",
              "      <td>0</td>\n",
              "      <td>2015-01-01</td>\n",
              "      <td>1</td>\n",
              "      <td>27.6</td>\n",
              "      <td>55.2</td>\n",
              "      <td>Sunny</td>\n",
              "    </tr>\n",
              "    <tr>\n",
              "      <th>1</th>\n",
              "      <td>1</td>\n",
              "      <td>2015-01-02</td>\n",
              "      <td>2</td>\n",
              "      <td>27.6</td>\n",
              "      <td>55.2</td>\n",
              "      <td>Sunny</td>\n",
              "    </tr>\n",
              "    <tr>\n",
              "      <th>2</th>\n",
              "      <td>2</td>\n",
              "      <td>2015-01-03</td>\n",
              "      <td>3</td>\n",
              "      <td>27.6</td>\n",
              "      <td>55.2</td>\n",
              "      <td>Sunny</td>\n",
              "    </tr>\n",
              "    <tr>\n",
              "      <th>3</th>\n",
              "      <td>3</td>\n",
              "      <td>2015-01-04</td>\n",
              "      <td>4</td>\n",
              "      <td>27.6</td>\n",
              "      <td>55.2</td>\n",
              "      <td>Sunny</td>\n",
              "    </tr>\n",
              "    <tr>\n",
              "      <th>4</th>\n",
              "      <td>4</td>\n",
              "      <td>2015-01-05</td>\n",
              "      <td>5</td>\n",
              "      <td>27.6</td>\n",
              "      <td>55.2</td>\n",
              "      <td>Sunny</td>\n",
              "    </tr>\n",
              "  </tbody>\n",
              "</table>\n",
              "</div>\n",
              "      <button class=\"colab-df-convert\" onclick=\"convertToInteractive('df-dfec1379-b52d-4f74-b384-5e83ad6679a0')\"\n",
              "              title=\"Convert this dataframe to an interactive table.\"\n",
              "              style=\"display:none;\">\n",
              "        \n",
              "  <svg xmlns=\"http://www.w3.org/2000/svg\" height=\"24px\"viewBox=\"0 0 24 24\"\n",
              "       width=\"24px\">\n",
              "    <path d=\"M0 0h24v24H0V0z\" fill=\"none\"/>\n",
              "    <path d=\"M18.56 5.44l.94 2.06.94-2.06 2.06-.94-2.06-.94-.94-2.06-.94 2.06-2.06.94zm-11 1L8.5 8.5l.94-2.06 2.06-.94-2.06-.94L8.5 2.5l-.94 2.06-2.06.94zm10 10l.94 2.06.94-2.06 2.06-.94-2.06-.94-.94-2.06-.94 2.06-2.06.94z\"/><path d=\"M17.41 7.96l-1.37-1.37c-.4-.4-.92-.59-1.43-.59-.52 0-1.04.2-1.43.59L10.3 9.45l-7.72 7.72c-.78.78-.78 2.05 0 2.83L4 21.41c.39.39.9.59 1.41.59.51 0 1.02-.2 1.41-.59l7.78-7.78 2.81-2.81c.8-.78.8-2.07 0-2.86zM5.41 20L4 18.59l7.72-7.72 1.47 1.35L5.41 20z\"/>\n",
              "  </svg>\n",
              "      </button>\n",
              "      \n",
              "  <style>\n",
              "    .colab-df-container {\n",
              "      display:flex;\n",
              "      flex-wrap:wrap;\n",
              "      gap: 12px;\n",
              "    }\n",
              "\n",
              "    .colab-df-convert {\n",
              "      background-color: #E8F0FE;\n",
              "      border: none;\n",
              "      border-radius: 50%;\n",
              "      cursor: pointer;\n",
              "      display: none;\n",
              "      fill: #1967D2;\n",
              "      height: 32px;\n",
              "      padding: 0 0 0 0;\n",
              "      width: 32px;\n",
              "    }\n",
              "\n",
              "    .colab-df-convert:hover {\n",
              "      background-color: #E2EBFA;\n",
              "      box-shadow: 0px 1px 2px rgba(60, 64, 67, 0.3), 0px 1px 3px 1px rgba(60, 64, 67, 0.15);\n",
              "      fill: #174EA6;\n",
              "    }\n",
              "\n",
              "    [theme=dark] .colab-df-convert {\n",
              "      background-color: #3B4455;\n",
              "      fill: #D2E3FC;\n",
              "    }\n",
              "\n",
              "    [theme=dark] .colab-df-convert:hover {\n",
              "      background-color: #434B5C;\n",
              "      box-shadow: 0px 1px 3px 1px rgba(0, 0, 0, 0.15);\n",
              "      filter: drop-shadow(0px 1px 2px rgba(0, 0, 0, 0.3));\n",
              "      fill: #FFFFFF;\n",
              "    }\n",
              "  </style>\n",
              "\n",
              "      <script>\n",
              "        const buttonEl =\n",
              "          document.querySelector('#df-dfec1379-b52d-4f74-b384-5e83ad6679a0 button.colab-df-convert');\n",
              "        buttonEl.style.display =\n",
              "          google.colab.kernel.accessAllowed ? 'block' : 'none';\n",
              "\n",
              "        async function convertToInteractive(key) {\n",
              "          const element = document.querySelector('#df-dfec1379-b52d-4f74-b384-5e83ad6679a0');\n",
              "          const dataTable =\n",
              "            await google.colab.kernel.invokeFunction('convertToInteractive',\n",
              "                                                     [key], {});\n",
              "          if (!dataTable) return;\n",
              "\n",
              "          const docLinkHtml = 'Like what you see? Visit the ' +\n",
              "            '<a target=\"_blank\" href=https://colab.research.google.com/notebooks/data_table.ipynb>data table notebook</a>'\n",
              "            + ' to learn more about interactive tables.';\n",
              "          element.innerHTML = '';\n",
              "          dataTable['output_type'] = 'display_data';\n",
              "          await google.colab.output.renderOutput(dataTable, element);\n",
              "          const docLink = document.createElement('div');\n",
              "          docLink.innerHTML = docLinkHtml;\n",
              "          element.appendChild(docLink);\n",
              "        }\n",
              "      </script>\n",
              "    </div>\n",
              "  </div>\n",
              "  "
            ]
          },
          "metadata": {},
          "execution_count": 152
        }
      ]
    },
    {
      "cell_type": "code",
      "source": [
        "df.info()"
      ],
      "metadata": {
        "colab": {
          "base_uri": "https://localhost:8080/"
        },
        "id": "8ABnxGdvOPo7",
        "outputId": "fa0bdfd8-d950-4b05-80da-041a8ac1c41b"
      },
      "execution_count": 3,
      "outputs": [
        {
          "output_type": "stream",
          "name": "stdout",
          "text": [
            "<class 'pandas.core.frame.DataFrame'>\n",
            "RangeIndex: 541 entries, 0 to 540\n",
            "Data columns (total 6 columns):\n",
            " #   Column      Non-Null Count  Dtype  \n",
            "---  ------      --------------  -----  \n",
            " 0   Unnamed: 0  541 non-null    int64  \n",
            " 1   Date        541 non-null    object \n",
            " 2   Day         541 non-null    int64  \n",
            " 3   Temp        541 non-null    float64\n",
            " 4   Wind        541 non-null    float64\n",
            " 5   Weather     541 non-null    object \n",
            "dtypes: float64(2), int64(2), object(2)\n",
            "memory usage: 25.5+ KB\n"
          ]
        }
      ]
    },
    {
      "cell_type": "code",
      "source": [
        "df.describe()"
      ],
      "metadata": {
        "colab": {
          "base_uri": "https://localhost:8080/",
          "height": 300
        },
        "id": "shrbOFqBOTGD",
        "outputId": "0b16f40d-3a6b-4a43-ee6d-48b3ac4bab6b"
      },
      "execution_count": 53,
      "outputs": [
        {
          "output_type": "execute_result",
          "data": {
            "text/plain": [
              "       Unnamed: 0         Day        Temp        Wind\n",
              "count  722.000000  722.000000  722.000000  722.000000\n",
              "mean   360.500000   15.570637   28.451247   56.902493\n",
              "std    208.567735    8.734399    0.836066    1.672132\n",
              "min      0.000000    1.000000   27.300000   54.600000\n",
              "25%    180.250000    8.000000   27.800000   55.600000\n",
              "50%    360.500000   16.000000   28.200000   56.400000\n",
              "75%    540.750000   23.000000   29.200000   58.400000\n",
              "max    721.000000   31.000000   30.100000   60.200000"
            ],
            "text/html": [
              "\n",
              "  <div id=\"df-1a4ce713-a150-41da-b581-d16a45bbe985\">\n",
              "    <div class=\"colab-df-container\">\n",
              "      <div>\n",
              "<style scoped>\n",
              "    .dataframe tbody tr th:only-of-type {\n",
              "        vertical-align: middle;\n",
              "    }\n",
              "\n",
              "    .dataframe tbody tr th {\n",
              "        vertical-align: top;\n",
              "    }\n",
              "\n",
              "    .dataframe thead th {\n",
              "        text-align: right;\n",
              "    }\n",
              "</style>\n",
              "<table border=\"1\" class=\"dataframe\">\n",
              "  <thead>\n",
              "    <tr style=\"text-align: right;\">\n",
              "      <th></th>\n",
              "      <th>Unnamed: 0</th>\n",
              "      <th>Day</th>\n",
              "      <th>Temp</th>\n",
              "      <th>Wind</th>\n",
              "    </tr>\n",
              "  </thead>\n",
              "  <tbody>\n",
              "    <tr>\n",
              "      <th>count</th>\n",
              "      <td>722.000000</td>\n",
              "      <td>722.000000</td>\n",
              "      <td>722.000000</td>\n",
              "      <td>722.000000</td>\n",
              "    </tr>\n",
              "    <tr>\n",
              "      <th>mean</th>\n",
              "      <td>360.500000</td>\n",
              "      <td>15.570637</td>\n",
              "      <td>28.451247</td>\n",
              "      <td>56.902493</td>\n",
              "    </tr>\n",
              "    <tr>\n",
              "      <th>std</th>\n",
              "      <td>208.567735</td>\n",
              "      <td>8.734399</td>\n",
              "      <td>0.836066</td>\n",
              "      <td>1.672132</td>\n",
              "    </tr>\n",
              "    <tr>\n",
              "      <th>min</th>\n",
              "      <td>0.000000</td>\n",
              "      <td>1.000000</td>\n",
              "      <td>27.300000</td>\n",
              "      <td>54.600000</td>\n",
              "    </tr>\n",
              "    <tr>\n",
              "      <th>25%</th>\n",
              "      <td>180.250000</td>\n",
              "      <td>8.000000</td>\n",
              "      <td>27.800000</td>\n",
              "      <td>55.600000</td>\n",
              "    </tr>\n",
              "    <tr>\n",
              "      <th>50%</th>\n",
              "      <td>360.500000</td>\n",
              "      <td>16.000000</td>\n",
              "      <td>28.200000</td>\n",
              "      <td>56.400000</td>\n",
              "    </tr>\n",
              "    <tr>\n",
              "      <th>75%</th>\n",
              "      <td>540.750000</td>\n",
              "      <td>23.000000</td>\n",
              "      <td>29.200000</td>\n",
              "      <td>58.400000</td>\n",
              "    </tr>\n",
              "    <tr>\n",
              "      <th>max</th>\n",
              "      <td>721.000000</td>\n",
              "      <td>31.000000</td>\n",
              "      <td>30.100000</td>\n",
              "      <td>60.200000</td>\n",
              "    </tr>\n",
              "  </tbody>\n",
              "</table>\n",
              "</div>\n",
              "      <button class=\"colab-df-convert\" onclick=\"convertToInteractive('df-1a4ce713-a150-41da-b581-d16a45bbe985')\"\n",
              "              title=\"Convert this dataframe to an interactive table.\"\n",
              "              style=\"display:none;\">\n",
              "        \n",
              "  <svg xmlns=\"http://www.w3.org/2000/svg\" height=\"24px\"viewBox=\"0 0 24 24\"\n",
              "       width=\"24px\">\n",
              "    <path d=\"M0 0h24v24H0V0z\" fill=\"none\"/>\n",
              "    <path d=\"M18.56 5.44l.94 2.06.94-2.06 2.06-.94-2.06-.94-.94-2.06-.94 2.06-2.06.94zm-11 1L8.5 8.5l.94-2.06 2.06-.94-2.06-.94L8.5 2.5l-.94 2.06-2.06.94zm10 10l.94 2.06.94-2.06 2.06-.94-2.06-.94-.94-2.06-.94 2.06-2.06.94z\"/><path d=\"M17.41 7.96l-1.37-1.37c-.4-.4-.92-.59-1.43-.59-.52 0-1.04.2-1.43.59L10.3 9.45l-7.72 7.72c-.78.78-.78 2.05 0 2.83L4 21.41c.39.39.9.59 1.41.59.51 0 1.02-.2 1.41-.59l7.78-7.78 2.81-2.81c.8-.78.8-2.07 0-2.86zM5.41 20L4 18.59l7.72-7.72 1.47 1.35L5.41 20z\"/>\n",
              "  </svg>\n",
              "      </button>\n",
              "      \n",
              "  <style>\n",
              "    .colab-df-container {\n",
              "      display:flex;\n",
              "      flex-wrap:wrap;\n",
              "      gap: 12px;\n",
              "    }\n",
              "\n",
              "    .colab-df-convert {\n",
              "      background-color: #E8F0FE;\n",
              "      border: none;\n",
              "      border-radius: 50%;\n",
              "      cursor: pointer;\n",
              "      display: none;\n",
              "      fill: #1967D2;\n",
              "      height: 32px;\n",
              "      padding: 0 0 0 0;\n",
              "      width: 32px;\n",
              "    }\n",
              "\n",
              "    .colab-df-convert:hover {\n",
              "      background-color: #E2EBFA;\n",
              "      box-shadow: 0px 1px 2px rgba(60, 64, 67, 0.3), 0px 1px 3px 1px rgba(60, 64, 67, 0.15);\n",
              "      fill: #174EA6;\n",
              "    }\n",
              "\n",
              "    [theme=dark] .colab-df-convert {\n",
              "      background-color: #3B4455;\n",
              "      fill: #D2E3FC;\n",
              "    }\n",
              "\n",
              "    [theme=dark] .colab-df-convert:hover {\n",
              "      background-color: #434B5C;\n",
              "      box-shadow: 0px 1px 3px 1px rgba(0, 0, 0, 0.15);\n",
              "      filter: drop-shadow(0px 1px 2px rgba(0, 0, 0, 0.3));\n",
              "      fill: #FFFFFF;\n",
              "    }\n",
              "  </style>\n",
              "\n",
              "      <script>\n",
              "        const buttonEl =\n",
              "          document.querySelector('#df-1a4ce713-a150-41da-b581-d16a45bbe985 button.colab-df-convert');\n",
              "        buttonEl.style.display =\n",
              "          google.colab.kernel.accessAllowed ? 'block' : 'none';\n",
              "\n",
              "        async function convertToInteractive(key) {\n",
              "          const element = document.querySelector('#df-1a4ce713-a150-41da-b581-d16a45bbe985');\n",
              "          const dataTable =\n",
              "            await google.colab.kernel.invokeFunction('convertToInteractive',\n",
              "                                                     [key], {});\n",
              "          if (!dataTable) return;\n",
              "\n",
              "          const docLinkHtml = 'Like what you see? Visit the ' +\n",
              "            '<a target=\"_blank\" href=https://colab.research.google.com/notebooks/data_table.ipynb>data table notebook</a>'\n",
              "            + ' to learn more about interactive tables.';\n",
              "          element.innerHTML = '';\n",
              "          dataTable['output_type'] = 'display_data';\n",
              "          await google.colab.output.renderOutput(dataTable, element);\n",
              "          const docLink = document.createElement('div');\n",
              "          docLink.innerHTML = docLinkHtml;\n",
              "          element.appendChild(docLink);\n",
              "        }\n",
              "      </script>\n",
              "    </div>\n",
              "  </div>\n",
              "  "
            ]
          },
          "metadata": {},
          "execution_count": 53
        }
      ]
    },
    {
      "cell_type": "code",
      "source": [
        "unique_count = df['Weather'].nunique()\n",
        "print(unique_count)"
      ],
      "metadata": {
        "colab": {
          "base_uri": "https://localhost:8080/"
        },
        "id": "lpXNHR7qhk7f",
        "outputId": "00289fa3-674e-4fe0-c726-336c2e40b88d"
      },
      "execution_count": 155,
      "outputs": [
        {
          "output_type": "stream",
          "name": "stdout",
          "text": [
            "1\n"
          ]
        }
      ]
    },
    {
      "cell_type": "code",
      "source": [
        "dates = df['Date'].values\n",
        "temp  = df['Temp'].values\n",
        "\n",
        "plt.figure(figsize=(20,4))\n",
        "plt.plot(dates, temp)\n",
        "plt.title('Temperature', fontsize=20);"
      ],
      "metadata": {
        "id": "RdKdkJAHR01P"
      },
      "execution_count": null,
      "outputs": []
    },
    {
      "cell_type": "code",
      "source": [
        "data = df[['Date', 'Temp']]\n",
        "data = data.set_index('Date')"
      ],
      "metadata": {
        "id": "3yzICGCbOWFL"
      },
      "execution_count": 19,
      "outputs": []
    },
    {
      "cell_type": "code",
      "source": [
        "# minmax scaler\n",
        "scaler = MinMaxScaler(feature_range = (0, 1))\n",
        "data_1 = scaler.fit_transform(data)"
      ],
      "metadata": {
        "id": "_1f69cfHOfL7"
      },
      "execution_count": 20,
      "outputs": []
    },
    {
      "cell_type": "code",
      "source": [
        "train_size = int(len(data_1)*0.8)\n",
        "test_size = len(data_1) - train_size\n",
        "X_data, y_data = data_1[0: train_size, :], data_1[train_size: len(data_1), :1]\n",
        "train_size, test_size"
      ],
      "metadata": {
        "colab": {
          "base_uri": "https://localhost:8080/"
        },
        "id": "h22imSg2Or3l",
        "outputId": "aafcf1da-ebef-4de0-cfb6-47d0beef604b"
      },
      "execution_count": 54,
      "outputs": [
        {
          "output_type": "execute_result",
          "data": {
            "text/plain": [
              "(577, 145)"
            ]
          },
          "metadata": {},
          "execution_count": 54
        }
      ]
    },
    {
      "cell_type": "code",
      "source": [
        "def dataset(dataset, time_step=1):\n",
        "    X, Y = [], []\n",
        "    for i in range(len(dataset)-time_step-1):\n",
        "        a = dataset[i:(i+time_step), 0]\n",
        "        X.append(a)\n",
        "        Y.append(dataset[i + time_step, 0])\n",
        "    return np.array(X), np.array(Y)"
      ],
      "metadata": {
        "id": "vpzIP9FEOt9f"
      },
      "execution_count": 55,
      "outputs": []
    },
    {
      "cell_type": "code",
      "source": [
        "# split data\n",
        "X_train, y_train = dataset(X_data, 100)\n",
        "X_test, y_test = dataset(y_data, 100)\n",
        "\n",
        "X_train = X_train.reshape(X_train.shape[0], X_train.shape[1], 1)\n",
        "X_test = X_test.reshape(X_test.shape[0], X_test.shape[1], 1)"
      ],
      "metadata": {
        "id": "65JmbjvXOvvK"
      },
      "execution_count": 56,
      "outputs": []
    },
    {
      "cell_type": "code",
      "source": [
        "threshold = (data['Temp'].max() - data['Temp'].min()) * 10/100\n",
        "print(threshold)"
      ],
      "metadata": {
        "colab": {
          "base_uri": "https://localhost:8080/"
        },
        "id": "XiTrVc1rOxkm",
        "outputId": "b9b4b44f-4601-4c15-fb14-4bc35cf3b5c0"
      },
      "execution_count": 57,
      "outputs": [
        {
          "output_type": "stream",
          "name": "stdout",
          "text": [
            "0.2800000000000001\n"
          ]
        }
      ]
    },
    {
      "cell_type": "code",
      "source": [
        "# create model\n",
        "model = Sequential([\n",
        "    LSTM(128, return_sequences = True, input_shape=(100, 1)),\n",
        "    Dropout(0.1),\n",
        "    LSTM(128, return_sequences = True),\n",
        "    Dropout(0.1),\n",
        "    Bidirectional(LSTM(16)),\n",
        "    Dropout(0.1),\n",
        "    Dense(4, activation = 'relu'),\n",
        "    Dense(1)\n",
        "])\n",
        "model.summary"
      ],
      "metadata": {
        "colab": {
          "base_uri": "https://localhost:8080/"
        },
        "id": "d6oOECQoO3H2",
        "outputId": "0955b19b-941d-4be8-d703-99f3e6b8710b"
      },
      "execution_count": 69,
      "outputs": [
        {
          "output_type": "execute_result",
          "data": {
            "text/plain": [
              "<bound method Model.summary of <keras.engine.sequential.Sequential object at 0x7f803eb7b1f0>>"
            ]
          },
          "metadata": {},
          "execution_count": 69
        }
      ]
    },
    {
      "cell_type": "code",
      "source": [
        "# callback\n",
        "auto_stop_learn = EarlyStopping(\n",
        "    monitor = 'loss',\n",
        "    min_delta = 0,\n",
        "    patience = 2,\n",
        "    verbose = 1,\n",
        "    mode = 'auto'\n",
        ")"
      ],
      "metadata": {
        "id": "KbXof1TYO5s-"
      },
      "execution_count": 59,
      "outputs": []
    },
    {
      "cell_type": "code",
      "source": [
        "# train model\n",
        "optimizer = 'adam'\n",
        "model.compile(loss=tf.keras.losses.Huber(),\n",
        "              optimizer=optimizer,\n",
        "              metrics=[\"mae\"]\n",
        ")\n",
        "\n",
        "history = model.fit(\n",
        "    X_train, y_train,\n",
        "    validation_data = (X_test, y_test),\n",
        "    epochs = 100,\n",
        "    batch_size = 128,\n",
        "    callbacks = auto_stop_learn,\n",
        "    verbose = 1\n",
        ")"
      ],
      "metadata": {
        "colab": {
          "base_uri": "https://localhost:8080/"
        },
        "id": "_DvvwKYqO71H",
        "outputId": "98c9c9d0-c1e5-4223-e4a6-92ec32143417"
      },
      "execution_count": 70,
      "outputs": [
        {
          "output_type": "stream",
          "name": "stdout",
          "text": [
            "Epoch 1/100\n",
            "4/4 [==============================] - 13s 2s/step - loss: 0.0819 - mae: 0.3028 - val_loss: 0.0777 - val_mae: 0.3120\n",
            "Epoch 2/100\n",
            "4/4 [==============================] - 3s 735ms/step - loss: 0.0418 - mae: 0.2491 - val_loss: 0.0321 - val_mae: 0.2218\n",
            "Epoch 3/100\n",
            "4/4 [==============================] - 3s 747ms/step - loss: 0.0318 - mae: 0.1819 - val_loss: 0.0236 - val_mae: 0.1856\n",
            "Epoch 4/100\n",
            "4/4 [==============================] - 3s 735ms/step - loss: 0.0252 - mae: 0.1619 - val_loss: 0.0314 - val_mae: 0.1744\n",
            "Epoch 5/100\n",
            "4/4 [==============================] - 4s 1s/step - loss: 0.0246 - mae: 0.1706 - val_loss: 0.0210 - val_mae: 0.1438\n",
            "Epoch 6/100\n",
            "4/4 [==============================] - 3s 732ms/step - loss: 0.0210 - mae: 0.1451 - val_loss: 0.0157 - val_mae: 0.1284\n",
            "Epoch 7/100\n",
            "4/4 [==============================] - 3s 732ms/step - loss: 0.0188 - mae: 0.1361 - val_loss: 0.0184 - val_mae: 0.1127\n",
            "Epoch 8/100\n",
            "4/4 [==============================] - 3s 738ms/step - loss: 0.0169 - mae: 0.1350 - val_loss: 0.0131 - val_mae: 0.1213\n",
            "Epoch 9/100\n",
            "4/4 [==============================] - 4s 1s/step - loss: 0.0169 - mae: 0.1338 - val_loss: 0.0144 - val_mae: 0.1138\n",
            "Epoch 10/100\n",
            "4/4 [==============================] - 3s 736ms/step - loss: 0.0144 - mae: 0.1246 - val_loss: 0.0132 - val_mae: 0.1121\n",
            "Epoch 11/100\n",
            "4/4 [==============================] - 3s 744ms/step - loss: 0.0141 - mae: 0.1220 - val_loss: 0.0136 - val_mae: 0.1096\n",
            "Epoch 12/100\n",
            "4/4 [==============================] - 3s 741ms/step - loss: 0.0141 - mae: 0.1215 - val_loss: 0.0125 - val_mae: 0.1089\n",
            "Epoch 13/100\n",
            "4/4 [==============================] - 4s 1s/step - loss: 0.0137 - mae: 0.1207 - val_loss: 0.0125 - val_mae: 0.1035\n",
            "Epoch 14/100\n",
            "4/4 [==============================] - 3s 749ms/step - loss: 0.0125 - mae: 0.1160 - val_loss: 0.0115 - val_mae: 0.1027\n",
            "Epoch 15/100\n",
            "4/4 [==============================] - 3s 733ms/step - loss: 0.0121 - mae: 0.1133 - val_loss: 0.0110 - val_mae: 0.1004\n",
            "Epoch 16/100\n",
            "4/4 [==============================] - 3s 734ms/step - loss: 0.0115 - mae: 0.1104 - val_loss: 0.0110 - val_mae: 0.0961\n",
            "Epoch 17/100\n",
            "4/4 [==============================] - 4s 1s/step - loss: 0.0109 - mae: 0.1080 - val_loss: 0.0113 - val_mae: 0.0927\n",
            "Epoch 18/100\n",
            "4/4 [==============================] - 3s 737ms/step - loss: 0.0107 - mae: 0.1050 - val_loss: 0.0108 - val_mae: 0.0971\n",
            "Epoch 19/100\n",
            "4/4 [==============================] - 3s 728ms/step - loss: 0.0097 - mae: 0.0998 - val_loss: 0.0107 - val_mae: 0.0938\n",
            "Epoch 20/100\n",
            "4/4 [==============================] - 3s 728ms/step - loss: 0.0104 - mae: 0.1035 - val_loss: 0.0118 - val_mae: 0.0875\n",
            "Epoch 21/100\n",
            "4/4 [==============================] - 4s 1s/step - loss: 0.0100 - mae: 0.0988 - val_loss: 0.0104 - val_mae: 0.0926\n",
            "Epoch 21: early stopping\n"
          ]
        }
      ]
    },
    {
      "cell_type": "code",
      "source": [
        "plt.plot(history.history['loss'])\n",
        "plt.plot(history.history['val_loss'])\n",
        "plt.title('Model Loss')\n",
        "plt.ylabel('Loss')\n",
        "plt.xlabel('Epochs')\n",
        "plt.legend(['train', 'test'], loc = 'upper right')\n",
        "plt.show()\n",
        "\n",
        "plt.plot(history.history['mae'])\n",
        "plt.plot(history.history['val_mae'])\n",
        "plt.title('Model Mae')\n",
        "plt.ylabel('Mae')\n",
        "plt.xlabel('Epoch')\n",
        "plt.legend(['train', 'test'], loc='lower right')\n",
        "plt.show()"
      ],
      "metadata": {
        "colab": {
          "base_uri": "https://localhost:8080/",
          "height": 927
        },
        "id": "I7fToYgCPRXV",
        "outputId": "da34db2c-556f-40e6-c5b6-de4536956616"
      },
      "execution_count": 71,
      "outputs": [
        {
          "output_type": "display_data",
          "data": {
            "text/plain": [
              "<Figure size 640x480 with 1 Axes>"
            ],
            "image/png": "[encoded data removed]"
          },
          "metadata": {}
        },
        {
          "output_type": "display_data",
          "data": {
            "text/plain": [
              "<Figure size 640x480 with 1 Axes>"
            ],
            "image/png": "[encoded data removed]"
          },
          "metadata": {}
        }
      ]
    },
    {
      "cell_type": "code",
      "source": [
        "model.save(\"./temp_samarinda.h5\")"
      ],
      "metadata": {
        "id": "L-oGJS6ZlbSL"
      },
      "execution_count": 73,
      "outputs": []
    },
    {
      "cell_type": "code",
      "source": [
        "# Make predictions\n",
        "predictions = model.predict(X_test)\n",
        "\n",
        "# Create an array of dates corresponding to the test set\n",
        "x_values = np.arange(len(y_test))\n",
        "\n",
        "# Plot the predicted temperatures against the x-axis values\n",
        "plt.figure(figsize=(12, 6))\n",
        "plt.plot(x_values, y_test, label='Actual Temperatures')\n",
        "plt.plot(x_values, predictions, label='Predicted Temperatures')\n",
        "plt.title('Actual vs Predicted Temperatures')\n",
        "plt.xlabel('Time')\n",
        "plt.ylabel('Temperature')\n",
        "plt.legend()\n",
        "plt.show()"
      ],
      "metadata": {
        "colab": {
          "base_uri": "https://localhost:8080/",
          "height": 378
        },
        "id": "xdme9vIOkHQs",
        "outputId": "775eadb6-f548-4d33-881e-304fc1ca9cd8"
      },
      "execution_count": 106,
      "outputs": [
        {
          "output_type": "stream",
          "name": "stdout",
          "text": [
            "2/2 [==============================] - 0s 120ms/step\n"
          ]
        },
        {
          "output_type": "display_data",
          "data": {
            "text/plain": [
              "<Figure size 1200x600 with 1 Axes>"
            ],
            "image/png": "[encoded data removed]"
          },
          "metadata": {}
        }
      ]
    },
    {
      "cell_type": "code",
      "source": [
        "import numpy as np\n",
        "import matplotlib.pyplot as plt\n",
        "\n",
        "# Extend the time steps for prediction\n",
        "extended_time_steps = 36  # Number of additional time steps for prediction\n",
        "extended_x_values = np.arange(len(y_test) + extended_time_steps)\n",
        "\n",
        "# Reshape the zeros array to match the shape of X_test\n",
        "zeros_array = np.zeros((extended_time_steps, X_test.shape[1], X_test.shape[2]))\n",
        "\n",
        "# Extend the input data for prediction\n",
        "extended_X_test = np.concatenate((X_test, zeros_array))\n",
        "\n",
        "# Make predictions for the extended time period\n",
        "extended_predictions = model.predict(extended_X_test)\n",
        "\n",
        "# Plot the predicted temperatures for the extended time period\n",
        "plt.figure(figsize=(12, 6))\n",
        "plt.plot(extended_x_values, extended_predictions, label='Predicted Temperatures')\n",
        "plt.title('Predicted Temperatures for the Next 3 Years')\n",
        "plt.xlabel('Time')\n",
        "plt.ylabel('Temperature')\n",
        "plt.legend()\n",
        "plt.show()\n"
      ],
      "metadata": {
        "colab": {
          "base_uri": "https://localhost:8080/",
          "height": 378
        },
        "id": "BWZ2R-5DsPbb",
        "outputId": "089a1605-b715-42e2-9ce2-5e93ce62dcd0"
      },
      "execution_count": 110,
      "outputs": [
        {
          "output_type": "stream",
          "name": "stdout",
          "text": [
            "3/3 [==============================] - 0s 87ms/step\n"
          ]
        },
        {
          "output_type": "display_data",
          "data": {
            "text/plain": [
              "<Figure size 1200x600 with 1 Axes>"
            ],
            "image/png": "[encoded data removed]"
          },
          "metadata": {}
        }
      ]
    },
    {
      "cell_type": "code",
      "source": [
        "import datetime\n",
        "import numpy as np\n",
        "\n",
        "def predict_temperature(year, month, day):\n",
        "    # Tanggal yang akan diprediksi suhunya\n",
        "    input_date = datetime.date(year, month, day)\n",
        "\n",
        "    # Tentukan tanggal referensi\n",
        "    reference_date = datetime.date(2000, 1, 1)\n",
        "\n",
        "    # Hitung perbedaan hari antara tanggal input dan tanggal referensi\n",
        "    delta_days = (input_date - reference_date).days\n",
        "\n",
        "    # Ubah perbedaan hari menjadi representasi numerik\n",
        "    input_date_representation = scaler.transform([[delta_days]])[0]\n",
        "\n",
        "    time_step = 5  # Set the appropriate value based on your problem and data characteristics\n",
        "\n",
        "    # Buat input data untuk prediksi\n",
        "    input_data = []\n",
        "    for i in range(len(data_1) - time_step + 1, len(data_1)):\n",
        "        input_data.append(data_1[i, 0])\n",
        "    input_data.append(input_date_representation[0])\n",
        "\n",
        "    # Konversi input data menjadi array NumPy\n",
        "    input_data = np.array(input_data)\n",
        "\n",
        "    # Reshape input data menjadi bentuk yang dapat diterima oleh model\n",
        "    input_data = np.reshape(input_data, (1, time_step, 1))\n",
        "\n",
        "    # Lakukan prediksi suhu\n",
        "    predicted_temperature = model.predict(input_data)\n",
        "\n",
        "    # Reshape predicted_temperature to have the expected dimensions\n",
        "    predicted_temperature = np.reshape(predicted_temperature, (1, 1))\n",
        "\n",
        "    # Apply inverse_transform to convert the predicted_temperature to the original scale\n",
        "    predicted_temperature = scaler.inverse_transform(predicted_temperature)[0][0]\n",
        "\n",
        "    return predicted_temperature"
      ],
      "metadata": {
        "id": "Ply7jiDttrkp"
      },
      "execution_count": 126,
      "outputs": []
    },
    {
      "cell_type": "code",
      "source": [
        "import datetime\n",
        "import numpy as np\n",
        "\n",
        "def predict_temperature(year, month, day):\n",
        "    # Tanggal yang akan diprediksi suhunya\n",
        "    input_date = datetime.date(year, month, day)\n",
        "\n",
        "    # Tentukan tanggal referensi\n",
        "    reference_date = datetime.date(2015, 1, 1)\n",
        "\n",
        "    # Hitung perbedaan hari antara tanggal input dan tanggal referensi\n",
        "    delta_days = (input_date - reference_date).days\n",
        "\n",
        "    # Ubah perbedaan hari menjadi representasi numerik\n",
        "    input_date_representation = scaler.transform([[delta_days]])[0]\n",
        "\n",
        "    time_step = 5  # Set the appropriate value based on your problem and data characteristics\n",
        "\n",
        "    # Buat input data untuk prediksi\n",
        "    input_data = []\n",
        "    for i in range(len(data_1) - time_step + 1, len(data_1)):\n",
        "        input_data.append(data_1[i, 0])\n",
        "    input_data.append(input_date_representation[0])\n",
        "\n",
        "    # Konversi input data menjadi array NumPy\n",
        "    input_data = np.array(input_data)\n",
        "\n",
        "    # Reshape input data menjadi bentuk yang dapat diterima oleh model\n",
        "    input_data = np.reshape(input_data, (1, time_step, 1))\n",
        "\n",
        "    # Lakukan prediksi suhu\n",
        "    predicted_temperature = model.predict(input_data)\n",
        "\n",
        "    # Reshape predicted_temperature to have the expected dimensions\n",
        "    predicted_temperature = np.reshape(predicted_temperature, (1, 1))\n",
        "\n",
        "    # Apply inverse_transform to convert the predicted_temperature to the original scale\n",
        "    predicted_temperature = scaler.inverse_transform(predicted_temperature)[0][0]\n",
        "\n",
        "    return predicted_temperature\n",
        "\n",
        "# Contoh pemanggilan fungsi\n",
        "year = 2023\n",
        "month = 12\n",
        "day = 1\n",
        "predicted_temp = predict_temperature(year, month, day)\n",
        "print(predicted_temp)\n"
      ],
      "metadata": {
        "colab": {
          "base_uri": "https://localhost:8080/"
        },
        "id": "A1AqsxSoxFsq",
        "outputId": "fb0d848a-a845-4c22-b638-7c01d4c0b186"
      },
      "execution_count": 145,
      "outputs": [
        {
          "output_type": "stream",
          "name": "stderr",
          "text": [
            "/usr/local/lib/python3.10/dist-packages/sklearn/base.py:439: UserWarning: X does not have valid feature names, but MinMaxScaler was fitted with feature names\n",
            "  warnings.warn(\n"
          ]
        },
        {
          "output_type": "stream",
          "name": "stdout",
          "text": [
            "1/1 [==============================] - 0s 49ms/step\n",
            "28.788311\n"
          ]
        }
      ]
    }
  ]
}