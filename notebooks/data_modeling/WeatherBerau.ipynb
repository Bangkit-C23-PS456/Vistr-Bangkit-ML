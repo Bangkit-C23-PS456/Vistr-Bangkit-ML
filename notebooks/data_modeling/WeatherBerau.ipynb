{
  "nbformat": 4,
  "nbformat_minor": 0,
  "metadata": {
    "colab": {
      "provenance": []
    },
    "kernelspec": {
      "name": "python3",
      "display_name": "Python 3"
    },
    "language_info": {
      "name": "python"
    }
  },
  "cells": [
    {
      "cell_type": "code",
      "execution_count": 1,
      "metadata": {
        "id": "fVrZ4JiuBXnP"
      },
      "outputs": [],
      "source": [
        "import numpy as np\n",
        "import pandas as pd\n",
        "from sklearn.model_selection import TimeSeriesSplit\n",
        "import matplotlib.pyplot as plt\n",
        "from sklearn.preprocessing import MinMaxScaler\n",
        "from tensorflow.keras.models import Sequential\n",
        "from tensorflow.keras.layers import Dense, LSTM, Bidirectional, Dropout\n",
        "from tensorflow.keras.callbacks import EarlyStopping\n",
        "from tensorflow.keras.utils import to_categorical\n",
        "import tensorflow as tf"
      ]
    },
    {
      "cell_type": "code",
      "source": [
        "# Load the dataset\n",
        "df = pd.read_csv('berau_weather.csv')\n",
        "df.head()"
      ],
      "metadata": {
        "colab": {
          "base_uri": "https://localhost:8080/",
          "height": 206
        },
        "id": "_EG9jNyGB6Zi",
        "outputId": "10013445-cec3-4340-a12d-cdc285ad25b4"
      },
      "execution_count": 2,
      "outputs": [
        {
          "output_type": "execute_result",
          "data": {
            "text/plain": [
              "   Unnamed: 0        Date  Day  Temp  Wind Weather\n",
              "0           0  2015-01-01    1  26.6  53.2   Sunny\n",
              "1           1  2015-01-02    2  26.6  53.2   Sunny\n",
              "2           2  2015-01-03    3  26.6  53.2    Rain\n",
              "3           3  2015-01-04    4  26.6  53.2  Cloudy\n",
              "4           4  2015-01-05    5  26.6  53.2    Rain"
            ],
            "text/html": [
              "\n",
              "  <div id=\"df-2e08d299-333f-4547-a17c-c971450cb72c\">\n",
              "    <div class=\"colab-df-container\">\n",
              "      <div>\n",
              "<style scoped>\n",
              "    .dataframe tbody tr th:only-of-type {\n",
              "        vertical-align: middle;\n",
              "    }\n",
              "\n",
              "    .dataframe tbody tr th {\n",
              "        vertical-align: top;\n",
              "    }\n",
              "\n",
              "    .dataframe thead th {\n",
              "        text-align: right;\n",
              "    }\n",
              "</style>\n",
              "<table border=\"1\" class=\"dataframe\">\n",
              "  <thead>\n",
              "    <tr style=\"text-align: right;\">\n",
              "      <th></th>\n",
              "      <th>Unnamed: 0</th>\n",
              "      <th>Date</th>\n",
              "      <th>Day</th>\n",
              "      <th>Temp</th>\n",
              "      <th>Wind</th>\n",
              "      <th>Weather</th>\n",
              "    </tr>\n",
              "  </thead>\n",
              "  <tbody>\n",
              "    <tr>\n",
              "      <th>0</th>\n",
              "      <td>0</td>\n",
              "      <td>2015-01-01</td>\n",
              "      <td>1</td>\n",
              "      <td>26.6</td>\n",
              "      <td>53.2</td>\n",
              "      <td>Sunny</td>\n",
              "    </tr>\n",
              "    <tr>\n",
              "      <th>1</th>\n",
              "      <td>1</td>\n",
              "      <td>2015-01-02</td>\n",
              "      <td>2</td>\n",
              "      <td>26.6</td>\n",
              "      <td>53.2</td>\n",
              "      <td>Sunny</td>\n",
              "    </tr>\n",
              "    <tr>\n",
              "      <th>2</th>\n",
              "      <td>2</td>\n",
              "      <td>2015-01-03</td>\n",
              "      <td>3</td>\n",
              "      <td>26.6</td>\n",
              "      <td>53.2</td>\n",
              "      <td>Rain</td>\n",
              "    </tr>\n",
              "    <tr>\n",
              "      <th>3</th>\n",
              "      <td>3</td>\n",
              "      <td>2015-01-04</td>\n",
              "      <td>4</td>\n",
              "      <td>26.6</td>\n",
              "      <td>53.2</td>\n",
              "      <td>Cloudy</td>\n",
              "    </tr>\n",
              "    <tr>\n",
              "      <th>4</th>\n",
              "      <td>4</td>\n",
              "      <td>2015-01-05</td>\n",
              "      <td>5</td>\n",
              "      <td>26.6</td>\n",
              "      <td>53.2</td>\n",
              "      <td>Rain</td>\n",
              "    </tr>\n",
              "  </tbody>\n",
              "</table>\n",
              "</div>\n",
              "      <button class=\"colab-df-convert\" onclick=\"convertToInteractive('df-2e08d299-333f-4547-a17c-c971450cb72c')\"\n",
              "              title=\"Convert this dataframe to an interactive table.\"\n",
              "              style=\"display:none;\">\n",
              "        \n",
              "  <svg xmlns=\"http://www.w3.org/2000/svg\" height=\"24px\"viewBox=\"0 0 24 24\"\n",
              "       width=\"24px\">\n",
              "    <path d=\"M0 0h24v24H0V0z\" fill=\"none\"/>\n",
              "    <path d=\"M18.56 5.44l.94 2.06.94-2.06 2.06-.94-2.06-.94-.94-2.06-.94 2.06-2.06.94zm-11 1L8.5 8.5l.94-2.06 2.06-.94-2.06-.94L8.5 2.5l-.94 2.06-2.06.94zm10 10l.94 2.06.94-2.06 2.06-.94-2.06-.94-.94-2.06-.94 2.06-2.06.94z\"/><path d=\"M17.41 7.96l-1.37-1.37c-.4-.4-.92-.59-1.43-.59-.52 0-1.04.2-1.43.59L10.3 9.45l-7.72 7.72c-.78.78-.78 2.05 0 2.83L4 21.41c.39.39.9.59 1.41.59.51 0 1.02-.2 1.41-.59l7.78-7.78 2.81-2.81c.8-.78.8-2.07 0-2.86zM5.41 20L4 18.59l7.72-7.72 1.47 1.35L5.41 20z\"/>\n",
              "  </svg>\n",
              "      </button>\n",
              "      \n",
              "  <style>\n",
              "    .colab-df-container {\n",
              "      display:flex;\n",
              "      flex-wrap:wrap;\n",
              "      gap: 12px;\n",
              "    }\n",
              "\n",
              "    .colab-df-convert {\n",
              "      background-color: #E8F0FE;\n",
              "      border: none;\n",
              "      border-radius: 50%;\n",
              "      cursor: pointer;\n",
              "      display: none;\n",
              "      fill: #1967D2;\n",
              "      height: 32px;\n",
              "      padding: 0 0 0 0;\n",
              "      width: 32px;\n",
              "    }\n",
              "\n",
              "    .colab-df-convert:hover {\n",
              "      background-color: #E2EBFA;\n",
              "      box-shadow: 0px 1px 2px rgba(60, 64, 67, 0.3), 0px 1px 3px 1px rgba(60, 64, 67, 0.15);\n",
              "      fill: #174EA6;\n",
              "    }\n",
              "\n",
              "    [theme=dark] .colab-df-convert {\n",
              "      background-color: #3B4455;\n",
              "      fill: #D2E3FC;\n",
              "    }\n",
              "\n",
              "    [theme=dark] .colab-df-convert:hover {\n",
              "      background-color: #434B5C;\n",
              "      box-shadow: 0px 1px 3px 1px rgba(0, 0, 0, 0.15);\n",
              "      filter: drop-shadow(0px 1px 2px rgba(0, 0, 0, 0.3));\n",
              "      fill: #FFFFFF;\n",
              "    }\n",
              "  </style>\n",
              "\n",
              "      <script>\n",
              "        const buttonEl =\n",
              "          document.querySelector('#df-2e08d299-333f-4547-a17c-c971450cb72c button.colab-df-convert');\n",
              "        buttonEl.style.display =\n",
              "          google.colab.kernel.accessAllowed ? 'block' : 'none';\n",
              "\n",
              "        async function convertToInteractive(key) {\n",
              "          const element = document.querySelector('#df-2e08d299-333f-4547-a17c-c971450cb72c');\n",
              "          const dataTable =\n",
              "            await google.colab.kernel.invokeFunction('convertToInteractive',\n",
              "                                                     [key], {});\n",
              "          if (!dataTable) return;\n",
              "\n",
              "          const docLinkHtml = 'Like what you see? Visit the ' +\n",
              "            '<a target=\"_blank\" href=https://colab.research.google.com/notebooks/data_table.ipynb>data table notebook</a>'\n",
              "            + ' to learn more about interactive tables.';\n",
              "          element.innerHTML = '';\n",
              "          dataTable['output_type'] = 'display_data';\n",
              "          await google.colab.output.renderOutput(dataTable, element);\n",
              "          const docLink = document.createElement('div');\n",
              "          docLink.innerHTML = docLinkHtml;\n",
              "          element.appendChild(docLink);\n",
              "        }\n",
              "      </script>\n",
              "    </div>\n",
              "  </div>\n",
              "  "
            ]
          },
          "metadata": {},
          "execution_count": 2
        }
      ]
    },
    {
      "cell_type": "code",
      "source": [
        "# Extract the features and target variable\n",
        "data = df[['Date', 'Weather']]  # Select 'Date' and 'Weather' columns\n",
        "data = data.set_index('Date')\n",
        "\n",
        "# Create numerical labels for the categorical variable 'Weather'\n",
        "labels = data['Weather'].unique()\n",
        "label_mapping = {label: i for i, label in enumerate(labels)}\n",
        "data['Weather_Label'] = data['Weather'].map(label_mapping)\n",
        "\n",
        "# Min-max scaling\n",
        "scaler = MinMaxScaler(feature_range=(0, 1))\n",
        "scaled_data = scaler.fit_transform(data[['Weather_Label']])"
      ],
      "metadata": {
        "id": "LrYOwlJpB8R0"
      },
      "execution_count": 3,
      "outputs": []
    },
    {
      "cell_type": "code",
      "source": [
        "# Split the dataset into features (X) and target variable (y)\n",
        "X = scaled_data[:-1]\n",
        "y = scaled_data[1:]"
      ],
      "metadata": {
        "id": "DqRV-60yxQNg"
      },
      "execution_count": 4,
      "outputs": []
    },
    {
      "cell_type": "code",
      "source": [
        "# Convert target variable to categorical format\n",
        "num_classes = len(labels)\n",
        "y_categorical = to_categorical(y.argmax(axis=1), num_classes=num_classes)"
      ],
      "metadata": {
        "id": "wOyszk65xWyZ"
      },
      "execution_count": 5,
      "outputs": []
    },
    {
      "cell_type": "code",
      "source": [
        "# Split the dataset into training and testing sets using TimeSeriesSplit\n",
        "tscv = TimeSeriesSplit(n_splits=2)\n",
        "\n",
        "train_indices, test_indices = [], []\n",
        "\n",
        "for train_index, test_index in tscv.split(X):\n",
        "    train_indices.append(train_index)\n",
        "    test_indices.append(test_index)\n",
        "\n",
        "# Use the indices from the first split to divide the dataset\n",
        "train_index = train_indices[0]\n",
        "test_index = test_indices[0]\n",
        "\n",
        "X_train = X[train_index]\n",
        "X_test = X[test_index]\n",
        "y_train_categorical = y_categorical[train_index]\n",
        "y_test_categorical = y_categorical[test_index]"
      ],
      "metadata": {
        "id": "eOkASEb8xY-Z"
      },
      "execution_count": 6,
      "outputs": []
    },
    {
      "cell_type": "code",
      "source": [
        "# Create the LSTM model\n",
        "model = Sequential([\n",
        "    LSTM(128, input_shape=(4, 1)),\n",
        "    Dropout(0.2),\n",
        "    Dense(32, activation='relu'),\n",
        "    Dense(3, activation='sigmoid')\n",
        "])\n",
        "model.summary()"
      ],
      "metadata": {
        "colab": {
          "base_uri": "https://localhost:8080/"
        },
        "id": "fUdVYAydCOBZ",
        "outputId": "ba8eb8a2-76e6-4325-88e1-aae37f6cd21a"
      },
      "execution_count": 7,
      "outputs": [
        {
          "output_type": "stream",
          "name": "stdout",
          "text": [
            "Model: \"sequential\"\n",
            "_________________________________________________________________\n",
            " Layer (type)                Output Shape              Param #   \n",
            "=================================================================\n",
            " lstm (LSTM)                 (None, 128)               66560     \n",
            "                                                                 \n",
            " dropout (Dropout)           (None, 128)               0         \n",
            "                                                                 \n",
            " dense (Dense)               (None, 32)                4128      \n",
            "                                                                 \n",
            " dense_1 (Dense)             (None, 3)                 99        \n",
            "                                                                 \n",
            "=================================================================\n",
            "Total params: 70,787\n",
            "Trainable params: 70,787\n",
            "Non-trainable params: 0\n",
            "_________________________________________________________________\n"
          ]
        }
      ]
    },
    {
      "cell_type": "code",
      "source": [
        "# callback\n",
        "auto_stop_learn = EarlyStopping(\n",
        "    monitor = 'loss',\n",
        "    min_delta = 0,\n",
        "    patience = 2,\n",
        "    verbose = 1,\n",
        "    mode = 'auto'\n",
        ")"
      ],
      "metadata": {
        "id": "OcJ6Gn2cCP3c"
      },
      "execution_count": 8,
      "outputs": []
    },
    {
      "cell_type": "code",
      "source": [
        "optimizer = tf.keras.optimizers.Adam(learning_rate=0.01)\n",
        "model.compile(loss='categorical_crossentropy', optimizer=optimizer, metrics=['accuracy'])\n",
        "history = model.fit(X_train, y_train_categorical, validation_data=(X_test, y_test_categorical),\n",
        "                    epochs=100, batch_size=128, callbacks=[auto_stop_learn], verbose=1)"
      ],
      "metadata": {
        "colab": {
          "base_uri": "https://localhost:8080/"
        },
        "id": "uix5aCnMCSPt",
        "outputId": "009d14e6-1cb9-4cfc-f3fa-8e2f6ec48496"
      },
      "execution_count": 9,
      "outputs": [
        {
          "output_type": "stream",
          "name": "stdout",
          "text": [
            "Epoch 1/100\n",
            "2/2 [==============================] - 4s 617ms/step - loss: 1.0310 - accuracy: 1.0000 - val_loss: 0.8563 - val_accuracy: 1.0000\n",
            "Epoch 2/100\n",
            "2/2 [==============================] - 0s 55ms/step - loss: 0.7989 - accuracy: 1.0000 - val_loss: 0.5740 - val_accuracy: 1.0000\n",
            "Epoch 3/100\n",
            "2/2 [==============================] - 0s 58ms/step - loss: 0.5175 - accuracy: 1.0000 - val_loss: 0.2922 - val_accuracy: 1.0000\n",
            "Epoch 4/100\n",
            "2/2 [==============================] - 0s 40ms/step - loss: 0.2537 - accuracy: 1.0000 - val_loss: 0.1088 - val_accuracy: 1.0000\n",
            "Epoch 5/100\n",
            "2/2 [==============================] - 0s 42ms/step - loss: 0.0934 - accuracy: 1.0000 - val_loss: 0.0318 - val_accuracy: 1.0000\n",
            "Epoch 6/100\n",
            "2/2 [==============================] - 0s 42ms/step - loss: 0.0283 - accuracy: 1.0000 - val_loss: 0.0082 - val_accuracy: 1.0000\n",
            "Epoch 7/100\n",
            "2/2 [==============================] - 0s 49ms/step - loss: 0.0072 - accuracy: 1.0000 - val_loss: 0.0021 - val_accuracy: 1.0000\n",
            "Epoch 8/100\n",
            "2/2 [==============================] - 0s 57ms/step - loss: 0.0018 - accuracy: 1.0000 - val_loss: 5.5229e-04 - val_accuracy: 1.0000\n",
            "Epoch 9/100\n",
            "2/2 [==============================] - 0s 42ms/step - loss: 5.2074e-04 - accuracy: 1.0000 - val_loss: 1.6030e-04 - val_accuracy: 1.0000\n",
            "Epoch 10/100\n",
            "2/2 [==============================] - 0s 43ms/step - loss: 1.6076e-04 - accuracy: 1.0000 - val_loss: 5.1896e-05 - val_accuracy: 1.0000\n",
            "Epoch 11/100\n",
            "2/2 [==============================] - 0s 61ms/step - loss: 5.3664e-05 - accuracy: 1.0000 - val_loss: 1.8901e-05 - val_accuracy: 1.0000\n",
            "Epoch 12/100\n",
            "2/2 [==============================] - 0s 40ms/step - loss: 1.9861e-05 - accuracy: 1.0000 - val_loss: 7.7232e-06 - val_accuracy: 1.0000\n",
            "Epoch 13/100\n",
            "2/2 [==============================] - 0s 43ms/step - loss: 7.7282e-06 - accuracy: 1.0000 - val_loss: 3.5534e-06 - val_accuracy: 1.0000\n",
            "Epoch 14/100\n",
            "2/2 [==============================] - 0s 42ms/step - loss: 4.0462e-06 - accuracy: 1.0000 - val_loss: 1.7767e-06 - val_accuracy: 1.0000\n",
            "Epoch 15/100\n",
            "2/2 [==============================] - 0s 57ms/step - loss: 2.1190e-06 - accuracy: 1.0000 - val_loss: 1.0153e-06 - val_accuracy: 1.0000\n",
            "Epoch 16/100\n",
            "2/2 [==============================] - 0s 67ms/step - loss: 1.2767e-06 - accuracy: 1.0000 - val_loss: 6.1641e-07 - val_accuracy: 1.0000\n",
            "Epoch 17/100\n",
            "2/2 [==============================] - 0s 60ms/step - loss: 8.3347e-07 - accuracy: 1.0000 - val_loss: 4.3511e-07 - val_accuracy: 1.0000\n",
            "Epoch 18/100\n",
            "2/2 [==============================] - 0s 68ms/step - loss: 5.5351e-07 - accuracy: 1.0000 - val_loss: 2.9008e-07 - val_accuracy: 1.0000\n",
            "Epoch 19/100\n",
            "2/2 [==============================] - 0s 71ms/step - loss: 3.2647e-07 - accuracy: 1.0000 - val_loss: 1.8130e-07 - val_accuracy: 1.0000\n",
            "Epoch 20/100\n",
            "2/2 [==============================] - 0s 70ms/step - loss: 2.4683e-07 - accuracy: 1.0000 - val_loss: 1.4504e-07 - val_accuracy: 1.0000\n",
            "Epoch 21/100\n",
            "2/2 [==============================] - 0s 79ms/step - loss: 2.1022e-07 - accuracy: 1.0000 - val_loss: 1.4504e-07 - val_accuracy: 1.0000\n",
            "Epoch 22/100\n",
            "2/2 [==============================] - 0s 74ms/step - loss: 1.8549e-07 - accuracy: 1.0000 - val_loss: 1.0878e-07 - val_accuracy: 1.0000\n",
            "Epoch 23/100\n",
            "2/2 [==============================] - 0s 69ms/step - loss: 1.3702e-07 - accuracy: 1.0000 - val_loss: 1.0878e-07 - val_accuracy: 1.0000\n",
            "Epoch 24/100\n",
            "2/2 [==============================] - 0s 58ms/step - loss: 1.1773e-07 - accuracy: 1.0000 - val_loss: 1.0878e-07 - val_accuracy: 1.0000\n",
            "Epoch 25/100\n",
            "2/2 [==============================] - 0s 58ms/step - loss: 1.1327e-07 - accuracy: 1.0000 - val_loss: 7.2519e-08 - val_accuracy: 1.0000\n",
            "Epoch 26/100\n",
            "2/2 [==============================] - 0s 62ms/step - loss: 1.0932e-07 - accuracy: 1.0000 - val_loss: 7.2519e-08 - val_accuracy: 1.0000\n",
            "Epoch 27/100\n",
            "2/2 [==============================] - 0s 55ms/step - loss: 8.1616e-08 - accuracy: 1.0000 - val_loss: 3.6259e-08 - val_accuracy: 1.0000\n",
            "Epoch 28/100\n",
            "2/2 [==============================] - 0s 57ms/step - loss: 8.4090e-08 - accuracy: 1.0000 - val_loss: 3.6259e-08 - val_accuracy: 1.0000\n",
            "Epoch 29/100\n",
            "2/2 [==============================] - 0s 56ms/step - loss: 9.0025e-08 - accuracy: 1.0000 - val_loss: 3.6259e-08 - val_accuracy: 1.0000\n",
            "Epoch 29: early stopping\n"
          ]
        }
      ]
    },
    {
      "cell_type": "code",
      "source": [
        "# Plot loss\n",
        "plt.plot(history.history['loss'], label='Training Loss')\n",
        "plt.plot(history.history['val_loss'], label='Validation Loss')\n",
        "plt.title('Loss')\n",
        "plt.xlabel('Epoch')\n",
        "plt.ylabel('Loss')\n",
        "plt.legend()\n",
        "plt.show()\n",
        "\n",
        "# Plot accuracy\n",
        "plt.plot(history.history['accuracy'], label='Training Accuracy')\n",
        "plt.plot(history.history['val_accuracy'], label='Validation Accuracy')\n",
        "plt.title('Accuracy')\n",
        "plt.xlabel('Epoch')\n",
        "plt.ylabel('Accuracy')\n",
        "plt.legend()\n",
        "plt.show()"
      ],
      "metadata": {
        "colab": {
          "base_uri": "https://localhost:8080/",
          "height": 927
        },
        "id": "uaa33ZZyCxED",
        "outputId": "af1dda0a-c39b-4c23-83f9-73f70f85b253"
      },
      "execution_count": 10,
      "outputs": [
        {
          "output_type": "display_data",
          "data": {
            "text/plain": [
              "<Figure size 640x480 with 1 Axes>"
            ],
            "image/png": "[encoded data removed]"
          },
          "metadata": {}
        },
        {
          "output_type": "display_data",
          "data": {
            "text/plain": [
              "<Figure size 640x480 with 1 Axes>"
            ],
            "image/png": "[encoded data removed]"
          },
          "metadata": {}
        }
      ]
    },
    {
      "cell_type": "code",
      "source": [
        "model.save(\"weather_berau.h5\")"
      ],
      "metadata": {
        "id": "j5ukXPPPUoY_"
      },
      "execution_count": 11,
      "outputs": []
    },
    {
      "cell_type": "code",
      "source": [
        "import datetime\n",
        "import numpy as np\n",
        "from tensorflow.keras.models import load_model\n",
        "\n",
        "# Load the saved model\n",
        "model = load_model(\"weather_berau.h5\")\n",
        "\n",
        "def predict_weather(year, month, day):\n",
        "    # Convert date to datetime object\n",
        "    input_date = datetime.date(year, month, day)\n",
        "\n",
        "    # Get the reference date\n",
        "    reference_date = datetime.date(2015, 1, 1)\n",
        "\n",
        "    # Get the number of days since the reference date\n",
        "    delta_days = (input_date - reference_date).days\n",
        "\n",
        "    # Create a sequence of four consecutive delta days\n",
        "    input_sequence = np.repeat(delta_days, 4)\n",
        "\n",
        "    # Reshape the input data into the shape expected by the model\n",
        "    input_data = input_sequence.reshape((1, 4, 1))\n",
        "\n",
        "    # Predict the weather\n",
        "    predicted_weather = model.predict(input_data)[0]\n",
        "\n",
        "    # Get the index of the weather with the highest probability\n",
        "    predicted_weather_index = np.argmax(predicted_weather)\n",
        "\n",
        "    # Get the label of the weather corresponding to the index\n",
        "    predicted_weather_label = labels[predicted_weather_index]\n",
        "\n",
        "    return predicted_weather_label\n",
        "\n",
        "# Example call to the function\n",
        "year = 200\n",
        "month = 12\n",
        "day = 30\n",
        "\n",
        "predicted_weather = predict_weather(year, month, day)\n",
        "\n",
        "print(predicted_weather)\n"
      ],
      "metadata": {
        "colab": {
          "base_uri": "https://localhost:8080/"
        },
        "id": "rPq7KgugkOhb",
        "outputId": "8262b39c-c1ec-459f-9269-c3a19ab3c78a"
      },
      "execution_count": 12,
      "outputs": [
        {
          "output_type": "stream",
          "name": "stdout",
          "text": [
            "1/1 [==============================] - 0s 488ms/step\n",
            "Sunny\n"
          ]
        }
      ]
    }
  ]
}