{
 "cells": [
  {
   "cell_type": "code",
   "execution_count": 10,
   "metadata": {},
   "outputs": [],
   "source": [
    "from dotenv import load_dotenv\n",
    "import os\n",
    "import pandas as pd\n",
    "import numpy as np\n",
    "import json"
   ]
  },
  {
   "cell_type": "code",
   "execution_count": 4,
   "metadata": {},
   "outputs": [],
   "source": [
    "# Memuat variabel lingkungan dari file .env\n",
    "load_dotenv()\n",
    "\n",
    "# Mengakses variabel lingkungan yang diatur dalam file .env\n",
    "project_path = os.getenv(\"PROJECT_FOLDER\")\n",
    "dataset_folder = 'data'"
   ]
  },
  {
   "cell_type": "code",
   "execution_count": 48,
   "metadata": {},
   "outputs": [],
   "source": [
    "places = pd.read_json(f\"{project_path}/{dataset_folder}/processed_data/json/todo_add.json\")"
   ]
  },
  {
   "cell_type": "code",
   "execution_count": 8,
   "metadata": {},
   "outputs": [],
   "source": [
    "# user preferences\n",
    "user_preferences = {\n",
    "    \"user_id\": \"123\",\n",
    "    \"place_activity\": \"Outdoor\",\n",
    "    \"place_category\": \"Beach\",\n",
    "    \"city\": \"Samarinda\",\n",
    "    \"latitude\": -0.473177,\n",
    "    \"longitude\": 117.169914\n",
    "}"
   ]
  },
  {
   "cell_type": "code",
   "execution_count": 59,
   "metadata": {},
   "outputs": [
    {
     "ename": "TypeError",
     "evalue": "string indices must be integers",
     "output_type": "error",
     "traceback": [
      "\u001b[1;31m---------------------------------------------------------------------------\u001b[0m",
      "\u001b[1;31mTypeError\u001b[0m                                 Traceback (most recent call last)",
      "Cell \u001b[1;32mIn[59], line 2\u001b[0m\n\u001b[0;32m      1\u001b[0m \u001b[39m# Konversi data tempat ke dalam bentuk matriks\u001b[39;00m\n\u001b[1;32m----> 2\u001b[0m place_matrix \u001b[39m=\u001b[39m np\u001b[39m.\u001b[39marray([\n\u001b[0;32m      3\u001b[0m     [place[\u001b[39m'\u001b[39m\u001b[39mlatitude\u001b[39m\u001b[39m'\u001b[39m]] \u001b[39mfor\u001b[39;00m place \u001b[39min\u001b[39;00m places\n\u001b[0;32m      4\u001b[0m ])\n",
      "Cell \u001b[1;32mIn[59], line 3\u001b[0m, in \u001b[0;36m<listcomp>\u001b[1;34m(.0)\u001b[0m\n\u001b[0;32m      1\u001b[0m \u001b[39m# Konversi data tempat ke dalam bentuk matriks\u001b[39;00m\n\u001b[0;32m      2\u001b[0m place_matrix \u001b[39m=\u001b[39m np\u001b[39m.\u001b[39marray([\n\u001b[1;32m----> 3\u001b[0m     [place[\u001b[39m'\u001b[39;49m\u001b[39mlatitude\u001b[39;49m\u001b[39m'\u001b[39;49m]] \u001b[39mfor\u001b[39;00m place \u001b[39min\u001b[39;00m places\n\u001b[0;32m      4\u001b[0m ])\n",
      "\u001b[1;31mTypeError\u001b[0m: string indices must be integers"
     ]
    }
   ],
   "source": [
    "# Konversi data tempat ke dalam bentuk matriks\n",
    "place_matrix = np.array([\n",
    "    [place['latitude']] for place in places\n",
    "])"
   ]
  }
 ],
 "metadata": {
  "kernelspec": {
   "display_name": "Python 3",
   "language": "python",
   "name": "python3"
  },
  "language_info": {
   "codemirror_mode": {
    "name": "ipython",
    "version": 3
   },
   "file_extension": ".py",
   "mimetype": "text/x-python",
   "name": "python",
   "nbconvert_exporter": "python",
   "pygments_lexer": "ipython3",
   "version": "3.9.6"
  },
  "orig_nbformat": 4
 },
 "nbformat": 4,
 "nbformat_minor": 2
}
