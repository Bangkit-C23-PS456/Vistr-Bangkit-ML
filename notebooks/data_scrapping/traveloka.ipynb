{
 "cells": [
  {
   "cell_type": "code",
   "execution_count": 5,
   "metadata": {},
   "outputs": [],
   "source": [
    "import requests\n",
    "from bs4 import BeautifulSoup\n",
    "\n",
    "def scrape_hotels(city):\n",
    "    url = \"https://www.traveloka.com/hotels/\" + city\n",
    "    response = requests.get(url)\n",
    "    soup = BeautifulSoup(response.content, \"html.parser\")\n",
    "\n",
    "    hotels = soup.find_all(\"div\", class_=\"hotel-card\")\n",
    "    for hotel in hotels:\n",
    "        name = hotel.find(\"h3\").text\n",
    "        address = hotel.find(\"div\", class_=\"address\").text\n",
    "        price = hotel.find(\"span\", class_=\"price\").text\n",
    "        rating = hotel.find(\"div\", class_=\"rating\").text\n",
    "        reviews = hotel.find(\"div\", class_=\"reviews\").text\n",
    "\n",
    "        print(name, address, price, rating, reviews)\n",
    "\n",
    "if __name__ == \"__main__\":\n",
    "    city = \"Balikpapan\"\n",
    "    scrape_hotels(city)"
   ]
  },
  {
   "cell_type": "code",
   "execution_count": 6,
   "metadata": {},
   "outputs": [
    {
     "name": "stdout",
     "output_type": "stream",
     "text": [
      "None\n"
     ]
    }
   ],
   "source": [
    "print(scrape_hotels(\"Balikpapan\"))"
   ]
  }
 ],
 "metadata": {
  "kernelspec": {
   "display_name": "Python 3",
   "language": "python",
   "name": "python3"
  },
  "language_info": {
   "codemirror_mode": {
    "name": "ipython",
    "version": 3
   },
   "file_extension": ".py",
   "mimetype": "text/x-python",
   "name": "python",
   "nbconvert_exporter": "python",
   "pygments_lexer": "ipython3",
   "version": "3.9.6"
  },
  "orig_nbformat": 4
 },
 "nbformat": 4,
 "nbformat_minor": 2
}
