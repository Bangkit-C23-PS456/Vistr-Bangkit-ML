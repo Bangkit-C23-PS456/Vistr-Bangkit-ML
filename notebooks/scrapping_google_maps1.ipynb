{
 "cells": [
  {
   "cell_type": "code",
   "execution_count": 12,
   "metadata": {},
   "outputs": [],
   "source": [
    "from selenium import webdriver\n",
    "from selenium.webdriver.common.by import By\n",
    "from selenium.webdriver.support.ui import WebDriverWait\n",
    "from selenium.webdriver.support import expected_conditions as EC\n",
    "from selenium.webdriver.chrome.options import Options\n",
    "from selenium.webdriver.common.action_chains import ActionChains\n",
    "import time"
   ]
  },
  {
   "cell_type": "code",
   "execution_count": 13,
   "metadata": {},
   "outputs": [],
   "source": [
    "class WebDriver:\n",
    "\n",
    "  location_data = {}\n",
    "\n",
    "  def __init__(self):\n",
    "\n",
    "    self.PATH = \"chromedriver.exe\"\n",
    "    self.options = Options()\n",
    "#   Try adding this line if you get the error of chrome chrashed\n",
    "#   self.options.binary_location = \"C:/Program Files (x86)/Google/Chrome/Application/chrome.exe\"\n",
    "    self.options.add_argument(\"--headless\")\n",
    "    self.driver = webdriver.Chrome(self.PATH, options=self.options)\n",
    "\n",
    "    self.location_data[\"rating\"] = \"NA\"\n",
    "    self.location_data[\"reviews_count\"] = \"NA\"\n",
    "    self.location_data[\"location\"] = \"NA\"\n",
    "    self.location_data[\"contact\"] = \"NA\"\n",
    "    self.location_data[\"website\"] = \"NA\"\n",
    "    self.location_data[\"Time\"] = {\"Monday\":\"NA\", \"Tuesday\":\"NA\", \"Wednesday\":\"NA\", \"Thursday\":\"NA\", \"Friday\":\"NA\", \"Saturday\":\"NA\", \"Sunday\":\"NA\"}\n",
    "    self.location_data[\"Reviews\"] = []\n",
    "    self.location_data[\"Popular Times\"] = {\"Monday\":[], \"Tuesday\":[], \"Wednesday\":[], \"Thursday\":[], \"Friday\":[], \"Saturday\":[], \"Sunday\":[]}"
   ]
  },
  {
   "cell_type": "code",
   "execution_count": 14,
   "metadata": {},
   "outputs": [],
   "source": [
    "def get_location_data(self):\n",
    "\n",
    "    try:\n",
    "      avg_rating = self.driver.find_element_by_class_name(\"section-star-display\")\n",
    "      total_reviews = self.driver.find_element_by_class_name(\"section-rating-term\")\n",
    "      address = self.driver.find_element_by_css_selector(\"[data-item-id='address']\")\n",
    "      phone_number = self.driver.find_element_by_css_selector(\"[data-tooltip='Copy phone number']\")\n",
    "      website = self.driver.find_element_by_css_selector(\"[data-item-id='authority']\")\n",
    "    except:\n",
    "      pass\n",
    "\n",
    "    try:\n",
    "      self.location_data[\"rating\"] = avg_rating.text\n",
    "      self.location_data[\"reviews_count\"] = total_reviews.text[1:-1]\n",
    "      self.location_data[\"location\"] = address.text\n",
    "      self.location_data[\"contact\"] = phone_number.text\n",
    "      self.location_data[\"website\"] = website.text\n",
    "    except:\n",
    "      pass"
   ]
  },
  {
   "cell_type": "code",
   "execution_count": 15,
   "metadata": {},
   "outputs": [],
   "source": [
    "def click_open_close_time(self):\n",
    "  if(len(list(self.driver.find_elements_by_class_name(\"cX2WmPgCkHi__section-info-hour-text\")))!=0):\n",
    "        element = self.driver.find_element_by_class_name(\"cX2WmPgCkHi__section-info-hour-text\")\n",
    "        self.driver.implicitly_wait(5)\n",
    "        ActionChains(self.driver).move_to_element(element).click(element).perform()"
   ]
  },
  {
   "cell_type": "code",
   "execution_count": 16,
   "metadata": {},
   "outputs": [],
   "source": [
    "def get_location_open_close_time(self):\n",
    "\n",
    "  try:\n",
    "    days = self.driver.find_elements_by_class_name(\"lo7U087hsMA__row-header\") # It will be a list containing all HTML section the days names.\n",
    "    times = self.driver.find_elements_by_class_name(\"lo7U087hsMA__row-interval\") # It will be a list with HTML section of open and close time for the respective day.\n",
    "\n",
    "    day = [a.text for a in days] # Getting the text(day name) from each HTML day section.\n",
    "    open_close_time = [a.text for a in times] # Getting the text(open and close time) from each HTML open and close time section.\n",
    "\n",
    "    for i, j in zip(day, open_close_time):\n",
    "      self.location_data[\"Time\"][i] = j\n",
    "\n",
    "  except:\n",
    "    pass"
   ]
  },
  {
   "cell_type": "code",
   "execution_count": 17,
   "metadata": {},
   "outputs": [],
   "source": [
    "def get_popular_times(self):\n",
    "    \n",
    "    try:\n",
    "      a = self.driver.find_elements_by_class_name(\"section-popular-times-graph\") # It will be a List of the HTML Section of each day.\n",
    "      dic = {0:\"Sunday\", 1:\"Monday\", 2:\"Tuesday\", 3:\"Wednesday\", 4:\"Thursday\", 5:\"Friday\", 6:\"Saturday\"}\n",
    "      l = {\"Sunday\":[], \"Monday\":[], \"Tuesday\":[], \"Wednesday\":[], \"Thursday\":[], \"Friday\":[], \"Saturday\":[]}\n",
    "      count = 0\n",
    "\n",
    "      for i in a:\n",
    "        b = i.find_elements_by_class_name(\"section-popular-times-bar\") # It will be a list of HTML Section of each hour in a day.\n",
    "        for j in b:\n",
    "          x = j.get_attribute(\"aria-label\") # It gets the busy percentage value from HTML Section of each hour.\n",
    "          l[dic[count]].append(x)\n",
    "        count = count + 1\n",
    "\n",
    "      for i, j in l.items():\n",
    "        self.location_data[\"Popular Times\"][i] = j\n",
    "\n",
    "    except:\n",
    "      pass"
   ]
  },
  {
   "cell_type": "code",
   "execution_count": 18,
   "metadata": {},
   "outputs": [],
   "source": [
    "def click_all_reviews_button(self):\n",
    "  try:\n",
    "    WebDriverWait(self.driver, 20).until(EC.presence_of_element_located((By.CLASS_NAME, \"allxGeDnJMl__button\")))\n",
    "\n",
    "    element = self.driver.find_element_by_class_name(\"allxGeDnJMl__button\")\n",
    "    element.click()\n",
    "\n",
    "  except:\n",
    "    self.driver.quit()\n",
    "    return False\n",
    "\n",
    "  return True"
   ]
  },
  {
   "cell_type": "code",
   "execution_count": 19,
   "metadata": {},
   "outputs": [],
   "source": [
    "def scroll_the_page(self):\n",
    "    try:\n",
    "      WebDriverWait(self.driver, 10).until(EC.presence_of_element_located((By.CLASS_NAME, \"section-layout-root\"))) # Waits for the page to load.\n",
    "      pause_time = 2 # Waiting time after each scroll.\n",
    "      max_count = 5 # Number of times we will scroll the scroll bar to the bottom.\n",
    "      x = 0\n",
    "\n",
    "      while(x<max_count):\n",
    "        scrollable_div = self.driver.find_element_by_css_selector('div.section-layout.section-scrollbox.scrollable-y.scrollable-show') # It gets the section of the scroll bar.\n",
    "        try:\n",
    "          self.driver.execute_script('arguments[0].scrollTop = arguments[0].scrollHeight', scrollable_div) # Scroll it to the bottom.\n",
    "        except:\n",
    "          pass\n",
    "\n",
    "        time.sleep(pause_time) # wait for more reviews to load.\n",
    "        x=x+1\n",
    "\n",
    "    except:\n",
    "      self.driver.quit()"
   ]
  },
  {
   "cell_type": "code",
   "execution_count": 20,
   "metadata": {},
   "outputs": [],
   "source": [
    "def expand_all_reviews(self):\n",
    "    try:\n",
    "      element = self.driver.find_elements_by_class_name(\"section-expand-review\")\n",
    "      for i in element:\n",
    "        i.click()\n",
    "    except:\n",
    "      pass"
   ]
  },
  {
   "cell_type": "code",
   "execution_count": 21,
   "metadata": {},
   "outputs": [],
   "source": [
    "def get_reviews_data(self):\n",
    "\n",
    "    try:\n",
    "      review_names = self.driver.find_elements_by_class_name(\"section-review-title\") # Its a list of all the HTML sections with the reviewer name.\n",
    "      review_text = self.driver.find_elements_by_class_name(\"section-review-review-content\") # Its a list of all the HTML sections with the reviewer reviews.\n",
    "      review_dates = self.driver.find_elements_by_css_selector(\"[class='section-review-publish-date']\") # Its a list of all the HTML sections with the reviewer reviewed date.\n",
    "      review_stars = self.driver.find_elements_by_css_selector(\"[class='section-review-stars']\") # Its a list of all the HTML sections with the reviewer rating.\n",
    "\n",
    "      review_stars_final = []\n",
    "\n",
    "      for i in review_stars:\n",
    "        review_stars_final.append(i.get_attribute(\"aria-label\"))\n",
    "\n",
    "      review_names_list = [a.text for a in review_names]\n",
    "      review_text_list = [a.text for a in review_text]\n",
    "      review_dates_list = [a.text for a in review_dates]\n",
    "      review_stars_list = [a for a in review_stars_final]\n",
    "\n",
    "\n",
    "      for (a,b,c,d) in zip(review_names_list, review_text_list, review_dates_list, review_stars_list):\n",
    "        self.location_data[\"Reviews\"].append({\"name\":a, \"review\":b, \"date\":c, \"rating\":d})\n",
    "\n",
    "    except Exception as e:\n",
    "      pass"
   ]
  },
  {
   "cell_type": "code",
   "execution_count": 22,
   "metadata": {},
   "outputs": [],
   "source": [
    "def scrape(self, url): # Passed the URL as a variable\n",
    "    try:\n",
    "      self.driver.get(url) # Get is a method that will tell the driver to open at that particular URL\n",
    "\n",
    "    except Exception as e:\n",
    "      self.driver.quit()\n",
    "      return\n",
    "\n",
    "    time.sleep(10) # Waiting for the page to load.\n",
    "\n",
    "    self.click_open_close_time() # Calling the function to click the open and close time button.\n",
    "    self.get_location_data() # Calling the function to get all the location data.\n",
    "    self.get_location_open_close_time() # Calling to get open and close time for each day.\n",
    "    self.get_popular_times() # Gets the busy percentage for each hour of each day.\n",
    "    \n",
    "    if(self.click_all_reviews_button()==False): # Clicking the all reviews button and redirecting the driver to the all reviews page.\n",
    "      return(self.location_data)\n",
    "\n",
    "    time.sleep(5) # Waiting for the all reviews page to load.\n",
    "\n",
    "    self.scroll_the_page() # Scrolling the page to load all reviews.\n",
    "    self.expand_all_reviews() # Expanding the long reviews by clicking see more button in each review.\n",
    "    self.get_reviews_data() # Getting all the reviews data.\n",
    "\n",
    "    self.driver.quit() # Closing the driver instance.\n",
    "\n",
    "    return(self.location_data) # Returning the Scraped Data."
   ]
  },
  {
   "cell_type": "code",
   "execution_count": 26,
   "metadata": {},
   "outputs": [
    {
     "name": "stderr",
     "output_type": "stream",
     "text": [
      "C:\\Users\\HP\\AppData\\Local\\Temp\\ipykernel_10308\\1804687698.py:12: DeprecationWarning: executable_path has been deprecated, please pass in a Service object\n",
      "  self.driver = webdriver.Chrome(self.PATH, options=self.options)\n"
     ]
    },
    {
     "ename": "AttributeError",
     "evalue": "'WebDriver' object has no attribute 'scrape'",
     "output_type": "error",
     "traceback": [
      "\u001b[1;31m---------------------------------------------------------------------------\u001b[0m",
      "\u001b[1;31mAttributeError\u001b[0m                            Traceback (most recent call last)",
      "Cell \u001b[1;32mIn[26], line 3\u001b[0m\n\u001b[0;32m      1\u001b[0m url \u001b[39m=\u001b[39m \u001b[39m\"\u001b[39m\u001b[39mhttps://www.google.com/maps/search/wisata+balikpapan/\u001b[39m\u001b[39m\"\u001b[39m\n\u001b[0;32m      2\u001b[0m x \u001b[39m=\u001b[39m WebDriver()\n\u001b[1;32m----> 3\u001b[0m \u001b[39mprint\u001b[39m(x\u001b[39m.\u001b[39;49mscrape(url))\n",
      "\u001b[1;31mAttributeError\u001b[0m: 'WebDriver' object has no attribute 'scrape'"
     ]
    }
   ],
   "source": [
    "url = \"https://www.google.com/maps/search/wisata+balikpapan/\"\n",
    "x = WebDriver()\n",
    "print(x.scrape(url))"
   ]
  }
 ],
 "metadata": {
  "kernelspec": {
   "display_name": "Python 3",
   "language": "python",
   "name": "python3"
  },
  "language_info": {
   "codemirror_mode": {
    "name": "ipython",
    "version": 3
   },
   "file_extension": ".py",
   "mimetype": "text/x-python",
   "name": "python",
   "nbconvert_exporter": "python",
   "pygments_lexer": "ipython3",
   "version": "3.9.6"
  },
  "orig_nbformat": 4
 },
 "nbformat": 4,
 "nbformat_minor": 2
}
